{
 "cells": [
  {
   "cell_type": "code",
   "execution_count": 2,
   "metadata": {},
   "outputs": [],
   "source": [
    "from typing import List"
   ]
  },
  {
   "cell_type": "markdown",
   "metadata": {},
   "source": [
    "# TOC\n",
    "* [Problem1](#problem1)"
   ]
  },
  {
   "cell_type": "markdown",
   "metadata": {},
   "source": [
    "### 1. Two sum (Easy)<a id=problem1></a>\n",
    "Accepted\t260 ms\t29.7 MB\tpython3"
   ]
  },
  {
   "cell_type": "markdown",
   "metadata": {},
   "source": [
    "Given an array of integers, return indices of the two numbers such that they add up to a specific target.\n",
    "\n",
    "You may assume that each input would have exactly one solution, and you may not use the same element twice.\n",
    "\n",
    "Example:\n",
    "\n",
    "Given nums = [2, 7, 11, 15], target = 9,\n",
    "\n",
    "Because nums[0] + nums[1] = 2 + 7 = 9,\n",
    "return [0, 1]."
   ]
  },
  {
   "cell_type": "code",
   "execution_count": 3,
   "metadata": {},
   "outputs": [],
   "source": [
    "import numpy as np\n",
    "\n",
    "class Solution:\n",
    "    def twoSum(self, nums: List[int], target: int) -> List[int]:\n",
    "        narray = np.array(nums)\n",
    "        for i in range(narray.shape[0]):\n",
    "            res = (narray + narray[i])\n",
    "            j = None\n",
    "            try:\n",
    "                j = np.argwhere(res[i+1:] == target)[0][0]\n",
    "            except IndexError:\n",
    "                continue\n",
    "            if j is not None:\n",
    "                return [i,i+1+j]\n",
    "            "
   ]
  },
  {
   "cell_type": "markdown",
   "metadata": {},
   "source": [
    "### 2.) Add two Numbers (medium)\n",
    "Accepted\t72 ms\t12.8 MB\tpython3"
   ]
  },
  {
   "cell_type": "markdown",
   "metadata": {},
   "source": [
    "You are given two non-empty linked lists representing two non-negative integers. The digits are stored in reverse order and each of their nodes contain a single digit. Add the two numbers and return it as a linked list.\n",
    "\n",
    "You may assume the two numbers do not contain any leading zero, except the number 0 itself.\n",
    "\n",
    "Example:\n",
    "\n",
    "Input: (2 -> 4 -> 3) + (5 -> 6 -> 4)\n",
    "Output: 7 -> 0 -> 8\n",
    "Explanation: 342 + 465 = 807."
   ]
  },
  {
   "cell_type": "code",
   "execution_count": 7,
   "metadata": {},
   "outputs": [],
   "source": [
    "# Definition for singly-linked list.\n",
    "class ListNode:\n",
    "    def __init__(self, x):\n",
    "        self.val = x\n",
    "        self.next = None\n",
    "\n",
    "class Solution:\n",
    "    def addTwoNumbers(self, l1: ListNode, l2: ListNode) -> ListNode:\n",
    "        node1 = l1\n",
    "        node2 = l2\n",
    "        start = ListNode(0)\n",
    "        current = start\n",
    "        while True:\n",
    "            try:\n",
    "                val1 = node1.val\n",
    "            except AttributeError:\n",
    "                node1 = ListNode(0)\n",
    "            try:\n",
    "                val2 = node2.val\n",
    "            except AttributeError:\n",
    "                node2 = ListNode(0)\n",
    "            \n",
    "            res = node1.val + node2.val\n",
    "            \n",
    "            store = res % 10\n",
    "            carry = res // 10\n",
    "            \n",
    "            new_val = current.val + store\n",
    "            current.val = new_val % 10\n",
    "            carry += new_val // 10\n",
    "        \n",
    "            \n",
    "            \n",
    "            node1 = node1.next\n",
    "            node2 = node2.next\n",
    "            if (node1 is None) and (node2 is None):\n",
    "                break\n",
    "                \n",
    "            newNode = ListNode(carry)\n",
    "            current.next = newNode\n",
    "            current = newNode\n",
    "        \n",
    "        if carry:\n",
    "            final = ListNode(carry)\n",
    "            current.next = final\n",
    "        return start"
   ]
  },
  {
   "cell_type": "markdown",
   "metadata": {},
   "source": [
    "### 3.) Longest Substring Without Repeating Characters (Medium)"
   ]
  },
  {
   "cell_type": "markdown",
   "metadata": {},
   "source": [
    "Given a string, find the length of the longest substring without repeating characters.\n",
    "\n",
    "Example 1:\n",
    "\n",
    "Input: \"abcabcbb\"\n",
    "Output: 3 \n",
    "Explanation: The answer is \"abc\", with the length of 3. \n",
    "Example 2:\n",
    "\n",
    "Input: \"bbbbb\"\n",
    "Output: 1\n",
    "Explanation: The answer is \"b\", with the length of 1.\n",
    "Example 3:\n",
    "\n",
    "Input: \"pwwkew\"\n",
    "Output: 3\n",
    "Explanation: The answer is \"wke\", with the length of 3. \n",
    "             Note that the answer must be a substring, \"pwke\" is a subsequence and not a substring."
   ]
  },
  {
   "cell_type": "code",
   "execution_count": 8,
   "metadata": {},
   "outputs": [],
   "source": [
    "class Solution:\n",
    "    def lengthOfLongestSubstring(self, s: str) -> int:\n",
    "        non_repeat_str = ''\n",
    "        max_length = 0\n",
    "        for char in s:\n",
    "            try:\n",
    "                idx = non_repeat_str.index(char)     \n",
    "                non_repeat_str = non_repeat_str[idx+1:]\n",
    "            except ValueError:\n",
    "                pass\n",
    "            non_repeat_str+=char\n",
    "            current_length = len(non_repeat_str)\n",
    "            max_length = max(max_length, current_length)\n",
    "        return max_length\n",
    "        "
   ]
  },
  {
   "cell_type": "markdown",
   "metadata": {},
   "source": [
    "### 4.) WIP: Median of two sorted arrays (Hard)"
   ]
  },
  {
   "cell_type": "markdown",
   "metadata": {},
   "source": [
    "There are two sorted arrays nums1 and nums2 of size m and n respectively.\n",
    "\n",
    "Find the median of the two sorted arrays. The overall run time complexity should be O(log (m+n)).\n",
    "\n",
    "You may assume nums1 and nums2 cannot be both empty.\n",
    "\n",
    "Example 1:\n",
    "\n",
    "nums1 = [1, 3]\n",
    "nums2 = [2]\n",
    "\n",
    "The median is 2.0\n",
    "Example 2:\n",
    "\n",
    "nums1 = [1, 2]\n",
    "nums2 = [3, 4]\n",
    "\n",
    "The median is (2 + 3)/2 = 2.5"
   ]
  },
  {
   "cell_type": "code",
   "execution_count": 38,
   "metadata": {},
   "outputs": [],
   "source": [
    "import numpy as np\n",
    "\n",
    "class Solution:\n",
    "    def findMedianSortedArrays(self, nums1: List[int], nums2: List[int]) -> float:\n",
    "        max_num = max(nums1[-1], nums2[-1])\n",
    "        total = len(nums1) + len(nums2)\n",
    "        guess = max_num / 2\n",
    "        print(max_num, total, guess)\n",
    "        i, j  = np.searchsorted(nums1, guess), np.searchsorted(nums2, guess)\n",
    "        if i+j < total/2:\n",
    "            nums1 = nums1[i:]\n",
    "            nums2 = nums2[j:]\n",
    "        else:\n",
    "            nums1 = nums1[:i]\n",
    "            nums2 = nums2[:j]\n",
    "        return nums1, nums2\n",
    "        \n",
    "soln = Solution()"
   ]
  },
  {
   "cell_type": "code",
   "execution_count": 39,
   "metadata": {},
   "outputs": [
    {
     "name": "stdout",
     "output_type": "stream",
     "text": [
      "15 10 7.5\n"
     ]
    }
   ],
   "source": [
    "arr1, arr2 = [1,2,7,15],[3,4,5,8,9,10]\n",
    "res1, res2 = soln.findMedianSortedArrays(arr1, arr2)"
   ]
  },
  {
   "cell_type": "code",
   "execution_count": 40,
   "metadata": {},
   "outputs": [
    {
     "name": "stdout",
     "output_type": "stream",
     "text": [
      "[1, 2, 3, 4, 5, 7]\n"
     ]
    }
   ],
   "source": [
    "print(sorted(res1+res2))"
   ]
  },
  {
   "cell_type": "code",
   "execution_count": 41,
   "metadata": {},
   "outputs": [
    {
     "data": {
      "text/plain": [
       "([1, 2, 7], [3, 4, 5])"
      ]
     },
     "execution_count": 41,
     "metadata": {},
     "output_type": "execute_result"
    }
   ],
   "source": [
    "res1, res2"
   ]
  },
  {
   "cell_type": "code",
   "execution_count": 42,
   "metadata": {},
   "outputs": [
    {
     "data": {
      "text/plain": [
       "[1, 2, 3, 4, 5, 7, 8, 9, 10, 15]"
      ]
     },
     "execution_count": 42,
     "metadata": {},
     "output_type": "execute_result"
    }
   ],
   "source": [
    "sorted(arr1+arr2)"
   ]
  },
  {
   "cell_type": "code",
   "execution_count": null,
   "metadata": {},
   "outputs": [],
   "source": []
  }
 ],
 "metadata": {
  "kernelspec": {
   "display_name": "Python [conda env:Anaconda3]",
   "language": "python",
   "name": "conda-env-Anaconda3-py"
  },
  "language_info": {
   "codemirror_mode": {
    "name": "ipython",
    "version": 3
   },
   "file_extension": ".py",
   "mimetype": "text/x-python",
   "name": "python",
   "nbconvert_exporter": "python",
   "pygments_lexer": "ipython3",
   "version": "3.5.6"
  }
 },
 "nbformat": 4,
 "nbformat_minor": 2
}
