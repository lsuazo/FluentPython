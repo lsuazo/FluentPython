{
 "cells": [
  {
   "cell_type": "code",
   "execution_count": 21,
   "metadata": {},
   "outputs": [],
   "source": [
    "from typing import List"
   ]
  },
  {
   "cell_type": "markdown",
   "metadata": {},
   "source": [
    "# TOC\n",
    "* [Problem1](#problem1)"
   ]
  },
  {
   "cell_type": "markdown",
   "metadata": {},
   "source": [
    "### 1. Two sum (Easy)<a id=problem1></a>\n",
    "Accepted\t260 ms\t29.7 MB\tpython3"
   ]
  },
  {
   "cell_type": "markdown",
   "metadata": {},
   "source": [
    "Given an array of integers, return indices of the two numbers such that they add up to a specific target.\n",
    "\n",
    "You may assume that each input would have exactly one solution, and you may not use the same element twice.\n",
    "\n",
    "Example:\n",
    "\n",
    "Given nums = [2, 7, 11, 15], target = 9,\n",
    "\n",
    "Because nums[0] + nums[1] = 2 + 7 = 9,\n",
    "return [0, 1]."
   ]
  },
  {
   "cell_type": "code",
   "execution_count": 3,
   "metadata": {},
   "outputs": [],
   "source": [
    "import numpy as np\n",
    "\n",
    "class Solution:\n",
    "    def twoSum(self, nums: List[int], target: int) -> List[int]:\n",
    "        narray = np.array(nums)\n",
    "        for i in range(narray.shape[0]):\n",
    "            res = (narray + narray[i])\n",
    "            j = None\n",
    "            try:\n",
    "                j = np.argwhere(res[i+1:] == target)[0][0]\n",
    "            except IndexError:\n",
    "                continue\n",
    "            if j is not None:\n",
    "                return [i,i+1+j]\n",
    "            "
   ]
  },
  {
   "cell_type": "markdown",
   "metadata": {},
   "source": [
    "### 2.) Add two Numbers (medium)\n",
    "Accepted\t72 ms\t12.8 MB\tpython3"
   ]
  },
  {
   "cell_type": "markdown",
   "metadata": {},
   "source": [
    "You are given two non-empty linked lists representing two non-negative integers. The digits are stored in reverse order and each of their nodes contain a single digit. Add the two numbers and return it as a linked list.\n",
    "\n",
    "You may assume the two numbers do not contain any leading zero, except the number 0 itself.\n",
    "\n",
    "Example:\n",
    "\n",
    "Input: (2 -> 4 -> 3) + (5 -> 6 -> 4)\n",
    "Output: 7 -> 0 -> 8\n",
    "Explanation: 342 + 465 = 807."
   ]
  },
  {
   "cell_type": "code",
   "execution_count": 7,
   "metadata": {},
   "outputs": [],
   "source": [
    "# Definition for singly-linked list.\n",
    "class ListNode:\n",
    "    def __init__(self, x):\n",
    "        self.val = x\n",
    "        self.next = None\n",
    "\n",
    "class Solution:\n",
    "    def addTwoNumbers(self, l1: ListNode, l2: ListNode) -> ListNode:\n",
    "        node1 = l1\n",
    "        node2 = l2\n",
    "        start = ListNode(0)\n",
    "        current = start\n",
    "        while True:\n",
    "            try:\n",
    "                val1 = node1.val\n",
    "            except AttributeError:\n",
    "                node1 = ListNode(0)\n",
    "            try:\n",
    "                val2 = node2.val\n",
    "            except AttributeError:\n",
    "                node2 = ListNode(0)\n",
    "            \n",
    "            res = node1.val + node2.val\n",
    "            \n",
    "            store = res % 10\n",
    "            carry = res // 10\n",
    "            \n",
    "            new_val = current.val + store\n",
    "            current.val = new_val % 10\n",
    "            carry += new_val // 10\n",
    "        \n",
    "            \n",
    "            \n",
    "            node1 = node1.next\n",
    "            node2 = node2.next\n",
    "            if (node1 is None) and (node2 is None):\n",
    "                break\n",
    "                \n",
    "            newNode = ListNode(carry)\n",
    "            current.next = newNode\n",
    "            current = newNode\n",
    "        \n",
    "        if carry:\n",
    "            final = ListNode(carry)\n",
    "            current.next = final\n",
    "        return start"
   ]
  },
  {
   "cell_type": "markdown",
   "metadata": {},
   "source": [
    "### 3.) Longest Substring Without Repeating Characters (Medium)"
   ]
  },
  {
   "cell_type": "markdown",
   "metadata": {},
   "source": [
    "Given a string, find the length of the longest substring without repeating characters.\n",
    "\n",
    "Example 1:\n",
    "\n",
    "Input: \"abcabcbb\"\n",
    "Output: 3 \n",
    "Explanation: The answer is \"abc\", with the length of 3. \n",
    "Example 2:\n",
    "\n",
    "Input: \"bbbbb\"\n",
    "Output: 1\n",
    "Explanation: The answer is \"b\", with the length of 1.\n",
    "Example 3:\n",
    "\n",
    "Input: \"pwwkew\"\n",
    "Output: 3\n",
    "Explanation: The answer is \"wke\", with the length of 3. \n",
    "             Note that the answer must be a substring, \"pwke\" is a subsequence and not a substring."
   ]
  },
  {
   "cell_type": "code",
   "execution_count": 8,
   "metadata": {},
   "outputs": [],
   "source": [
    "class Solution:\n",
    "    def lengthOfLongestSubstring(self, s: str) -> int:\n",
    "        non_repeat_str = ''\n",
    "        max_length = 0\n",
    "        for char in s:\n",
    "            try:\n",
    "                idx = non_repeat_str.index(char)     \n",
    "                non_repeat_str = non_repeat_str[idx+1:]\n",
    "            except ValueError:\n",
    "                pass\n",
    "            non_repeat_str+=char\n",
    "            current_length = len(non_repeat_str)\n",
    "            max_length = max(max_length, current_length)\n",
    "        return max_length\n",
    "        "
   ]
  },
  {
   "cell_type": "markdown",
   "metadata": {},
   "source": [
    "### 4.) WIP: Median of two sorted arrays (Hard)\n",
    "* cheat soln: 195 ms, 28.5MB"
   ]
  },
  {
   "cell_type": "markdown",
   "metadata": {},
   "source": [
    "There are two sorted arrays nums1 and nums2 of size m and n respectively.\n",
    "\n",
    "Find the median of the two sorted arrays. The overall run time complexity should be O(log (m+n)).\n",
    "\n",
    "You may assume nums1 and nums2 cannot be both empty.\n",
    "\n",
    "Example 1:\n",
    "\n",
    "nums1 = [1, 3]\n",
    "nums2 = [2]\n",
    "\n",
    "The median is 2.0\n",
    "Example 2:\n",
    "\n",
    "nums1 = [1, 2]\n",
    "nums2 = [3, 4]\n",
    "\n",
    "The median is (2 + 3)/2 = 2.5"
   ]
  },
  {
   "cell_type": "code",
   "execution_count": 17,
   "metadata": {},
   "outputs": [],
   "source": [
    "import numpy as np \n",
    "\n",
    "class CheatSolution:\n",
    "    def findMedianSortedArrays(self, nums1, nums2):\n",
    "        return np.median(np.array(nums1+nums2))"
   ]
  },
  {
   "cell_type": "code",
   "execution_count": 89,
   "metadata": {},
   "outputs": [
    {
     "data": {
      "text/plain": [
       "4.0"
      ]
     },
     "execution_count": 89,
     "metadata": {},
     "output_type": "execute_result"
    }
   ],
   "source": [
    "soln_cheat = CheatSolution()\n",
    "soln_cheat.findMedianSortedArrays([1,3,5],[5,67,3])"
   ]
  },
  {
   "cell_type": "code",
   "execution_count": 108,
   "metadata": {},
   "outputs": [],
   "source": [
    "import numpy as np\n",
    "\n",
    "class Solution:\n",
    "    def findMedianSortedArrays(self, nums1: List[int], nums2: List[int]) -> float:\n",
    "        total = len(nums1) + len(nums2)\n",
    "        target_index = total//2\n",
    "        large, small = (nums1, nums2) if len(nums1) > len(nums2) else (nums2, nums1)\n",
    "        l = target_index\n",
    "        s = 0\n",
    "        for _ in range(10):\n",
    "            print(\"(l,s): {}, (large[l], large[s]): {})\".format((l,s), (large[l],small[s])))\n",
    "            if small[s+1] <= large[l]:\n",
    "                print('adjusting')\n",
    "                l -=1\n",
    "                s += 1              \n",
    "soln = Solution()"
   ]
  },
  {
   "cell_type": "code",
   "execution_count": 109,
   "metadata": {},
   "outputs": [
    {
     "name": "stdout",
     "output_type": "stream",
     "text": [
      "Sorted: [1, 1, 1, 1, 2, 3, 4, 5, 7, 8, 9, 10, 13, 14, 15, 19, 34, 79, 89, 99, 100, 105, 106], med_index: 11.5,  median: 10.0\n",
      "(l,s): (11, 0), (large[l], large[s]): (106, 3))\n",
      "adjusting\n",
      "(l,s): (10, 1), (large[l], large[s]): (105, 4))\n",
      "adjusting\n",
      "(l,s): (9, 2), (large[l], large[s]): (79, 5))\n",
      "adjusting\n",
      "(l,s): (8, 3), (large[l], large[s]): (34, 8))\n",
      "adjusting\n",
      "(l,s): (7, 4), (large[l], large[s]): (19, 9))\n",
      "adjusting\n",
      "(l,s): (6, 5), (large[l], large[s]): (15, 10))\n",
      "adjusting\n",
      "(l,s): (5, 6), (large[l], large[s]): (7, 13))\n",
      "(l,s): (5, 6), (large[l], large[s]): (7, 13))\n",
      "(l,s): (5, 6), (large[l], large[s]): (7, 13))\n",
      "(l,s): (5, 6), (large[l], large[s]): (7, 13))\n"
     ]
    }
   ],
   "source": [
    "arr1, arr2 = [1,1,1,1,2,7,15,19,34,79,105,106],[3,4,5,8,9,10,13,14,89,99,100]\n",
    "sor = sorted(arr1+arr2)\n",
    "print(\"Sorted: {}, med_index: {},  median: {}\".format(sor, len(sor)/2, np.median(sor)))\n",
    "res = soln.findMedianSortedArrays(arr1, arr2)\n",
    "res"
   ]
  },
  {
   "cell_type": "markdown",
   "metadata": {},
   "source": [
    "### 5.) Longest palindormic substring\n",
    "* Straight forward algo: 8575 ms (<5%) and 12.6 MB (<100%)\n",
    "* First improvement: 5668 ms (<17%) and 12.8 MB (<100%)\n",
    "* fun solution: 5704 ms (<17%) and 60.5MB (<5%) [I like this solution, but would have to optimize to beat above]"
   ]
  },
  {
   "cell_type": "markdown",
   "metadata": {},
   "source": [
    "Given a string s, find the longest palindromic substring in s. You may assume that the maximum length of s is 1000.\n",
    "\n",
    "Example 1:\n",
    "\n",
    "Input: \"babad\"\n",
    "Output: \"bab\"\n",
    "Note: \"aba\" is also a valid answer.\n",
    "Example 2:\n",
    "\n",
    "Input: \"cbbd\"\n",
    "Output: \"bb\""
   ]
  },
  {
   "cell_type": "code",
   "execution_count": 44,
   "metadata": {},
   "outputs": [],
   "source": [
    "class Solution:\n",
    "    def longestPalindrome(self, s: str) -> str:\n",
    "        def is_palindrome(s_):\n",
    "            return s_ == s_[::-1]\n",
    "        \n",
    "        largest = ''\n",
    "        for i in range(len(s)):\n",
    "            for j in range(i,len(s)):\n",
    "                substr = s[i:j+1]\n",
    "                if is_palindrome(substr) and len(substr) > len(largest):\n",
    "                    largest = substr\n",
    "                    \n",
    "        return largest"
   ]
  },
  {
   "cell_type": "code",
   "execution_count": null,
   "metadata": {},
   "outputs": [],
   "source": [
    "class Solution:\n",
    "    def longestPalindrome(self, s: str) -> str:\n",
    "        def is_palindrome(s_):\n",
    "            return s_ == s_[::-1]\n",
    "        \n",
    "        largest = ''\n",
    "        total_length = len(s)\n",
    "        for i in range(total_length):\n",
    "            for j in range(i,total_length):\n",
    "                substr = s[i:j+1]\n",
    "                if is_palindrome(substr) and len(substr) > len(largest):\n",
    "                    largest = substr\n",
    "                if (total_length - i) < len(largest):\n",
    "                    return largest\n",
    "        return largest"
   ]
  },
  {
   "cell_type": "code",
   "execution_count": 138,
   "metadata": {},
   "outputs": [],
   "source": [
    "import numpy as np\n",
    "\n",
    "class Solution:\n",
    "    def longestPalindrome(self, s: str) -> str:\n",
    "        if len(s) <= 1:\n",
    "            return s\n",
    "        p =  np.tril(np.ones(len(s)))\n",
    "        \n",
    "        for offset in range(1,len(s)):\n",
    "            for i in range(0,len(s)-offset):\n",
    "                p[i,i+offset] = p[i+1,i+offset-1] and s[i]==s[i+offset]\n",
    "          \n",
    "        pals = np.argwhere(np.triu(p))\n",
    "        max_pal_idx = np.argmax(pals[:,1] - pals[:,0])\n",
    "        i,j = pals[max_pal_idx]\n",
    "        return s[i:j+1]\n"
   ]
  }
 ],
 "metadata": {
  "kernelspec": {
   "display_name": "Python [conda env:Anaconda3]",
   "language": "python",
   "name": "conda-env-Anaconda3-py"
  },
  "language_info": {
   "codemirror_mode": {
    "name": "ipython",
    "version": 3
   },
   "file_extension": ".py",
   "mimetype": "text/x-python",
   "name": "python",
   "nbconvert_exporter": "python",
   "pygments_lexer": "ipython3",
   "version": "3.5.6"
  }
 },
 "nbformat": 4,
 "nbformat_minor": 2
}
