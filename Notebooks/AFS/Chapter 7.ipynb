{
 "cells": [
  {
   "cell_type": "markdown",
   "metadata": {},
   "source": [
    "# Function Decorators and Closures\n",
    "\n",
    "## Decorators \n",
    "\n",
    "- Decorators let us mark functions in the source code to enhance their behavior in some way\n",
    "\n",
    "- A decorator is a callable that takes another function as an argument (the decorated function)\n",
    " "
   ]
  },
  {
   "cell_type": "code",
   "execution_count": 3,
   "metadata": {},
   "outputs": [],
   "source": [
    "def deco(func):\n",
    "    def inner():\n",
    "        print('running inner()')\n",
    "    return inner\n",
    "@deco\n",
    "def target():\n",
    "    print('running target()')"
   ]
  },
  {
   "cell_type": "code",
   "execution_count": 5,
   "metadata": {},
   "outputs": [
    {
     "name": "stdout",
     "output_type": "stream",
     "text": [
      "running inner()\n"
     ]
    }
   ],
   "source": [
    "target()"
   ]
  },
  {
   "cell_type": "markdown",
   "metadata": {},
   "source": [
    "1) They have the power to replace the decorated function with a different one\n",
    "2) They are executed immediately when a module is loaded. This is explained next\n",
    "\n",
    "* Decorators run once when the decorated function is defined\n",
    "\n",
    "* The decorator is usually defined in one module and applied to functions in other modules\n",
    "* Most decorators define an inner function and return it\n",
    "\n",
    "## Decorator-Enhanced Strategy Pattern\n",
    "\n",
    "- Using a registration decorator to gather a list of functions in orger to implement design aptterns such as \"Strategy\"\n",
    "\n",
    "## Variable Scope Rules\n",
    "\n",
    "- If a function requires to treat a variable as a globa variable, the _global_ keyword is used\n",
    "\n",
    "## Closures\n",
    "\n",
    "* Confused with lambdas because both are normally used to create nested functions\n",
    "\n",
    "- Closures are functions with an extended scope that encompasses nonglobal variables referenced in the body of the function. \n",
    "\n",
    "- Closures are essential for effectrrive asynchronous programming with callbacks, and for functional programming"
   ]
  },
  {
   "cell_type": "code",
   "execution_count": 6,
   "metadata": {},
   "outputs": [],
   "source": [
    "def make_averager():\n",
    "    series = []\n",
    "    def averager(new_value):\n",
    "        series.append(new_value)\n",
    "        total = sum(series)\n",
    "        return total/len(series)\n",
    "    return averager"
   ]
  },
  {
   "cell_type": "code",
   "execution_count": 8,
   "metadata": {},
   "outputs": [
    {
     "data": {
      "text/plain": [
       "10.5"
      ]
     },
     "execution_count": 8,
     "metadata": {},
     "output_type": "execute_result"
    }
   ],
   "source": [
    "avg = make_averager()\n",
    "avg(10)\n",
    "avg(11)"
   ]
  },
  {
   "cell_type": "code",
   "execution_count": 9,
   "metadata": {},
   "outputs": [
    {
     "data": {
      "text/plain": [
       "('series',)"
      ]
     },
     "execution_count": 9,
     "metadata": {},
     "output_type": "execute_result"
    }
   ],
   "source": [
    " avg.__code__.co_freevars"
   ]
  },
  {
   "cell_type": "markdown",
   "metadata": {},
   "source": [
    "- free variable\n",
    "    - Variable that is not bound in the local scope\n",
    "\n",
    "## The nonlocal Declaration\n",
    "\n",
    "- It lets the user flag a variable as a free variable even when it is assigned a new value within the function.\n",
    "\n",
    "## Decorators in the Standard Library\n",
    "\n",
    "- 3 Built-in functions designed to decorate methods\n",
    "    - property\n",
    "    - classmethod \n",
    "    - staticmethod\n",
    "\n",
    "\n",
    "## Memoization with functools.lru_cache\n",
    "\n",
    "- Implements memoization\n",
    "    - An optimization technique that works by saving the results of previous invocations of an expensive function\n",
    "    \n",
    "* lru stands for Least Recently Used\n",
    "\n",
    " - Full Signature\n",
    "    - functools.lru_cache(maxsize=128, typed=False)\n",
    "\n",
    "* Very useful for recursive functions such as a fibonacci sequence\n",
    "    - In the case of fibonacci, values are stored so it doesnt have to be called as many times as if called normally\n",
    "    \n",
    "    \n",
    "## Generic Functions with Single Dispatch\n",
    "\n",
    "- Used in the same way we would use function overloading in c++\n",
    "    - Specialized functions are decorated with @«base_function».register(«type»)\n",
    "    \n",
    "## Stacked Decorators\n",
    "\n",
    "@d1<br>\n",
    "@d2<br>\n",
    "def f():<br>\n",
    "    print('f')\n",
    " \n",
    "Is the same as:\n",
    "\n",
    "def f():<br>\n",
    "    print('f') <br>\n",
    "f = d1(d2(f))<br>\n"
   ]
  },
  {
   "cell_type": "code",
   "execution_count": null,
   "metadata": {},
   "outputs": [],
   "source": []
  }
 ],
 "metadata": {
  "kernelspec": {
   "display_name": "Python 3",
   "language": "python",
   "name": "python3"
  },
  "language_info": {
   "codemirror_mode": {
    "name": "ipython",
    "version": 3
   },
   "file_extension": ".py",
   "mimetype": "text/x-python",
   "name": "python",
   "nbconvert_exporter": "python",
   "pygments_lexer": "ipython3",
   "version": "3.6.4"
  }
 },
 "nbformat": 4,
 "nbformat_minor": 2
}
