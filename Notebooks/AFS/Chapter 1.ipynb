{
 "cells": [
  {
   "cell_type": "markdown",
   "metadata": {},
   "source": [
    "# The Python Data Model"
   ]
  },
  {
   "cell_type": "markdown",
   "metadata": {},
   "source": [
    "## Special methods\n",
    "- Author Steve Holden coined the term \"Dunder Methods\" as a slang for special methods.\n",
    "    - \"under-under-x-under-under\"\n",
    "- The Python interpreter invokes special methods to perform basic operations. Mehtods are not called directly by the user.\n",
    "    - Always written with leading and trailing double underscores\n",
    "         - Ex. \\__getitem\\__ -> is called by var[x].\n",
    "\n",
    "*As seen in java when inheriting from Object class\n",
    "\n",
    "### Collections\n",
    "- Module that implements container datatypes\n",
    "    - namedtuple : Bundles of attributes with no custom methods\n",
    "        - Ex. namedtuple('Card', ['rank', 'suit'])\n",
    "        \n",
    "### Random\n",
    "- Random.choice just need an object as a parameter to make usage of the dunder getitem\n",
    "\n",
    "### Iteration\n",
    "- \\__getitem__ delegates to the [ ] operator and makes an objects iterable\n",
    "    - Allows slicing on an object \n",
    "    \n",
    "- Often implicit\n",
    "- \"in\" operator for sequential scan when there is no \\__contains__ method available\n",
    "    \n",
    "### Inheritance\n",
    "- By inheriting from Object class, one doe not inherit all of its functionality.\n",
    "    - Dunder Methods have to be implemented\n",
    "\n",
    "### String Representation\n",
    "- \\__repr__ gets the string representation of the object when inspecting the object\n",
    "    - if possible, should match the source code necessary to create the object being represented\n",
    "- \\*Will be called as a fallback if no \\__str__ method exists\n",
    "\n",
    "### Boolean Values\n",
    "- By default a user-defined classis will return true\n",
    "- If \\__bool__ is implemented, bool(x) calls the special method\n",
    "     - If the there is no \\__bool__,   \\__len__ is called and returns true if != 0\n"
   ]
  }
 ],
 "metadata": {
  "kernelspec": {
   "display_name": "Python 3",
   "language": "python",
   "name": "python3"
  },
  "language_info": {
   "codemirror_mode": {
    "name": "ipython",
    "version": 3
   },
   "file_extension": ".py",
   "mimetype": "text/x-python",
   "name": "python",
   "nbconvert_exporter": "python",
   "pygments_lexer": "ipython3",
   "version": "3.6.4"
  }
 },
 "nbformat": 4,
 "nbformat_minor": 2
}
