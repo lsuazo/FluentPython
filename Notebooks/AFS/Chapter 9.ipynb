{
 "cells": [
  {
   "cell_type": "markdown",
   "metadata": {},
   "source": [
    "# A Pythonic Object\n",
    "\n",
    "## Object Representations\n",
    "\n",
    "- repr()\n",
    "    - Returns a string representing the object for developer\n",
    "- str()\n",
    "    - Returns a string representing the object for user\n",
    "    \n",
    "- There are two additional special methods to support alternative representations of objects:\n",
    "    - __bytes__\n",
    "         - Analogous to str()\n",
    "    - __format__\n",
    "         - Displays objects using special formatting codes\n",
    "    \n",
    "## Vector Class Redux\n"
   ]
  },
  {
   "cell_type": "code",
   "execution_count": 4,
   "metadata": {},
   "outputs": [],
   "source": [
    "class Vector2d:\n",
    "    typecode = 'd'\n",
    "    def __init__(self, x, y):\n",
    "        self.x = float(x)\n",
    "        self.y = float(y)\n",
    " \n",
    "    def __iter__(self):\n",
    "        return (i for i in (self.x, self.y))\n",
    "    \n",
    "    def __repr__(self):\n",
    "        class_name = type(self).__name__\n",
    "        return '{}({!r}, {!r})'.format(class_name, *self)\n",
    " \n",
    "    def __str__(self):\n",
    "        return str(tuple(self))\n",
    " \n",
    "    def __bytes__(self):\n",
    "        return (bytes([ord(self.typecode)]) +\n",
    "        bytes(array(self.typecode, self)))\n",
    " \n",
    "    def __eq__(self, other):\n",
    "        return tuple(self) == tuple(other)\n",
    " \n",
    "    def __abs__(self):\n",
    "        return math.hypot(self.x, self.y)\n",
    " \n",
    "    def __bool__(self):\n",
    "        return bool(abs(self)) "
   ]
  },
  {
   "cell_type": "markdown",
   "metadata": {},
   "source": [
    "## An Alternative Constructor"
   ]
  },
  {
   "cell_type": "code",
   "execution_count": null,
   "metadata": {},
   "outputs": [],
   "source": [
    "@classmethod\n",
    "def frombytes(cls, octets):\n",
    "    typecode = chr(octets[0])\n",
    "    memv = memoryview(octets[1:]).cast(typecode)\n",
    "    return cls(*memv) "
   ]
  },
  {
   "cell_type": "markdown",
   "metadata": {},
   "source": [
    "##  classmethod Vs staticmethod\n",
    "\n",
    "- classmethod\n",
    "    - Defines a method that operates on the class and not the instances\n",
    "    - It changes the way the method is called, recieves the class itself as the first argument\n",
    "        - Commonly used as alternative constructor\n",
    "- staticmethod\n",
    "    - Changes a method so that it recieves no special first argument\n",
    "    - A plain function that happens to live inside a class body\n",
    "\n",
    "## Formatted Displays\n",
    "\n",
    "- The format() built-in function and the str.format() method delegate the actual formatting to each type by calling their .__format__(format_spec) method."
   ]
  },
  {
   "cell_type": "code",
   "execution_count": null,
   "metadata": {},
   "outputs": [],
   "source": [
    "def __format__(self, fmt_spec=''):\n",
    "    components = (format(c, fmt_spec) for c in self) #\n",
    "    return '({}, {})'.format(*components) "
   ]
  },
  {
   "cell_type": "markdown",
   "metadata": {},
   "source": [
    "## A Hashable Vector2d\n",
    "\n",
    "- To make an object hashable, \\__hash\\__ has to be implemented\n",
    "    - \\__eq\\__ must also be implemented to compare values\n",
    "    - In addition just immutables are hashable\n",
    "\n",
    "- Two leading underscores make an attribute private\n",
    "- The @property decorator marks the getter method of a property"
   ]
  },
  {
   "cell_type": "code",
   "execution_count": null,
   "metadata": {},
   "outputs": [],
   "source": [
    "def __hash__(self):\n",
    "    return hash(self.x) ^ hash(self.y)"
   ]
  },
  {
   "cell_type": "markdown",
   "metadata": {},
   "source": [
    "## Private and \"Protected\" Attributes in Python\n",
    "\n",
    "- Trailing underscores make an attribute private\n",
    "    - Attribute is still accessible but is kept hidden from the user\n",
    "\n",
    "- Single underscore does not hide the attribute but it indicates that the attribute is \"protected\"\n",
    "\n",
    "## Saving Space with the __slots__ Class Attribute\n",
    "\n",
    "- Python stores instance attributes in per-instance dictionaries\n",
    "    - Significant memory usage due to the underlying hash table used to provide fast access\n",
    "\n",
    "- \\__slots\\__ class attribute can save a lot of memory, by letting the interpreter store the instance attributes ina  tuple instead of a dict"
   ]
  },
  {
   "cell_type": "code",
   "execution_count": null,
   "metadata": {},
   "outputs": [],
   "source": [
    "class Vector2d:\n",
    "    __slots__ = ('__x', '__y')\n",
    "    typecode = 'd'"
   ]
  },
  {
   "cell_type": "markdown",
   "metadata": {},
   "source": [
    "## The Problems with __slots__\n",
    "\n",
    "- Has to be redeclared in each subclass\n",
    "- All attributes must be in slots for it to be used, can't mix and match"
   ]
  }
 ],
 "metadata": {
  "kernelspec": {
   "display_name": "Python 3",
   "language": "python",
   "name": "python3"
  },
  "language_info": {
   "codemirror_mode": {
    "name": "ipython",
    "version": 3
   },
   "file_extension": ".py",
   "mimetype": "text/x-python",
   "name": "python",
   "nbconvert_exporter": "python",
   "pygments_lexer": "ipython3",
   "version": "3.6.4"
  }
 },
 "nbformat": 4,
 "nbformat_minor": 2
}
