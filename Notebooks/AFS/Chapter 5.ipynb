{
 "cells": [
  {
   "cell_type": "markdown",
   "metadata": {},
   "source": [
    "# First-Class Functions\n",
    "\n",
    "- First-class object \n",
    "    - Created at runtime\n",
    "    - Assigned to a variable or element in a data structure\n",
    "    - Passed as an argument to a function\n",
    "    - Returned as the result of a function\n",
    "\n",
    "## Treating a Function Like an Object\n",
    "- User defined functions are instances of a function class\n",
    "- We can assign a function to a variable adn call it through that name\n",
    "\n",
    "## Higher-Order Functions\n",
    "- A function that takes a function as an argument or returns a function as the result\n",
    "    - Ex. Map\n",
    "        - Takes a function and arguments to be pased to said function\n",
    "    - Ex. Sorted\n",
    "        - Can take a function that dictates how to sort the collection\n",
    "        - Any one argument function can be used as a key"
   ]
  },
  {
   "cell_type": "code",
   "execution_count": 3,
   "metadata": {},
   "outputs": [
    {
     "data": {
      "text/plain": [
       "['fig', 'apple', 'cherry', 'banana', 'raspberry', 'strawberry']"
      ]
     },
     "execution_count": 3,
     "metadata": {},
     "output_type": "execute_result"
    }
   ],
   "source": [
    "fruits = ['strawberry', 'fig', 'apple', 'cherry', 'raspberry', 'banana']\n",
    "sorted(fruits, key=len)"
   ]
  },
  {
   "cell_type": "markdown",
   "metadata": {},
   "source": [
    "## Modern Replacements for map, filter and reduce\n",
    "- map and filter\n",
    "    - Can be replaced by listcomp or genexp\n",
    "        - More readable\n",
    "- reduce\n",
    "    - Can be replaced by the sum built-in\n",
    "\n",
    "\n",
    "*map to listcomp"
   ]
  },
  {
   "cell_type": "code",
   "execution_count": 5,
   "metadata": {},
   "outputs": [],
   "source": [
    "def factorial(n):\n",
    "    '''returns n!'''\n",
    "    return 1 if n < 2 else n * factorial(n-1)"
   ]
  },
  {
   "cell_type": "code",
   "execution_count": 6,
   "metadata": {},
   "outputs": [
    {
     "data": {
      "text/plain": [
       "[1, 1, 2, 6, 24, 120]"
      ]
     },
     "execution_count": 6,
     "metadata": {},
     "output_type": "execute_result"
    }
   ],
   "source": [
    "list(map(factorial, range(6)))"
   ]
  },
  {
   "cell_type": "code",
   "execution_count": 7,
   "metadata": {},
   "outputs": [
    {
     "data": {
      "text/plain": [
       "[1, 1, 2, 6, 24, 120]"
      ]
     },
     "execution_count": 7,
     "metadata": {},
     "output_type": "execute_result"
    }
   ],
   "source": [
    "[factorial(n) for n in range(6)]"
   ]
  },
  {
   "cell_type": "markdown",
   "metadata": {},
   "source": [
    "*reduce to Sum"
   ]
  },
  {
   "cell_type": "code",
   "execution_count": 8,
   "metadata": {},
   "outputs": [],
   "source": [
    "from functools import reduce\n",
    "from operator import add"
   ]
  },
  {
   "cell_type": "code",
   "execution_count": 10,
   "metadata": {},
   "outputs": [
    {
     "data": {
      "text/plain": [
       "4950"
      ]
     },
     "execution_count": 10,
     "metadata": {},
     "output_type": "execute_result"
    }
   ],
   "source": [
    "reduce(add, range(100))"
   ]
  },
  {
   "cell_type": "code",
   "execution_count": 11,
   "metadata": {},
   "outputs": [
    {
     "data": {
      "text/plain": [
       "4950"
      ]
     },
     "execution_count": 11,
     "metadata": {},
     "output_type": "execute_result"
    }
   ],
   "source": [
    "sum(range(100))"
   ]
  },
  {
   "cell_type": "markdown",
   "metadata": {},
   "source": [
    "## Anonymous Functions\n",
    "- lambda creates an anonymous function within a Python expression\n",
    "    - The body cannot make assignments or use any other statements such as while, try, etc."
   ]
  },
  {
   "cell_type": "code",
   "execution_count": 12,
   "metadata": {},
   "outputs": [
    {
     "data": {
      "text/plain": [
       "['banana', 'apple', 'fig', 'raspberry', 'strawberry', 'cherry']"
      ]
     },
     "execution_count": 12,
     "metadata": {},
     "output_type": "execute_result"
    }
   ],
   "source": [
    "fruits = ['strawberry', 'fig', 'apple', 'cherry', 'raspberry', 'banana']\n",
    "sorted(fruits, key=lambda word: word[::-1])"
   ]
  },
  {
   "cell_type": "markdown",
   "metadata": {},
   "source": [
    "- Syntatic restrictions tend to make nontrivial lambdas either unreadable or unworkable\n",
    "\n",
    "#### Lambda Refactoring Recipe\n",
    "- Comment the purpose of the lambda\n",
    "- Convert lambda to a def statement, using a name that captures the essence\n",
    "- Remove the comment\n",
    "\n",
    "## The Seven Falvors of Callable Objects\n",
    "- The call () operator can be applied to other objects other than user functions\n",
    "    - callable() checks if object can be called\n",
    "    \n",
    "- User-defined functions\n",
    "    - def || lambda\n",
    "- Built-in functions\n",
    "    - implemented in C\n",
    "        - len, time.strftime\n",
    "- Built-in methods\n",
    "    - implemented in C\n",
    "        - dict.get\n",
    "- Methods\n",
    "    - functions defined inside a class\n",
    "- Classes\n",
    "    - runs __new__ method to create instance | __init__ to initialize | instance is returned to caller\n",
    "        - Instead of having to call new?\n",
    "- Class instances\n",
    "    -  if __class__ method is defined, instance can be invoked as function\n",
    "- Generator Functions\n",
    "    - functions or methods that use the *yield* keyword\n",
    "        - return a generator object\n",
    "        \n",
    "## User-Defined Callable Types\n",
    "- Arbitrary python objects may also be made to behave like function\n",
    "    - All it takes is the implementation of a __call__ instance method\n",
    "        - Class would then become callable and could be used as both a function or a class\n",
    "\n",
    "## Function Introspection\n",
    "- dir(functionName) -> Attributes of said function\n",
    "\n",
    "## From Positional to Keyword-Only Parameters\n",
    "- * and ** are used to pass multiple arguments and keyword arguments respectively\n",
    "    - Keyword-only argumnets do not need to have a default value\n",
    "\n",
    "## Retrieving Information About Parameters\n",
    "- __defaults__\n",
    "    - Returns a tuple with the default parameters of a function\n",
    "        - Identified only by their position, hard ot tell which value belongs to each parameter\n",
    "- signature(name)\n",
    "    - Returns an inspect.Signature object that lets the user read an ordered mapping of names to inspect.Parameter objects\n",
    "        - POSITIONAL_OR_KEYWORD\n",
    "            - A parameter that may be passed as a positional or as a keyword argument (most Python function parameters are of this kind).\n",
    "        - VAR_POSITIONAL\n",
    "            - A tuple of positional parameters.\n",
    "        - VAR_KEYWORD\n",
    "            - A dict of keyword parameters.\n",
    "         - KEYWORD_ONLY\n",
    "            - A keyword-only parameter (new in Python 3).\n",
    "        - POSITIONAL_ONLY\n",
    "            - A positional-only parameter\n",
    "- __code__.co_varnames\n",
    "    - Returns a tuple with all the local variables used inside the class\n",
    "- __code__.co_argcount\n",
    "    - Returns the number of arguments in a function\n",
    "\n",
    "## Function Annotations\n",
    "- Attach metadata to the parameters of a function declaration and its return value\n",
    "    - Annotations for default values go before the '=' sign\n",
    "    - To anotate the return value \n",
    "        - add -> and another expression between the ) and the :"
   ]
  }
 ],
 "metadata": {
  "kernelspec": {
   "display_name": "Python 3",
   "language": "python",
   "name": "python3"
  },
  "language_info": {
   "codemirror_mode": {
    "name": "ipython",
    "version": 3
   },
   "file_extension": ".py",
   "mimetype": "text/x-python",
   "name": "python",
   "nbconvert_exporter": "python",
   "pygments_lexer": "ipython3",
   "version": "3.6.4"
  }
 },
 "nbformat": 4,
 "nbformat_minor": 2
}
