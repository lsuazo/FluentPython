{
 "cells": [
  {
   "cell_type": "markdown",
   "metadata": {},
   "source": [
    "# Text Versus Bytes\n",
    "\n",
    "## Charcter Issues\n",
    "\n",
    "- String\n",
    "    - Sequence of characters\n",
    "- Character\n",
    "    - Unicode character\n",
    "        - Separates the identity of characters from specific byte representations\n",
    "        - Code Point -> Identity fo character\n",
    "            - 4 to 6 hexadecimal digits preceded byt U+\n",
    "            \n",
    "- Encoding\n",
    "    - Algorithm that convert code points to byte sequences and vice versa\n",
    "  \n"
   ]
  },
  {
   "cell_type": "code",
   "execution_count": 1,
   "metadata": {},
   "outputs": [
    {
     "data": {
      "text/plain": [
       "4"
      ]
     },
     "execution_count": 1,
     "metadata": {},
     "output_type": "execute_result"
    }
   ],
   "source": [
    "s = \"cafe\"\n",
    "len(s)"
   ]
  },
  {
   "cell_type": "code",
   "execution_count": 7,
   "metadata": {},
   "outputs": [
    {
     "name": "stdout",
     "output_type": "stream",
     "text": [
      "b'cafe'\n"
     ]
    }
   ],
   "source": [
    "a = s.encode('utf8')\n",
    "print(a)"
   ]
  },
  {
   "cell_type": "markdown",
   "metadata": {},
   "source": [
    "var \"a\" encoded?"
   ]
  },
  {
   "cell_type": "markdown",
   "metadata": {},
   "source": [
    "## Byte Essentials\n",
    "\n",
    "- 2 basic built-in types\n",
    "    - Immutable *Bytes\n",
    "    - Mutable *bytearray\n",
    "    \n",
    "- Each item in bytes and bytearray is an int from 0-255 (8 bits in a byte)\n",
    "\n",
    "- A slice of a binary sequence always produces a sequence of the same type\n",
    "\n",
    "- Binary sequence displays\n",
    "    - ASCII range\n",
    "        - Character itself\n",
    "    - Newline, tab etc\n",
    "        - Escape (\\) sequnces are used\n",
    "    - Every other uses the hexadecimal sequence\n",
    "\n",
    "- Building byte sequences\n",
    "    - fromhex\n",
    "        - Parses hex digits separated by spaces\n",
    "    - using a string and an encoding keyword\n",
    "    - iterable with values ranging from 0 to 255\n",
    "    - object that implements a buffer protocol\n",
    "    \n",
    "    \n",
    "## Basic Encoders/ Decoders\n",
    "\n",
    "- Python bundles more tahn 100 codecs (encoder/decoder) for text to byte conversion\n",
    "\n",
    "- Some encodings cant represent Unicode characters, but UTF encodings can handle every Unicode code point\n",
    "\n",
    "## Understanding Encode/Decode Problems\n",
    "\n",
    " - Always more specific than general UnicodeError\n",
    " \n",
    " #### Coping with UnicodeEncodeError\n",
    " - If character is not defined in the target encoding\n",
    " - Working around errors\n",
    "     - error = \"ignore\" skips character\n",
    "     - error = \"replace\" substitutes character with \"?\"\n",
    " \n",
    " #### Coping with UnicodeEncodeError\n",
    " - If byte sequence is not valid\n",
    "     - Some encodings are able to decode any bytes, including random noise\n",
    " - Working around errors\n",
    "     - Same as with encoding\n",
    "     \n",
    " #### SyntaxError When Loading Modules with Unexpected Encoding\n",
    " - When loading no UTF-* data and no encoding decalration\n",
    " \n",
    " #### How to Discover the Encoding of a Byte Sequence\n",
    "  - You have to be told, if not you might have to look for patterns\n",
    "  \n",
    "## BOM: A Useful Gremlin\n",
    "- Byte-Order-Mark\n",
    "- Denotes the byte ordering of the Intel CPU where encoding was performed\n",
    "- UTF-16 encoding prepends the text to be encoded with the special character ZERO WIDTH NO-BREAK SPACE (U+FEFF)\n",
    "    - Lets the codec know whuch byte ordering to use\n",
    "    \n",
    "    \n",
    "## Handling Text Files\n",
    "- \"Unicode Sandwich\"\n",
    "    - bytes should be decoded as soon as possible\n",
    "    - \"meat\" of the sandwich is teh logic of the program handling str objects\n",
    "    - For the output, encode all str objects as late as possible\n",
    "- Python \"open\" does teh necessary decoding when reading and encoding when writting files\n",
    "    - Can cause problems if default codec doesnt work\n",
    "    - default is given by locale.getpreferredencoding()\n",
    "    \n",
    "* Windows users are more likely to face encoding errors if not careful\n",
    "    - Windows supports only ASCII + 127 other characters\n",
    "    \n",
    "## Normalizing Unicode for Saner Comparisons\n",
    "- String comparisons can be comlicated due to combining characters\n",
    "- Solution is to use Unicode normalization\n",
    "    - unicodedata.noramlize\n",
    "        - NFC -> Composes the code points to produce the shortest equivalent string\n",
    "        - NFD -> Expands composed characters into base characters and separate combining characters"
   ]
  },
  {
   "cell_type": "code",
   "execution_count": 9,
   "metadata": {},
   "outputs": [
    {
     "data": {
      "text/plain": [
       "(4, 5)"
      ]
     },
     "execution_count": 9,
     "metadata": {},
     "output_type": "execute_result"
    }
   ],
   "source": [
    "from unicodedata import normalize\n",
    "s1 = \"café\"\n",
    "s2 = 'cafe\\u0301'\n",
    "len(s1), len(s2)"
   ]
  },
  {
   "cell_type": "code",
   "execution_count": 10,
   "metadata": {},
   "outputs": [
    {
     "data": {
      "text/plain": [
       "(4, 4)"
      ]
     },
     "execution_count": 10,
     "metadata": {},
     "output_type": "execute_result"
    }
   ],
   "source": [
    "len(normalize('NFC', s1)), len(normalize('NFC', s2))"
   ]
  },
  {
   "cell_type": "code",
   "execution_count": 11,
   "metadata": {},
   "outputs": [
    {
     "data": {
      "text/plain": [
       "(5, 5)"
      ]
     },
     "execution_count": 11,
     "metadata": {},
     "output_type": "execute_result"
    }
   ],
   "source": [
    "len(normalize('NFD', s1)), len(normalize('NFD', s2))"
   ]
  },
  {
   "cell_type": "markdown",
   "metadata": {},
   "source": [
    "- NFKC & NFKD\n",
    "      * Should be applied only in special cases\n",
    "    - K stands form compatibility\n",
    "    - Stronger forms of noramlization\n",
    "    - Each character is replaced by a \"compatibility decomposition\"\n",
    "        - Characters that are considered a prefered version\n",
    "            - '½' turns into '1/2'"
   ]
  },
  {
   "cell_type": "code",
   "execution_count": 12,
   "metadata": {},
   "outputs": [],
   "source": [
    "from unicodedata import normalize"
   ]
  },
  {
   "cell_type": "code",
   "execution_count": 13,
   "metadata": {},
   "outputs": [
    {
     "data": {
      "text/plain": [
       "'1⁄2'"
      ]
     },
     "execution_count": 13,
     "metadata": {},
     "output_type": "execute_result"
    }
   ],
   "source": [
    "half = '½'\n",
    "normalize('NFKC', half)"
   ]
  },
  {
   "cell_type": "code",
   "execution_count": 15,
   "metadata": {},
   "outputs": [
    {
     "data": {
      "text/plain": [
       "'42'"
      ]
     },
     "execution_count": 15,
     "metadata": {},
     "output_type": "execute_result"
    }
   ],
   "source": [
    "four_squared = '4²'\n",
    "normalize('NFKC', four_squared)"
   ]
  },
  {
   "cell_type": "markdown",
   "metadata": {},
   "source": [
    "## Extreme “Normalization”: Taking Out Diacritics\n",
    "- Ignoring diacritics is nor a proper from off normalization, but it helps to create more readable text and wider searches\n",
    "    - shave_marks()\n",
    "    \n",
    "## Sorting Unicode Text\n",
    "- Python sorts sequences by comparing elements one by one\n",
    "- locale.strxfm transforms a string to one that can be used in lcoale-aware comparisons\n",
    "    - User has to set a suitable locale for the application first\n",
    "    \n",
    "## str Versus bytes in Regular Expressions\n",
    "- patterns suchs as \\w onl match ASCII characters"
   ]
  }
 ],
 "metadata": {
  "kernelspec": {
   "display_name": "Python 3",
   "language": "python",
   "name": "python3"
  },
  "language_info": {
   "codemirror_mode": {
    "name": "ipython",
    "version": 3
   },
   "file_extension": ".py",
   "mimetype": "text/x-python",
   "name": "python",
   "nbconvert_exporter": "python",
   "pygments_lexer": "ipython3",
   "version": "3.6.4"
  }
 },
 "nbformat": 4,
 "nbformat_minor": 2
}
