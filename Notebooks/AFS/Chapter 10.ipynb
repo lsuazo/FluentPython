{
 "cells": [
  {
   "cell_type": "markdown",
   "metadata": {},
   "source": [
    "# Sequence Hacking, Hashing, and Slicing\n",
    "\n",
    "## User defined Vector: Sequence Type\n",
    "\n",
    "- Strategy to build Vector class will be to use composition and not inheritance\n",
    "\n",
    "### Vector Take #1: Vector2d Compatible"
   ]
  },
  {
   "cell_type": "code",
   "execution_count": 1,
   "metadata": {},
   "outputs": [],
   "source": [
    "from array import array\n",
    "import reprlib\n",
    "import math\n",
    "import functools\n",
    "import operator\n",
    "\n",
    "class Vector:\n",
    "    typecode = 'd'\n",
    "    \n",
    "    def __init__(self, components):\n",
    "        self._components = array(self.typecode, components)\n",
    "\n",
    "    def __iter__(self):\n",
    "        return iter(self._components)\n",
    "\n",
    "    def __repr__(self):\n",
    "        components = reprlib.repr(self._components)\n",
    "        components = components[components.find('['):-1]\n",
    "        return 'Vector({})'.format(components)\n",
    "\n",
    "    def __str__(self):\n",
    "        return str(tuple(self))\n",
    "\n",
    "    def __bytes__(self):\n",
    "        return (bytes([ord(self.typecode)]) + bytes(self._components))\n",
    "\n",
    "    def __eq__(self, other):\n",
    "        return tuple(self) == tuple(other)\n",
    "\n",
    "    def __abs__(self):\n",
    "        return math.sqrt(sum(x * x for x in self))\n",
    "\n",
    "    def __bool__(self):\n",
    "        return bool(abs(self))\n",
    "\n",
    "    @classmethod\n",
    "    def frombytes(cls, octets):\n",
    "        typecode = chr(octets[0])\n",
    "        memv = memoryview(octets[1:]).cast(typecode)\n",
    "        return cls(memv)\n",
    "    \n",
    "    def __eq__(self, other): #\n",
    "        return tuple(self) == tuple(other)\n",
    "    \n",
    "    def __hash__(self):\n",
    "        hashes = (hash(x) for x in self._components) #\n",
    "        return functools.reduce(operator.xor, hashes, 0) # "
   ]
  },
  {
   "cell_type": "markdown",
   "metadata": {},
   "source": [
    "### Vector Take #2: A Sliceable Sequence\n",
    "\n",
    "- To make a class a sequence, 2 methods are required\n",
    "    - \\__len\\__\n",
    "    - \\__getitem\\__\n",
    "\n",
    "### Vector Take #3: Dynamic Attribute Access\n",
    "\n",
    "-  \\__getattr\\__ method is invoked by the interpreter when attribute lookup fails\n",
    "\n",
    "- The super() function provides a way to access methods of super classes dynamically\n",
    "\n",
    "-  very often when you implement \\__getattr\\__ you need to code \\__setattr\\__ as well, to avoid inconsistent behavior in your objects\n",
    "\n",
    "### Vector Take #4: hashing and a Faster ==\n",
    "\n",
    "- Implementing the \\__hash\\__ method and \\__eq\\__ method, a class instance vecomes hashable\n",
    "\n",
    "- functools.reduce() (can be replaced by sum())\n",
    "    - Reduces a series of values to a single value\n",
    "    -  reduce(fn, lst), fn will be applied to the first pair of elements fn(lst[0], lst[1])\n",
    "        - Then the result will be passed in fn() with the next value in the iterable series"
   ]
  },
  {
   "cell_type": "code",
   "execution_count": 1,
   "metadata": {},
   "outputs": [
    {
     "data": {
      "text/plain": [
       "120"
      ]
     },
     "execution_count": 1,
     "metadata": {},
     "output_type": "execute_result"
    }
   ],
   "source": [
    "2 * 3 * 4 * 5 # the result we want: 5! == 120"
   ]
  },
  {
   "cell_type": "code",
   "execution_count": 2,
   "metadata": {},
   "outputs": [
    {
     "data": {
      "text/plain": [
       "120"
      ]
     },
     "execution_count": 2,
     "metadata": {},
     "output_type": "execute_result"
    }
   ],
   "source": [
    "import functools\n",
    "functools.reduce(lambda a,b: a*b, range(1, 6))"
   ]
  },
  {
   "cell_type": "markdown",
   "metadata": {},
   "source": [
    "### Vector Take #5: Formatting\n",
    "\n",
    " - \\__format\\__\n",
    "     - Lets class support custom format"
   ]
  },
  {
   "cell_type": "code",
   "execution_count": null,
   "metadata": {},
   "outputs": [],
   "source": []
  }
 ],
 "metadata": {
  "kernelspec": {
   "display_name": "Python 3",
   "language": "python",
   "name": "python3"
  },
  "language_info": {
   "codemirror_mode": {
    "name": "ipython",
    "version": 3
   },
   "file_extension": ".py",
   "mimetype": "text/x-python",
   "name": "python",
   "nbconvert_exporter": "python",
   "pygments_lexer": "ipython3",
   "version": "3.6.4"
  }
 },
 "nbformat": 4,
 "nbformat_minor": 2
}
