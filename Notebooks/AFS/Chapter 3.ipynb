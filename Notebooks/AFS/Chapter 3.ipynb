{
 "cells": [
  {
   "cell_type": "markdown",
   "metadata": {},
   "source": [
    "# Dictionaries and Sets\n",
    "\n",
    "#### A Python program has dicitonaries active even if not used explicitly by the user\n",
    "\n",
    "- Hash Tables are the engines behing dictionaries\n",
    "\n",
    "\n",
    "## Generic Mapping Types\n",
    "- collections.abc module provides the ffollowing abrast base classes\n",
    "     - Mapping\n",
    "     - MutableMapping\n",
    "- isinstance checks if argument is of mapping type\n",
    "- All mapping types use basic dict in implementation\n",
    "    - All keys must be hashable\n",
    "        - Immutables are hashable\n",
    "            - Has a hash value which never changes during its lifetime\n",
    "        - Can be compared to other objects\n"
   ]
  },
  {
   "cell_type": "code",
   "execution_count": 9,
   "metadata": {},
   "outputs": [
    {
     "data": {
      "text/plain": [
       "True"
      ]
     },
     "execution_count": 9,
     "metadata": {},
     "output_type": "execute_result"
    }
   ],
   "source": [
    "from collections import abc\n",
    "my_dict = {}\n",
    "isinstance(my_dict, abc.Mapping)\n"
   ]
  },
  {
   "cell_type": "markdown",
   "metadata": {},
   "source": [
    "## Dict Comprehensions\n",
    "\n",
    "- A discomp builds a dict by creating key:value pairs from iterables\n"
   ]
  },
  {
   "cell_type": "code",
   "execution_count": 11,
   "metadata": {},
   "outputs": [
    {
     "data": {
      "text/plain": [
       "{'China': 86, 'India': 91, 'United States': 1}"
      ]
     },
     "execution_count": 11,
     "metadata": {},
     "output_type": "execute_result"
    }
   ],
   "source": [
    "DIAL_CODES = [(86, 'China'),(91, 'India'),(1, 'United States')]\n",
    "country_code = {country: code for code, country in DIAL_CODES}\n",
    "country_code"
   ]
  },
  {
   "cell_type": "markdown",
   "metadata": {},
   "source": [
    "#### Common Methods\n",
    "- d.cealr()\n",
    "- d.fromkeys(iterable, [optional initial])\n",
    "- d.setdefault(k, [default])\n",
    "- d.update(m, [**kargs])"
   ]
  },
  {
   "cell_type": "markdown",
   "metadata": {},
   "source": [
    "## Handling Missing Keys\n",
    "- setdefault returns value, so it can be updated without requiring a second search\n",
    "- my_dict.setdefault(key, []).append(new_value)\n",
    "\n",
    "## Mappings with Flexible Key Lookup\n",
    "- defaultdict\n",
    "    - Create items on demand when a missing key is searched\n",
    "- \\__missing__method\n",
    "     - Not deffined in the base dict class\n",
    "     - If declared, getitem will call this method\n",
    "\n",
    "## Variations of Dict\n",
    "- collections.OrderedDict\n",
    "    - Keys in insertion order\n",
    "- collections.Chainmap\n",
    "    - List off mappings that can be searched as one\n",
    "    - Secceeds iff key can be found in any mapping\n",
    "- collections.Counter\n",
    "    - Holds and integer count for each key\n",
    "    - Used to count instances of hashable objects\n",
    "- collections.UserDict\n",
    "    - Works like a standard dict\n",
    "    - Designed to be subclassed\n",
    "    \n",
    "    \n",
    "## Subclassing UserDict\n",
    "- Easier than subclassing dict\n",
    "    - Dict has more implementations shortcuts that have to be overriden\n",
    "- Does not inherit ffrom dict, has a dict instance inside called data\n",
    "\n",
    "## Immutable Mappings\n",
    "- MappingProxy\n",
    "    - Takes a mapping type and returns an instance that is read-only\n",
    "    - Any changes to the original map are refflected in the created proxy instance"
   ]
  },
  {
   "cell_type": "code",
   "execution_count": 13,
   "metadata": {},
   "outputs": [
    {
     "data": {
      "text/plain": [
       "mappingproxy({1: 'A'})"
      ]
     },
     "execution_count": 13,
     "metadata": {},
     "output_type": "execute_result"
    }
   ],
   "source": [
    "from types import MappingProxyType\n",
    "d = {1: 'A'}\n",
    "d_proxy = MappingProxyType(d)\n",
    "d_proxy"
   ]
  },
  {
   "cell_type": "code",
   "execution_count": 14,
   "metadata": {},
   "outputs": [
    {
     "data": {
      "text/plain": [
       "'A'"
      ]
     },
     "execution_count": 14,
     "metadata": {},
     "output_type": "execute_result"
    }
   ],
   "source": [
    "d_proxy[1] "
   ]
  },
  {
   "cell_type": "code",
   "execution_count": 15,
   "metadata": {},
   "outputs": [
    {
     "ename": "TypeError",
     "evalue": "'mappingproxy' object does not support item assignment",
     "output_type": "error",
     "traceback": [
      "\u001b[1;31m---------------------------------------------------------------------------\u001b[0m",
      "\u001b[1;31mTypeError\u001b[0m                                 Traceback (most recent call last)",
      "\u001b[1;32m<ipython-input-15-bc17a9a62754>\u001b[0m in \u001b[0;36m<module>\u001b[1;34m()\u001b[0m\n\u001b[1;32m----> 1\u001b[1;33m \u001b[0md_proxy\u001b[0m\u001b[1;33m[\u001b[0m\u001b[1;36m2\u001b[0m\u001b[1;33m]\u001b[0m \u001b[1;33m=\u001b[0m \u001b[1;34m'x'\u001b[0m\u001b[1;33m\u001b[0m\u001b[0m\n\u001b[0m",
      "\u001b[1;31mTypeError\u001b[0m: 'mappingproxy' object does not support item assignment"
     ]
    }
   ],
   "source": [
    "d_proxy[2] = 'x'"
   ]
  },
  {
   "cell_type": "code",
   "execution_count": 17,
   "metadata": {},
   "outputs": [],
   "source": [
    "d[2] = 'x'"
   ]
  },
  {
   "cell_type": "code",
   "execution_count": 19,
   "metadata": {},
   "outputs": [
    {
     "data": {
      "text/plain": [
       "mappingproxy({1: 'A', 2: 'x'})"
      ]
     },
     "execution_count": 19,
     "metadata": {},
     "output_type": "execute_result"
    }
   ],
   "source": [
    "d_proxy "
   ]
  },
  {
   "cell_type": "markdown",
   "metadata": {},
   "source": [
    "## Set Theory\n",
    "- Mutable -> set\n",
    "- Immutable -> frozenset\n",
    "\n",
    "- Collection of unique elements\n",
    "- Not hashable, but frozen set is\n",
    "    - Like tuples\n",
    "    \n",
    "- Set operations reduce line count and runtime\n",
    "    - A & B\n",
    "    - A | B\n",
    "    - A - B\n",
    "    \n",
    "- \n",
    " "
   ]
  },
  {
   "cell_type": "code",
   "execution_count": 25,
   "metadata": {},
   "outputs": [
    {
     "data": {
      "text/plain": [
       "2"
      ]
     },
     "execution_count": 25,
     "metadata": {},
     "output_type": "execute_result"
    }
   ],
   "source": [
    "haystack = {'spam', 'spam', 'eggs', 'spam'}\n",
    "needles = {'spam', \"eggs\"}\n",
    "found = len(needles & haystack)\n",
    "found"
   ]
  },
  {
   "cell_type": "markdown",
   "metadata": {},
   "source": [
    "## Set Literals\n",
    "- no literal notation for empty set\n",
    "- Literal syntax {...} is faster than calling the constructor\n",
    "    - Python has to ffetch name first and then the constructor\n",
    "- Frozen sets must be created using constructors\n",
    "\n",
    "## Set Comprehensions\n",
    "- Same as all seen before\n",
    "\n",
    "## Under the Hood"
   ]
  },
  {
   "cell_type": "code",
   "execution_count": null,
   "metadata": {},
   "outputs": [],
   "source": []
  }
 ],
 "metadata": {
  "kernelspec": {
   "display_name": "Python 3",
   "language": "python",
   "name": "python3"
  },
  "language_info": {
   "codemirror_mode": {
    "name": "ipython",
    "version": 3
   },
   "file_extension": ".py",
   "mimetype": "text/x-python",
   "name": "python",
   "nbconvert_exporter": "python",
   "pygments_lexer": "ipython3",
   "version": "3.6.4"
  }
 },
 "nbformat": 4,
 "nbformat_minor": 2
}
