{
 "cells": [
  {
   "cell_type": "markdown",
   "metadata": {},
   "source": [
    "# Design Patterns with First-Class Functions\n",
    "\n",
    "- The implementation language determines which aptters are relevant\n",
    "\n",
    "## Strategy\n",
    "\n",
    "### Classic Strategy\n",
    "\n",
    "- Encacpsulates a \"family\" of algorithms and selects one from a pool for use duting runtime\n",
    "\n",
    "* To declare an ABC is to subclass abc.ABC\n",
    "   - class Promotion(ABC)\n",
    "   \n",
    "- Using \"flyweights\"\n",
    "    - Shared object that can be used in multiple contexts without the cost of creating a new concrete strategy object \n",
    "   \n",
    "\n",
    "## Command\n",
    "\n",
    "- An object is used to encapsulate all information needed to perform an action or triggger an event at a later time\n",
    "    - The goal is to decouple an object that invokes an operation from the provider object that implements it\n",
    "    \n",
    "## Using functions\n",
    "\n",
    "- When there is no internal state and the class only deals with data from the context, use functions instead of creating single-method classes\n",
    "\n"
   ]
  },
  {
   "cell_type": "code",
   "execution_count": null,
   "metadata": {},
   "outputs": [],
   "source": []
  }
 ],
 "metadata": {
  "kernelspec": {
   "display_name": "Python 3",
   "language": "python",
   "name": "python3"
  },
  "language_info": {
   "codemirror_mode": {
    "name": "ipython",
    "version": 3
   },
   "file_extension": ".py",
   "mimetype": "text/x-python",
   "name": "python",
   "nbconvert_exporter": "python",
   "pygments_lexer": "ipython3",
   "version": "3.6.4"
  }
 },
 "nbformat": 4,
 "nbformat_minor": 2
}
