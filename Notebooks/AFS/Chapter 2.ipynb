{
 "cells": [
  {
   "cell_type": "markdown",
   "metadata": {},
   "source": [
    "# An Array of Sequences\n",
    "\n",
    "* \"Pythonic ideas\"\n",
    "    - Generic operators on sequences\n",
    "    - Built-in tuples and mapping types\n",
    "    - Structure by indentation\n",
    "    - No variable declaration\n",
    "    \n",
    "\n",
    "## Built-In Sequences\n",
    "\n",
    "- Implemented in C\n",
    "\n",
    "##### Container Sequences\n",
    "- Hold references to objects of any type\n",
    "    - list, tuple, and collections.deque can hold items of different types.\n",
    "\n",
    "##### Flat Sequences\n",
    "- Hold values of items within its own memory space\n",
    "    - Limited to primitives\n",
    "    - str, bytes, bytearray, memoryview, and array.array hold items of one type\n",
    "    \n",
    "#### Another grouping method:\n",
    "\n",
    "##### Mutable Sequences\n",
    "- list, bytearray, array.array, collections.deque, and memoryview\n",
    "\n",
    "##### Immutable Sequences\n",
    "- tuple, str, and bytes\n",
    "\n",
    "\n",
    "## List Comprehensions\n",
    "- Refered to as \"listcomps\"\n",
    "- Quick way to build a sequence\n",
    "- Should not span more than 2 lines\n",
    "- Now have their own local scopes"
   ]
  },
  {
   "cell_type": "code",
   "execution_count": 12,
   "metadata": {},
   "outputs": [
    {
     "data": {
      "text/plain": [
       "[0, 1, 4, 9, 16, 25, 36, 49, 64, 81]"
      ]
     },
     "execution_count": 12,
     "metadata": {},
     "output_type": "execute_result"
    }
   ],
   "source": [
    "squares = [x**2 for x in range(10)]\n",
    "squares"
   ]
  },
  {
   "cell_type": "code",
   "execution_count": 13,
   "metadata": {},
   "outputs": [
    {
     "data": {
      "text/plain": [
       "['a', 'b', 'c', 'd']"
      ]
     },
     "execution_count": 13,
     "metadata": {},
     "output_type": "execute_result"
    }
   ],
   "source": [
    "letters = \"ABCD\"\n",
    "lower = [letter.lower() for letter in letters]\n",
    "lower"
   ]
  },
  {
   "cell_type": "markdown",
   "metadata": {},
   "source": [
    "## Generator Expressions\n",
    "- Refered to as \"genexps\"\n",
    "- Produces elements to fill up any sequence types, not only lists\n",
    "- saves memory\n",
    "    - Yields items using iterator protocol, not building an entire new list\n",
    "\n",
    "- No need to suplicate enclosing parenthesis when genexp is the only argument\n"
   ]
  },
  {
   "cell_type": "code",
   "execution_count": 15,
   "metadata": {},
   "outputs": [
    {
     "data": {
      "text/plain": [
       "(0, 1, 4, 9, 16, 25, 36, 49, 64, 81)"
      ]
     },
     "execution_count": 15,
     "metadata": {},
     "output_type": "execute_result"
    }
   ],
   "source": [
    "tuple(x**2 for x in range(10))"
   ]
  },
  {
   "cell_type": "markdown",
   "metadata": {},
   "source": [
    "Yielding items without bulding a list"
   ]
  },
  {
   "cell_type": "code",
   "execution_count": 25,
   "metadata": {},
   "outputs": [
    {
     "name": "stdout",
     "output_type": "stream",
     "text": [
      "0\n",
      "1\n",
      "4\n",
      "9\n",
      "16\n"
     ]
    }
   ],
   "source": [
    "for number in (x**2 for x in range(5)):\n",
    "    print(number)"
   ]
  },
  {
   "cell_type": "markdown",
   "metadata": {},
   "source": [
    "## Tuples Are Not Just Immutable Lists\n",
    "\n",
    "- Can also be used as records with no field names\n",
    "    - When used as records, index gives its meaning\n",
    "        - Sorting would render this pointless\n",
    "    \n",
    "#### Unpacking\n",
    "- Requires max one item per variable in the recieving tuple\n",
    "    - Excess can be dealt with (*)\n",
    "    \n",
    "#### Parallel Asssignment\n",
    "- Assigning items from an iterable to a tuple\n",
    "    - _ used as a dummy value\n",
    "        - Not always a good alias\n",
    "        \n",
    "- \"\\*\" is used to grab arbitrary excess arguments\n"
   ]
  },
  {
   "cell_type": "code",
   "execution_count": 27,
   "metadata": {},
   "outputs": [],
   "source": [
    "point = (3.45, 2.34)\n",
    "x,y = point"
   ]
  },
  {
   "cell_type": "code",
   "execution_count": 28,
   "metadata": {},
   "outputs": [
    {
     "data": {
      "text/plain": [
       "3.45"
      ]
     },
     "execution_count": 28,
     "metadata": {},
     "output_type": "execute_result"
    }
   ],
   "source": [
    "x"
   ]
  },
  {
   "cell_type": "code",
   "execution_count": 29,
   "metadata": {},
   "outputs": [
    {
     "data": {
      "text/plain": [
       "2.34"
      ]
     },
     "execution_count": 29,
     "metadata": {},
     "output_type": "execute_result"
    }
   ],
   "source": [
    "y"
   ]
  },
  {
   "cell_type": "markdown",
   "metadata": {},
   "source": [
    "#### Named Tuples\n",
    "- collections.namedtuple\n",
    "    - Subclass of tuple with field names and a class name\n",
    "    - Fields can be accessed by name or position\n",
    "\n",
    "###### Attributes and Mehtods\n",
    "- _fields\n",
    "- _make(iterable)\n",
    "    - Intantiates a nbamed tuple from an iterable\n",
    "- _asdict()\n",
    "    - Returned an ordered dict"
   ]
  },
  {
   "cell_type": "code",
   "execution_count": 33,
   "metadata": {},
   "outputs": [],
   "source": [
    "from collections import namedtuple"
   ]
  },
  {
   "cell_type": "code",
   "execution_count": 35,
   "metadata": {},
   "outputs": [],
   "source": [
    "City = namedtuple('City', 'name country population coordinates')\n",
    "tokyo = City('Tokyo', 'JP', 36.933, (35.689722, 139.691667))"
   ]
  },
  {
   "cell_type": "code",
   "execution_count": 36,
   "metadata": {},
   "outputs": [
    {
     "data": {
      "text/plain": [
       "City(name='Tokyo', country='JP', population=36.933, coordinates=(35.689722, 139.691667))"
      ]
     },
     "execution_count": 36,
     "metadata": {},
     "output_type": "execute_result"
    }
   ],
   "source": [
    "tokyo"
   ]
  },
  {
   "cell_type": "markdown",
   "metadata": {},
   "source": [
    "## Slicing\n",
    "\n",
    "* Doesn't include last element to pair up nicely with zero-based indexing\n",
    "\n",
    "- The notation a:b:c is only valid within [] when used as the indexing or subscript operator\n",
    "    - Produces slice object: slice(a, b, c)\n",
    "    - x[a,b,c] calls c.\\__getitem\\__(slice(a,b,c))\n",
    "\n",
    "#### Ellipsis\n",
    "\n"
   ]
  }
 ],
 "metadata": {
  "kernelspec": {
   "display_name": "Python 3",
   "language": "python",
   "name": "python3"
  },
  "language_info": {
   "codemirror_mode": {
    "name": "ipython",
    "version": 3
   },
   "file_extension": ".py",
   "mimetype": "text/x-python",
   "name": "python",
   "nbconvert_exporter": "python",
   "pygments_lexer": "ipython3",
   "version": "3.6.4"
  }
 },
 "nbformat": 4,
 "nbformat_minor": 2
}
