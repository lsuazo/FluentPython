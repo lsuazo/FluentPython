{
 "cells": [
  {
   "cell_type": "markdown",
   "metadata": {},
   "source": [
    "# An Array of Sequences\n",
    "\n",
    "* \"Pythonic ideas\"\n",
    "    - Generic operators on sequences\n",
    "    - Built-in tuples and mapping types\n",
    "    - Structure by indentation\n",
    "    - No variable declaration\n",
    "    \n",
    "\n",
    "## Built-In Sequences\n",
    "\n",
    "- Implemented in C\n",
    "\n",
    "##### Container Sequences\n",
    "- Hold references to objects of any type\n",
    "    - list, tuple, and collections.deque can hold items of different types.\n",
    "\n",
    "##### Flat Sequences\n",
    "- Hold values of items within its own memory space\n",
    "    - Limited to primitives\n",
    "    - str, bytes, bytearray, memoryview, and array.array hold items of one type\n",
    "    \n",
    "#### Another grouping method:\n",
    "\n",
    "##### Mutable Sequences\n",
    "- list, bytearray, array.array, collections.deque, and memoryview\n",
    "\n",
    "##### Immutable Sequences\n",
    "- tuple, str, and bytes\n",
    "\n",
    "\n",
    "## List Comprehensions\n",
    "- Refered to as \"listcomps\"\n",
    "- Quick way to build a sequence\n",
    "- Should not span more than 2 lines\n",
    "- Now have their own local scopes"
   ]
  },
  {
   "cell_type": "code",
   "execution_count": 12,
   "metadata": {},
   "outputs": [
    {
     "data": {
      "text/plain": [
       "[0, 1, 4, 9, 16, 25, 36, 49, 64, 81]"
      ]
     },
     "execution_count": 12,
     "metadata": {},
     "output_type": "execute_result"
    }
   ],
   "source": [
    "squares = [x**2 for x in range(10)]\n",
    "squares"
   ]
  },
  {
   "cell_type": "code",
   "execution_count": 13,
   "metadata": {},
   "outputs": [
    {
     "data": {
      "text/plain": [
       "['a', 'b', 'c', 'd']"
      ]
     },
     "execution_count": 13,
     "metadata": {},
     "output_type": "execute_result"
    }
   ],
   "source": [
    "letters = \"ABCD\"\n",
    "lower = [letter.lower() for letter in letters]\n",
    "lower"
   ]
  },
  {
   "cell_type": "markdown",
   "metadata": {},
   "source": [
    "## Generator Expressions\n",
    "- Refered to as \"genexps\"\n",
    "- Produces elements to fill up any sequence types, not only lists\n",
    "- saves memory\n",
    "    - Yields items using iterator protocol, not building an entire new list\n",
    "\n",
    "- No need to suplicate enclosing parenthesis when genexp is the only argument\n"
   ]
  },
  {
   "cell_type": "code",
   "execution_count": 15,
   "metadata": {},
   "outputs": [
    {
     "data": {
      "text/plain": [
       "(0, 1, 4, 9, 16, 25, 36, 49, 64, 81)"
      ]
     },
     "execution_count": 15,
     "metadata": {},
     "output_type": "execute_result"
    }
   ],
   "source": [
    "tuple(x**2 for x in range(10))"
   ]
  },
  {
   "cell_type": "markdown",
   "metadata": {},
   "source": [
    "Yielding items without bulding a list"
   ]
  },
  {
   "cell_type": "code",
   "execution_count": 25,
   "metadata": {},
   "outputs": [
    {
     "name": "stdout",
     "output_type": "stream",
     "text": [
      "0\n",
      "1\n",
      "4\n",
      "9\n",
      "16\n"
     ]
    }
   ],
   "source": [
    "for number in (x**2 for x in range(5)):\n",
    "    print(number)"
   ]
  },
  {
   "cell_type": "markdown",
   "metadata": {},
   "source": [
    "## Tuples Are Not Just Immutable Lists\n",
    "\n",
    "- Can also be used as records with no field names\n",
    "    - When used as records, index gives its meaning\n",
    "        - Sorting would render this pointless\n",
    "    \n",
    "#### Unpacking\n",
    "- Requires max one item per variable in the recieving tuple\n",
    "    - Excess can be dealt with (*)\n",
    "    \n",
    "#### Parallel Asssignment\n",
    "- Assigning items from an iterable to a tuple\n",
    "    - _ used as a dummy value\n",
    "        - Not always a good alias\n",
    "        \n",
    "- \"\\*\" is used to grab arbitrary excess arguments\n"
   ]
  },
  {
   "cell_type": "code",
   "execution_count": 27,
   "metadata": {},
   "outputs": [],
   "source": [
    "point = (3.45, 2.34)\n",
    "x,y = point"
   ]
  },
  {
   "cell_type": "code",
   "execution_count": 28,
   "metadata": {},
   "outputs": [
    {
     "data": {
      "text/plain": [
       "3.45"
      ]
     },
     "execution_count": 28,
     "metadata": {},
     "output_type": "execute_result"
    }
   ],
   "source": [
    "x"
   ]
  },
  {
   "cell_type": "code",
   "execution_count": 29,
   "metadata": {},
   "outputs": [
    {
     "data": {
      "text/plain": [
       "2.34"
      ]
     },
     "execution_count": 29,
     "metadata": {},
     "output_type": "execute_result"
    }
   ],
   "source": [
    "y"
   ]
  },
  {
   "cell_type": "markdown",
   "metadata": {},
   "source": [
    "#### Named Tuples\n",
    "- collections.namedtuple\n",
    "    - Subclass of tuple with field names and a class name\n",
    "    - Fields can be accessed by name or position\n",
    "\n",
    "###### Attributes and Mehtods\n",
    "- _fields\n",
    "- _make(iterable)\n",
    "    - Intantiates a nbamed tuple from an iterable\n",
    "- _asdict()\n",
    "    - Returned an ordered dict"
   ]
  },
  {
   "cell_type": "code",
   "execution_count": 33,
   "metadata": {},
   "outputs": [],
   "source": [
    "from collections import namedtuple"
   ]
  },
  {
   "cell_type": "code",
   "execution_count": 35,
   "metadata": {},
   "outputs": [],
   "source": [
    "City = namedtuple('City', 'name country population coordinates')\n",
    "tokyo = City('Tokyo', 'JP', 36.933, (35.689722, 139.691667))"
   ]
  },
  {
   "cell_type": "code",
   "execution_count": 36,
   "metadata": {},
   "outputs": [
    {
     "data": {
      "text/plain": [
       "City(name='Tokyo', country='JP', population=36.933, coordinates=(35.689722, 139.691667))"
      ]
     },
     "execution_count": 36,
     "metadata": {},
     "output_type": "execute_result"
    }
   ],
   "source": [
    "tokyo"
   ]
  },
  {
   "cell_type": "markdown",
   "metadata": {},
   "source": [
    "## Slicing\n",
    "\n",
    "* Doesn't include last element to pair up nicely with zero-based indexing\n",
    "\n",
    "- The notation a:b:c is only valid within [] when used as the indexing or subscript operator\n",
    "    - Produces slice object: slice(a, b, c)\n",
    "    - x[a,b,c] calls c.\\__getitem\\__(slice(a,b,c))\n",
    "\n",
    "#### Ellipsis\n",
    "\n",
    "- Written with three full stops (...)\n",
    "- Alias to the Ellipsis object\n",
    "    - Used as a shortcut when slicing arrays of many dimensions\n",
    "    \n",
    "#### Assigning to Slices\n",
    "\n",
    "- When assigning a slice, right side must be an iterable object\n",
    "\n",
    "## Using + and * with Sequences\n",
    "\n",
    "- Operands are not modifies\n",
    "    - New sequence of the same type is created as a result\n",
    "\n"
   ]
  },
  {
   "cell_type": "markdown",
   "metadata": {},
   "source": [
    "#### Building Lists of Lists\n",
    "\n",
    "- Can be done with listcomp"
   ]
  },
  {
   "cell_type": "code",
   "execution_count": 6,
   "metadata": {},
   "outputs": [
    {
     "data": {
      "text/plain": [
       "[['_', '_', '_'], ['_', '_', '_'], ['_', '_', '_']]"
      ]
     },
     "execution_count": 6,
     "metadata": {},
     "output_type": "execute_result"
    }
   ],
   "source": [
    "board = [['_'] * 3 for i in range(3)]\n",
    "board"
   ]
  },
  {
   "cell_type": "markdown",
   "metadata": {},
   "source": [
    "* If done with the \"*\" operator, three references to the same list are created"
   ]
  },
  {
   "cell_type": "code",
   "execution_count": 7,
   "metadata": {},
   "outputs": [
    {
     "data": {
      "text/plain": [
       "[[0, 0, 0], [0, 0, 0], [0, 0, 0]]"
      ]
     },
     "execution_count": 7,
     "metadata": {},
     "output_type": "execute_result"
    }
   ],
   "source": [
    "my_list = [[0,0,0]] * 3\n",
    "my_list"
   ]
  },
  {
   "cell_type": "code",
   "execution_count": 8,
   "metadata": {},
   "outputs": [
    {
     "data": {
      "text/plain": [
       "[[0, 1, 0], [0, 1, 0], [0, 1, 0]]"
      ]
     },
     "execution_count": 8,
     "metadata": {},
     "output_type": "execute_result"
    }
   ],
   "source": [
    "my_list[1][1] = 1\n",
    "my_list"
   ]
  },
  {
   "cell_type": "markdown",
   "metadata": {},
   "source": [
    "## Augmented Assignment with Sequences \n",
    "- Behave differently depending on the ffirst operand\n",
    "- Dunder method for += : \n",
    "    - \\__iadd\\__ \n",
    "        - \"In place addition\"\n",
    "    - When not implemented\n",
    "        - \\__add\\__ is called\n",
    "        - A new object is created first which is then bound to our initial object\n",
    "            - The identity of our object can change\n",
    "            - Would happen if object is immutable"
   ]
  },
  {
   "cell_type": "code",
   "execution_count": 18,
   "metadata": {},
   "outputs": [
    {
     "data": {
      "text/plain": [
       "2669395352136"
      ]
     },
     "execution_count": 18,
     "metadata": {},
     "output_type": "execute_result"
    }
   ],
   "source": [
    "l1 = [1]\n",
    "id(l1)"
   ]
  },
  {
   "cell_type": "code",
   "execution_count": 19,
   "metadata": {},
   "outputs": [
    {
     "data": {
      "text/plain": [
       "2669395352136"
      ]
     },
     "execution_count": 19,
     "metadata": {},
     "output_type": "execute_result"
    }
   ],
   "source": [
    "l1 *= 2\n",
    "id(l1)"
   ]
  },
  {
   "cell_type": "code",
   "execution_count": 20,
   "metadata": {},
   "outputs": [
    {
     "data": {
      "text/plain": [
       "1513713120"
      ]
     },
     "execution_count": 20,
     "metadata": {},
     "output_type": "execute_result"
    }
   ],
   "source": [
    "t1 = (1)\n",
    "id(t1)"
   ]
  },
  {
   "cell_type": "code",
   "execution_count": 21,
   "metadata": {},
   "outputs": [
    {
     "data": {
      "text/plain": [
       "1513713152"
      ]
     },
     "execution_count": 21,
     "metadata": {},
     "output_type": "execute_result"
    }
   ],
   "source": [
    "t1 *= 2\n",
    "id(t1)"
   ]
  },
  {
   "cell_type": "markdown",
   "metadata": {},
   "source": [
    "## A += Assignment Puzzler"
   ]
  },
  {
   "cell_type": "code",
   "execution_count": 24,
   "metadata": {},
   "outputs": [
    {
     "ename": "TypeError",
     "evalue": "'tuple' object does not support item assignment",
     "output_type": "error",
     "traceback": [
      "\u001b[1;31m---------------------------------------------------------------------------\u001b[0m",
      "\u001b[1;31mTypeError\u001b[0m                                 Traceback (most recent call last)",
      "\u001b[1;32m<ipython-input-24-0e9217592952>\u001b[0m in \u001b[0;36m<module>\u001b[1;34m()\u001b[0m\n\u001b[0;32m      1\u001b[0m \u001b[0mt\u001b[0m \u001b[1;33m=\u001b[0m \u001b[1;33m(\u001b[0m\u001b[1;36m1\u001b[0m\u001b[1;33m,\u001b[0m \u001b[1;36m2\u001b[0m\u001b[1;33m,\u001b[0m \u001b[1;33m[\u001b[0m\u001b[1;36m30\u001b[0m\u001b[1;33m,\u001b[0m \u001b[1;36m40\u001b[0m\u001b[1;33m]\u001b[0m\u001b[1;33m)\u001b[0m\u001b[1;33m\u001b[0m\u001b[0m\n\u001b[1;32m----> 2\u001b[1;33m \u001b[0mt\u001b[0m\u001b[1;33m[\u001b[0m\u001b[1;36m2\u001b[0m\u001b[1;33m]\u001b[0m \u001b[1;33m+=\u001b[0m \u001b[1;33m[\u001b[0m\u001b[1;36m50\u001b[0m\u001b[1;33m,\u001b[0m \u001b[1;36m60\u001b[0m\u001b[1;33m]\u001b[0m\u001b[1;33m\u001b[0m\u001b[0m\n\u001b[0m",
      "\u001b[1;31mTypeError\u001b[0m: 'tuple' object does not support item assignment"
     ]
    }
   ],
   "source": [
    "t = (1, 2, [30, 40])\n",
    "t[2] += [50, 60]"
   ]
  },
  {
   "cell_type": "code",
   "execution_count": 27,
   "metadata": {},
   "outputs": [
    {
     "data": {
      "text/plain": [
       "(1, 2, [30, 40, 50, 60])"
      ]
     },
     "execution_count": 27,
     "metadata": {},
     "output_type": "execute_result"
    }
   ],
   "source": [
    "t"
   ]
  },
  {
   "cell_type": "markdown",
   "metadata": {},
   "source": [
    "<font color='red'> dis library?\n",
    "* Explain the output of disassembled bytecode\n",
    "  <br>\\* Further reading"
   ]
  },
  {
   "cell_type": "markdown",
   "metadata": {},
   "source": [
    "## list.sort\n",
    "- Sorts a list without making a copy\n",
    "    - Returns None\n",
    "    \n",
    "\\* Functions that change object in place should return None\n",
    "    - API convention\n",
    "    \n",
    "## Built--In sorted Function\n",
    "- Creates a new lsit and returns it\n",
    "\n",
    "\n",
    "## Bisect\n",
    "- Offers 2 main functions\n",
    "    - bisect\n",
    "    - insort\n",
    "- Takes optional *lo\\,*hi to limit the search to a subsequence\n",
    "    \n",
    "#### Searchign with bisect\n",
    "- bisect(haystack, needle)\n",
    "    - Binary search\n",
    "        - Must be a sorted squence\n",
    "        - 0(LogN)\n",
    "    - Locates the postiion where needle can be inserted while haystacks stays in ascending order\n",
    "    \n",
    "#### bisect.insort\n",
    "- insort(seq, item)\n",
    "- Inserts item into seq when already sorted\n",
    "\n",
    "\n",
    "## When a List Is Not the Answer\n",
    "- When storing a large number of elements\n",
    "    - List holds full-fledged float objects\n",
    "- When constantly adding and removing elements from the ends\n",
    "    - Use a deque (double-ended queue)\n",
    "- When doing containment checks\n",
    "    - Use sets from my_collection\n",
    "\n",
    "## Arrays\n",
    "- To create array one provides a typecode but no size\n",
    "\n",
    "#### Memory Views\n",
    "- Built in memoryview class\n",
    "- Handles slices of arrays without copying bytes\n",
    "- memoryview.cast\n",
    "    - Changes the way multiple bytes are read or written\n",
    "    - Returns a memoryview object\n",
    "    \n",
    "    \n",
    "\n",
    "\n",
    "    \n",
    "    "
   ]
  },
  {
   "cell_type": "code",
   "execution_count": 5,
   "metadata": {},
   "outputs": [],
   "source": [
    "from array import array"
   ]
  },
  {
   "cell_type": "code",
   "execution_count": 11,
   "metadata": {},
   "outputs": [
    {
     "data": {
      "text/plain": [
       "5"
      ]
     },
     "execution_count": 11,
     "metadata": {},
     "output_type": "execute_result"
    }
   ],
   "source": [
    "numbers = array('h', [-2, -1, 0, 1, 2])\n",
    "memv = memoryview(numbers)\n",
    "len(memv)"
   ]
  },
  {
   "cell_type": "code",
   "execution_count": 12,
   "metadata": {},
   "outputs": [
    {
     "data": {
      "text/plain": [
       "[254, 255, 255, 255, 0, 0, 1, 0, 2, 0]"
      ]
     },
     "execution_count": 12,
     "metadata": {},
     "output_type": "execute_result"
    }
   ],
   "source": [
    "memv_oct = memv.cast('B')\n",
    "memv_oct.tolist()"
   ]
  },
  {
   "cell_type": "markdown",
   "metadata": {},
   "source": [
    "## Deques and Other Queues\n",
    "- collections.dequeue\n",
    "    - Double endede queue made for fast operations with first and last elements in a sequence\n",
    "    \n",
    "- multiprocessing\n",
    "    - Queue designed for interprocess communication\n",
    "- asyncio\n",
    "    - Great for managing tasks in <font color='red'>asynchronous programming<br>\n",
    "- heapq\n",
    "    - Provides functions that let you mutable sequences as a heap queue\n",
    "      \n",
    "    "
   ]
  }
 ],
 "metadata": {
  "kernelspec": {
   "display_name": "Python 3",
   "language": "python",
   "name": "python3"
  },
  "language_info": {
   "codemirror_mode": {
    "name": "ipython",
    "version": 3
   },
   "file_extension": ".py",
   "mimetype": "text/x-python",
   "name": "python",
   "nbconvert_exporter": "python",
   "pygments_lexer": "ipython3",
   "version": "3.6.4"
  }
 },
 "nbformat": 4,
 "nbformat_minor": 2
}
