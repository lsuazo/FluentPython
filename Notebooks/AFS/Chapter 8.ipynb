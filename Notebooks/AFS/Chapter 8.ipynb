{
 "cells": [
  {
   "cell_type": "markdown",
   "metadata": {},
   "source": [
    "# Object References, Mutability, and Recycling\n",
    "\n",
    "## Variables Are Not Boxes\n",
    "\n",
    "- Variables are mere labels\n",
    "    - Variables dont contain values, they are just references that point to the spot in memeory where the values are stored\n",
    "    \n",
    "    \n",
    "## Identity, Equality, and Aliases\n",
    "\n",
    "- Because variables are mere labels, nothing prevents an object from having several labels assigned to it. When that happens, you have aliasing\n",
    "\n",
    "-  id()\n",
    "    - Returns the memory address of the object, IID is a unique numeric label, and it will never change during the life of the object\n",
    "    \n",
    "## The Relative Immutability of Tuples\n",
    "\n",
    "- Tuples are immutable, but it doesnt hold values, just references\n",
    "    - the values that are referenced inside a tuple can be changes, thus changing the apparent contents of the tuple"
   ]
  },
  {
   "cell_type": "code",
   "execution_count": 5,
   "metadata": {},
   "outputs": [
    {
     "data": {
      "text/plain": [
       "True"
      ]
     },
     "execution_count": 5,
     "metadata": {},
     "output_type": "execute_result"
    }
   ],
   "source": [
    "t1 = (1, 2, [30, 40])\n",
    "t2 = (1, 2, [30, 40])\n",
    "t1 == t2 "
   ]
  },
  {
   "cell_type": "code",
   "execution_count": 6,
   "metadata": {},
   "outputs": [
    {
     "data": {
      "text/plain": [
       "(1, 2, [30, 40, 50])"
      ]
     },
     "execution_count": 6,
     "metadata": {},
     "output_type": "execute_result"
    }
   ],
   "source": [
    "t1[-1].append(50)\n",
    "t1"
   ]
  },
  {
   "cell_type": "code",
   "execution_count": 7,
   "metadata": {},
   "outputs": [
    {
     "data": {
      "text/plain": [
       "False"
      ]
     },
     "execution_count": 7,
     "metadata": {},
     "output_type": "execute_result"
    }
   ],
   "source": [
    " t1 == t2"
   ]
  },
  {
   "cell_type": "markdown",
   "metadata": {},
   "source": [
    "## Copies Are Shallow by Default\n",
    "\n",
    "- Shallow copy\n",
    "    - The outermost container is duplicated, but the copy is filled with references to the same items held by the original container\n",
    "    \n",
    "- With shallow copies, both containers or variables reference the same objects thus changing one causes a change on the other\n",
    "\n",
    "## Deep and Shallow Copies of Arbitrary Objects\n",
    "\n",
    "- copy() \n",
    "    - Creates a shallow copy\n",
    "- deepcopy()\n",
    "    - Creates a deep copy\n",
    "    \n",
    "* A deep copy may be too deep in some cases. For example, objects may refer to external resources or singletons that should not be copied\n",
    "\n",
    "## Function Parameters as References\n",
    "\n",
    "- Each formal parameter of the function gets a copy of each reference in the arguments. In other words, the parameters inside the function become aliases of the actual arguments\n",
    "\n",
    "## Mutable Types as Parameter Defaults: Bad Idea\n",
    "\n",
    "- The problem is that each default value is evaluated when the function is defined—i.e., usually when the module is loaded—and the default values become attributes of the function object. So if a default value is a mutable object, and you change it, the change will affect every future call of the function\n",
    "\n",
    "## del and Garbage Collection\n",
    "\n",
    "- Objects are never explicitly destroyed, when they become unreachable they may be collected by the garbage collector\n",
    "\n",
    "- The _del_ statement deletes names, not objects\n",
    "    - The garbage collector deletes the object only if the deleted name was the last standing reference to that object\n",
    "    \n",
    "* The primary algorithm for garbage collection is reference counting. Each object keeps track of how many refrences point to it. When count reaches 0, object is destroyed\n",
    "\n",
    "## Weak References\n",
    "\n",
    "- Sometimes it is useful to have a reference to an object that does not keep it around longer than necessary\n",
    "    - A common use case is a cache\n",
    "    - Weak references do not increase its reference count\n",
    "    \n",
    "* The object that is the target of a reference is called a _referent_"
   ]
  },
  {
   "cell_type": "code",
   "execution_count": 8,
   "metadata": {},
   "outputs": [
    {
     "data": {
      "text/plain": [
       "<weakref at 0x0000017779A81AE8; to 'set' at 0x0000017779A83D68>"
      ]
     },
     "execution_count": 8,
     "metadata": {},
     "output_type": "execute_result"
    }
   ],
   "source": [
    "import weakref\n",
    "a_set = {0, 1}\n",
    "wref = weakref.ref(a_set)\n",
    "wref "
   ]
  },
  {
   "cell_type": "code",
   "execution_count": 9,
   "metadata": {},
   "outputs": [
    {
     "data": {
      "text/plain": [
       "{0, 1}"
      ]
     },
     "execution_count": 9,
     "metadata": {},
     "output_type": "execute_result"
    }
   ],
   "source": [
    "wref()"
   ]
  },
  {
   "cell_type": "markdown",
   "metadata": {},
   "source": [
    "## The WeakValueDictionary Skit\n",
    "\n",
    "- The class WeakValueDictionary implements a mutable mapping where the values are weak references to objects\n",
    "    - When a referred object is garbage collected elsewhere in the program, the corresponding key is automatically removed from WeakValueDictionary\n"
   ]
  },
  {
   "cell_type": "code",
   "execution_count": null,
   "metadata": {},
   "outputs": [],
   "source": []
  }
 ],
 "metadata": {
  "kernelspec": {
   "display_name": "Python 3",
   "language": "python",
   "name": "python3"
  },
  "language_info": {
   "codemirror_mode": {
    "name": "ipython",
    "version": 3
   },
   "file_extension": ".py",
   "mimetype": "text/x-python",
   "name": "python",
   "nbconvert_exporter": "python",
   "pygments_lexer": "ipython3",
   "version": "3.6.4"
  }
 },
 "nbformat": 4,
 "nbformat_minor": 2
}
