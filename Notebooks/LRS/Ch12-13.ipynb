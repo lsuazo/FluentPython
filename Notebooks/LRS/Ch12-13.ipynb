{
 "cells": [
  {
   "cell_type": "markdown",
   "metadata": {},
   "source": [
    "# CH 12-13"
   ]
  },
  {
   "cell_type": "markdown",
   "metadata": {},
   "source": [
    "## TOC<a id='toc'></a>\n",
    "* [Ch12 Notes](#ch12_notes)\n",
    "* [Ch13 Notes](#ch13_notes)"
   ]
  },
  {
   "cell_type": "markdown",
   "metadata": {},
   "source": [
    "### CH12 Notes <a id='ch12_notes'></a>\n",
    "[toc](#toc)\n",
    "### Inheritance: For Good or For Worse"
   ]
  },
  {
   "cell_type": "markdown",
   "metadata": {},
   "source": [
    "### Subclassing Built-in is Tricky\n",
    "* code for built-ins (written in C) does not call sepcial methods overwritten by user\n",
    "* built-in behavior is a violation of a basic rule of object-oriented programming: \n",
    "    - the search for methods should always start from the class of the target instance (self) even when the call happens inside a method implemented in a super class.\n",
    "* instead of subclassing built-ins, derive your classes from collections module, like `UserDict`, etc, which are meant to be extended."
   ]
  },
  {
   "cell_type": "markdown",
   "metadata": {},
   "source": [
    "### Multiple Inheritance and Method Resolution Order\n",
    "* the **diamong problem**: naming conflicts arising from multiple inheritance, when unrelated ancestors implement method by same name\n",
    "    - *can call methods direclty from class, by passing instance var as argument*\n",
    "* amibuguity resolved becuase python follows a specific order when traversing the inheritance graph - called the **MRO**: **Method Reslution Order**\n",
    "    - classes have an attribute called `__mro__` holding a tuple of references to the superclasses in MRO order, from current, all the way to the `object` class.\n",
    "    - takes into account not only inheritance, but also order in which superclasses are listed in the subclass declaration\n",
    "* recomended way to delegate method casll to superclass is using the `super()` built-in\n",
    "    - will follow MRO\n",
    "* can bypass by using desired class name directly, and passing self. \n",
    "    - (you must pass self in this case because you are accessing an **unbound method**)\n",
    "    - this is not recommendend"
   ]
  },
  {
   "cell_type": "markdown",
   "metadata": {},
   "source": [
    "### Multiple Inheritance in the Real World\n",
    "* Adapter pattern uses it (only one of the 22 patterns in the Design Patterns book)\n",
    "* Tkinter uses it - but it is 20 yrs old, and no longer best practice\n",
    "* Django does it well"
   ]
  },
  {
   "cell_type": "markdown",
   "metadata": {},
   "source": [
    "### Coping with multiple inheritance\n",
    "1. Distinguish interface inheritance from implementation inheritance\n",
    "    - two reasons to inherit: 1) create a \"is-a\" relationship (interface inheritance) and 2) avoid code duplication (implementation inheritance)\n",
    "    - in practice, often both. But when often you can replace just the second with composition or delegation\n",
    "2. Make interfaces explicit with ABCs\n",
    "3. Use Mixins for code reuse\n",
    "    - conceptually, a mixin does not define a new type; it merely bundles code for reuse.\n",
    "    - mixin should never be instantiated, and a concrete class should not inherit only from a mixin\n",
    "    - each mixin should provide a specific behavior, implementing few and very closely related methods.\n",
    "4. Make mixinx explicit by naming\n",
    "5. ABC can be a mixin, but not the other way around\n",
    "    - however, abc concrete methods should use only the public interface; while this need not be true of mixin\n",
    "6. Don't subclass from more than one concrete class\n",
    "    - some people say not even one concrete class: \"all non-leaf classes should be abstract\" -Scott Meyer's\n",
    "7. Provide Aggregate classes to Users\n",
    "    - create empty classes that are useful combinations of mixins and/or abcs (called **aggregate classes**)\n",
    "8. VIP: <font color='blue'> Favor object composition over class inheritance </font>\n",
    "    - inheritance is a very tight coupling, and even with single inheritance, tall trees tend to be very brittle \n",
    "    - composition enhances flexibility"
   ]
  },
  {
   "cell_type": "markdown",
   "metadata": {},
   "source": [
    "<hr>\n",
    "<br>\n",
    "Interesting paradigm: if many things inherit from ABC, that don't all need to implement the same methods, don't include them in abc, but include some \"dispatch\" method which can check existence and delegate to appropriate \"handler\" methods, implemented by concrete classes (or raise).\n",
    "<br>\n",
    "<hr>"
   ]
  },
  {
   "cell_type": "markdown",
   "metadata": {},
   "source": [
    "Always ask: \"Am I writing an application, or a framework?\" - If application, the classes you code are generally leaf classes. If not, you are probably reinventing the wheel, and there is some framework out there that does what you need."
   ]
  },
  {
   "cell_type": "markdown",
   "metadata": {},
   "source": [
    "### CH13 Notes <a id='ch13_notes'></a>\n",
    "[toc](#toc)\n",
    "### Operator Overloading: Doing it Right"
   ]
  },
  {
   "cell_type": "markdown",
   "metadata": {},
   "source": [
    "Python operator overloading limitations:\n",
    "* cannot overload operators for builtins\n",
    "* cannot create new operators\n",
    "* some operators cannot be overloaded (`is`, `and`, `or`, `not`)\n",
    "    - but bitwise ( `&, |, ~`) can"
   ]
  },
  {
   "cell_type": "markdown",
   "metadata": {},
   "source": [
    "### Unary Operators\n",
    "* `-`  `__neg__`: arithmetic negation. `-x`\n",
    "* `+` `__pos__`: arithmetic unary plus\n",
    "    - ???\n",
    "* `~` `__invert__`: bitwise inverse of integer: defined as `~x = -(x+1)`\n",
    "* Some consider `abs(...)` as unary op too - `__abs__`\n",
    "\n",
    "Overloading\n",
    "- just implement special method\n",
    "- fundamental rule of operators: always return a new object, do not modify self."
   ]
  },
  {
   "cell_type": "markdown",
   "metadata": {},
   "source": [
    "### Binary Operators\n",
    "* `+` `__add__(self, other)`\n",
    "\n",
    "To support operations involving objects of diferent types, Python implements a special dispatching mechanism for the infix operatprs special methods: given `a + b`, interpreter will perform thses steps\n",
    "- if `a` has `__add__`, call `a.__add__(b)`, and return result unless its `NotImplemented`\n",
    "    * **Do not confuse `NotImplemented` -  a special singleton value - with `NotImplementedError` - an exception\n",
    "- if `a` doesn't have it, or returned notimplemented, check if `b` has `__radd__`. If so call, and return unless returns NotImplementd\n",
    "- if `b` doesnt have it or returned notImplemented, raise `TypeError` with unsuported operand types message"
   ]
  },
  {
   "cell_type": "markdown",
   "metadata": {},
   "source": [
    "* `__radd__` - r can stand for reversed, or reflected, or right."
   ]
  },
  {
   "cell_type": "code",
   "execution_count": 3,
   "metadata": {},
   "outputs": [
    {
     "ename": "TypeError",
     "evalue": "exceptions must derive from BaseException",
     "output_type": "error",
     "traceback": [
      "\u001b[1;31m---------------------------------------------------------------------------\u001b[0m",
      "\u001b[1;31mTypeError\u001b[0m                                 Traceback (most recent call last)",
      "\u001b[1;32m<ipython-input-3-2ae0db543f4a>\u001b[0m in \u001b[0;36m<module>\u001b[1;34m\u001b[0m\n\u001b[1;32m----> 1\u001b[1;33m \u001b[1;32mraise\u001b[0m \u001b[0mNotImplemented\u001b[0m\u001b[1;33m\u001b[0m\u001b[1;33m\u001b[0m\u001b[0m\n\u001b[0m",
      "\u001b[1;31mTypeError\u001b[0m: exceptions must derive from BaseException"
     ]
    }
   ],
   "source": [
    "raise NotImplemented"
   ]
  },
  {
   "cell_type": "code",
   "execution_count": 4,
   "metadata": {},
   "outputs": [
    {
     "ename": "NotImplementedError",
     "evalue": "",
     "output_type": "error",
     "traceback": [
      "\u001b[1;31m---------------------------------------------------------------------------\u001b[0m",
      "\u001b[1;31mNotImplementedError\u001b[0m                       Traceback (most recent call last)",
      "\u001b[1;32m<ipython-input-4-91639a24e592>\u001b[0m in \u001b[0;36m<module>\u001b[1;34m\u001b[0m\n\u001b[1;32m----> 1\u001b[1;33m \u001b[1;32mraise\u001b[0m \u001b[0mNotImplementedError\u001b[0m\u001b[1;33m\u001b[0m\u001b[1;33m\u001b[0m\u001b[0m\n\u001b[0m",
      "\u001b[1;31mNotImplementedError\u001b[0m: "
     ]
    }
   ],
   "source": [
    "raise NotImplementedError"
   ]
  },
  {
   "cell_type": "markdown",
   "metadata": {},
   "source": [
    "Good practice to catch error and return `NotImplemented`, so that python can call the other guys radd. Otherwise error stops the dispatching.\n",
    "    - do this in the `__add__`\n",
    "    - in the `__radd__`, you should raise reasonable error"
   ]
  },
  {
   "cell_type": "markdown",
   "metadata": {},
   "source": [
    "Jargon:\n",
    "- infix means operator is between operands, as opposed to prefix or postfix\n",
    "    * 2+2, vs +2 2 or 2 2 +"
   ]
  },
  {
   "cell_type": "markdown",
   "metadata": {},
   "source": [
    "### Infix operators (less rich comparison)\n",
    "* +, - , *, /, //, divmod(), ** (or pow()), &, |, ^, <<, >>\n",
    "\n",
    "Python 3.5 now has an extra operator: `@`\n",
    "    - its associated special methods are: `__matmul__`, `__rmatmul__`, and `__imatmul__` (this last one is @=)"
   ]
  },
  {
   "cell_type": "markdown",
   "metadata": {},
   "source": [
    "### Rich comparison operators\n",
    "- ==, !=, >, <, >=, <=\n",
    "- different than above in two important ways\n",
    "    * same set called in forward and reverse calls (but `__lt__` switches to `__gt__`)\n",
    "    * in the case of `==` and `!=`, if reverse call fails, then python comparse ids\n",
    "- often no need for `__ne__`, because fall back behavior is to negate result of `__eq__`"
   ]
  },
  {
   "cell_type": "markdown",
   "metadata": {},
   "source": [
    "### Augmented Assignment Operators\n",
    "* augmented assignment operators must return self (prolly not code enforced)\n",
    "* if the class doesnt implement the augmented assignment operators, then `a += b` is evaluated as `a = a + b`\n",
    "    - obviously, in place special methods should never be implemented for immutable types\n",
    "* note generally `+=` is more liberal in its rhs than just `+`, because no ambiguity as to what return type is desired."
   ]
  },
  {
   "cell_type": "markdown",
   "metadata": {},
   "source": [
    "Operator overloading is one area in which isinstance checks are common - but it is preferred to use goose typing"
   ]
  },
  {
   "cell_type": "code",
   "execution_count": null,
   "metadata": {},
   "outputs": [],
   "source": []
  }
 ],
 "metadata": {
  "kernelspec": {
   "display_name": "Python 3",
   "language": "python",
   "name": "python3"
  },
  "language_info": {
   "codemirror_mode": {
    "name": "ipython",
    "version": 3
   },
   "file_extension": ".py",
   "mimetype": "text/x-python",
   "name": "python",
   "nbconvert_exporter": "python",
   "pygments_lexer": "ipython3",
   "version": "3.7.6"
  }
 },
 "nbformat": 4,
 "nbformat_minor": 2
}
