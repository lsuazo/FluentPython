{
 "cells": [
  {
   "cell_type": "markdown",
   "metadata": {},
   "source": [
    "# CH 14"
   ]
  },
  {
   "cell_type": "markdown",
   "metadata": {},
   "source": [
    "## TOC<a id='toc'></a>\n",
    "* [Ch14 Notes](#ch14_notes)"
   ]
  },
  {
   "cell_type": "markdown",
   "metadata": {},
   "source": [
    "### CH14 Notes <a id='ch14_notes'></a>\n",
    "[toc](#toc)\n",
    "### Iterables, Iterators and Generators"
   ]
  },
  {
   "cell_type": "markdown",
   "metadata": {},
   "source": [
    "* The **yield** keyword was added in python 2.2, which allows the construction of generators, which work as iterators.\n",
    "* *Every generator is an iterator*: generators fully implement the iterator interface. But an iterator (as defined in the GoF book) retrieves iterms from a collection, while a generator can produce iterms \"out of thin air\".\n",
    "    - however, python community treats iterator and generator as synomyms most of the time.\n",
    "* Every collection in python is **iterable**, and iterators are used internally to support:\n",
    "    - for loops\n",
    "    - collection types constructions and extensions\n",
    "    - looping over text files line by line\n",
    "    - list, dict, and set comprehensions\n",
    "    - typle unpacking\n",
    "    - unpacking actual parameters with * in function call"
   ]
  },
  {
   "cell_type": "markdown",
   "metadata": {},
   "source": [
    "## Sentence Take #1: A Sequence of Words\n",
    "* when an interpreter needs to iterate over and object x, it automatically calls `iter(x)`. It\n",
    "    1. checks whether object implements `__tier__`, and calls that to obtain an iterator\n",
    "    2. if `__iter__` not implemented, but `__getitem__` is, python creates and iterator that attemps to fetch items in order starting from index 0 (why all sequences are iterable)\n",
    "    3. If that fails, python raises TypeError\n",
    "* from the sense of goose typing, and object is consideret iterable if it implements `__iter__` method. \n",
    "    - no subclassing or registration required because abc.Iterable implements the sibclasshook.\n",
    "* but because of the getitem fallback, as of python 3.4, most accurate way to check if object is iterable is to call iter on it and handle TyperError exception."
   ]
  },
  {
   "cell_type": "markdown",
   "metadata": {},
   "source": [
    "* **iterable**: an object from which the iter function can obtain an iteratir. \n",
    "    - objects implementing an `__iter__` method returning an *iterator* are itertable\n",
    "* **iterator**: ...?\n",
    "        - from python docs - \"An object representing a stream of data. can call next on it. Will raise StopIteration when exhausted. (and every subsequent call to next)\n",
    "        - it is required to implement an `__iter__` function and return self, so that it can also be used as an iterable."
   ]
  },
  {
   "cell_type": "markdown",
   "metadata": {},
   "source": [
    "* The standard interface for an interator has two methods:\n",
    "   * `__next__`: returns next available item, raising `StopIteration` when there are no more items\n",
    "   * `__iter__`: Returns self; this allows the iterators to be used where an iterable is expected - for example in a for loop"
   ]
  },
  {
   "cell_type": "markdown",
   "metadata": {},
   "source": [
    "```\n",
    "class Iterator(Iterable):\n",
    "    __slots__ = ()\n",
    "    \n",
    "    @abstractmethod\n",
    "    def __next__(self):\n",
    "        'Return the next item from the iterator. When exhausted raise StopIteration'\n",
    "        raise StopIteration\n",
    "    \n",
    "    def __iter__(self):\n",
    "        return self\n",
    "        \n",
    "    @classmethod\n",
    "    def __subclasshook__(cls, C):\n",
    "        if cls is Iterator:\n",
    "            if (any(\"__next__\" in B.__dict__ for B in C.__mro__) and any(\"__iter__\" in B.__dict__ for B in C.__mro__)):\n",
    "                return True\n",
    "        return NotImplemented\n",
    "```"
   ]
  },
  {
   "cell_type": "markdown",
   "metadata": {},
   "source": [
    "From python source code: \"Iterators in python aren't a matter of type but of protocol. ... Don't check the type! Use hasattr to check for both \"`__iter__`\" and \"`__next__`\" attributes instead."
   ]
  },
  {
   "cell_type": "markdown",
   "metadata": {},
   "source": [
    "There is no way to \"reset\" and iterator. If you need to start over, you need to call iter(...) on the iterable that built it.\n",
    "    - this wont work f you built it from an iterator because it just returns self"
   ]
  },
  {
   "cell_type": "markdown",
   "metadata": {},
   "source": [
    "## Sentence Take # 2: A Classic Interior\n",
    "* built according to classic iterator design pattern following GoF (not idiomatic python)\n",
    "* This sentence is *iterable* because it implements the `__iter__` special method, which returns a `SentenceIterator`\n",
    "* writes two classes: `Sentence`  which is built with some text, and `SentenceIterator` built with a list of words (returned by sentence `__iter__`), and contains an index which gets advanced at every call of next(..)\n"
   ]
  },
  {
   "cell_type": "markdown",
   "metadata": {},
   "source": [
    "* all iterators are iterables, but not all iterables are iterators\n",
    "* it is tempting to implement `__next__` in addition to `__iter__` in Sentence, but that is a terrible idea. It is a common *anti-pattern* accordin to Alex Martelli\n",
    "    - you need to be able to support multiple traversals\n",
    "    - that is, you must be able to support multiple independent iterators, from same iterable instance; each with its own internal state."
   ]
  },
  {
   "cell_type": "markdown",
   "metadata": {},
   "source": [
    "## Sentence Take #3: A generator Function"
   ]
  },
  {
   "cell_type": "markdown",
   "metadata": {},
   "source": [
    "```\n",
    "class Sentence:\n",
    "\n",
    "    def __init__(self, text)::\n",
    "        self.text = text\n",
    "        self.words = RE_WORD.findall(text)\n",
    "        \n",
    "    def __iter___(self):\n",
    "        for word in self.words:\n",
    "            yield word\n",
    "        return\n",
    "```"
   ]
  },
  {
   "cell_type": "markdown",
   "metadata": {},
   "source": [
    "* The last return is not needed, function can just fall through.\n",
    "* generator function does not need to raise StopIteration, it simply exits."
   ]
  },
  {
   "cell_type": "markdown",
   "metadata": {},
   "source": [
    "### How a Generator Function Works"
   ]
  },
  {
   "cell_type": "markdown",
   "metadata": {},
   "source": [
    "* a **generator function** is apython function that has the word *yield* in its body. When called, such a function returns a **generator object**.\n",
    "    - so a generator function is a generator factory\n",
    "    - generators are iterators that produce the value passed to *yield*"
   ]
  },
  {
   "cell_type": "code",
   "execution_count": 1,
   "metadata": {},
   "outputs": [],
   "source": [
    "def gen_123():\n",
    "    yield 1\n",
    "    yield 2\n",
    "    yield 3"
   ]
  },
  {
   "cell_type": "code",
   "execution_count": 4,
   "metadata": {},
   "outputs": [],
   "source": [
    "gen_obj = gen_123()"
   ]
  },
  {
   "cell_type": "code",
   "execution_count": 6,
   "metadata": {},
   "outputs": [
    {
     "data": {
      "text/plain": [
       "(1, 2, 3)"
      ]
     },
     "execution_count": 6,
     "metadata": {},
     "output_type": "execute_result"
    }
   ],
   "source": [
    "next(gen_obj), next(gen_obj), next(gen_obj)"
   ]
  },
  {
   "cell_type": "code",
   "execution_count": 7,
   "metadata": {},
   "outputs": [
    {
     "ename": "StopIteration",
     "evalue": "",
     "output_type": "error",
     "traceback": [
      "\u001b[1;31m---------------------------------------------------------------------------\u001b[0m",
      "\u001b[1;31mStopIteration\u001b[0m                             Traceback (most recent call last)",
      "\u001b[1;32m<ipython-input-7-637dc62bc8bc>\u001b[0m in \u001b[0;36m<module>\u001b[1;34m\u001b[0m\n\u001b[1;32m----> 1\u001b[1;33m \u001b[0mnext\u001b[0m\u001b[1;33m(\u001b[0m\u001b[0mgen_obj\u001b[0m\u001b[1;33m)\u001b[0m\u001b[1;33m\u001b[0m\u001b[1;33m\u001b[0m\u001b[0m\n\u001b[0m",
      "\u001b[1;31mStopIteration\u001b[0m: "
     ]
    }
   ],
   "source": [
    "next(gen_obj)"
   ]
  },
  {
   "cell_type": "code",
   "execution_count": 8,
   "metadata": {},
   "outputs": [],
   "source": [
    "def gen_123():\n",
    "    yield 1\n",
    "    yield 2\n",
    "    return 4\n",
    "    yield 3"
   ]
  },
  {
   "cell_type": "code",
   "execution_count": 9,
   "metadata": {},
   "outputs": [],
   "source": [
    "gen_obj = gen_123()"
   ]
  },
  {
   "cell_type": "code",
   "execution_count": 12,
   "metadata": {},
   "outputs": [
    {
     "ename": "StopIteration",
     "evalue": "4",
     "output_type": "error",
     "traceback": [
      "\u001b[1;31m---------------------------------------------------------------------------\u001b[0m",
      "\u001b[1;31mStopIteration\u001b[0m                             Traceback (most recent call last)",
      "\u001b[1;32m<ipython-input-12-637dc62bc8bc>\u001b[0m in \u001b[0;36m<module>\u001b[1;34m\u001b[0m\n\u001b[1;32m----> 1\u001b[1;33m \u001b[0mnext\u001b[0m\u001b[1;33m(\u001b[0m\u001b[0mgen_obj\u001b[0m\u001b[1;33m)\u001b[0m\u001b[1;33m\u001b[0m\u001b[1;33m\u001b[0m\u001b[0m\n\u001b[0m",
      "\u001b[1;31mStopIteration\u001b[0m: 4"
     ]
    }
   ],
   "source": [
    "next(gen_obj)"
   ]
  },
  {
   "cell_type": "markdown",
   "metadata": {},
   "source": [
    "A *generator function* builds a *generator object* that wraps the body of the function. When we invoke `next()` on the generator object, execution advances to the next *yield* statement in the function, and the next() call evaluates to the value yielded when the body of the function is suspended. Finally, when the function body *returns*, the enclosing generator object raises `StopIteration` in accordance with the Iterator protocol.\n",
    "    - can return value - it is given to the StopIteration object. (mostly used when using generators a coroutines)"
   ]
  },
  {
   "cell_type": "markdown",
   "metadata": {},
   "source": [
    "* Improvements\n",
    "    1. Iterators designed to be lazy - instead of creating list and using for loop, can just do a for loop a re.finditer() and yield result.\n",
    "    2. can actually replace that by a generator expression using the finditer"
   ]
  },
  {
   "cell_type": "markdown",
   "metadata": {},
   "source": [
    "### generator expression\n",
    "* istead of \n",
    "```\n",
    "def __iter__(self):\n",
    "    for match in RE_WORD.finditer(self.text):\n",
    "        yield match.group()\n",
    "```\n",
    "\n",
    "just do\n",
    "\n",
    "```\n",
    "def __iter__(self):\n",
    "    return ( match.group() for match in RE_WORD.finditer(self.text))\n",
    "```\n",
    "\n",
    "the above is a generator function. The below is a regular function that returns a generator object (so while not a generator function, it is still a generator factory). So in both cases, calling iter on object returns a generator.\n",
    "\n",
    "* generator expressions are the lazy version of list comprehension. Saves memory, and often saves processing. Because a user might stop evaluation early on in the process.\n",
    "\n",
    "* syntax tip: when calling function with single argument being a generator expression, can drop the paren, and only use the function paren.\n",
    "\n",
    "* generators not only useful for traversal, they can aldo be use to produce objects on the fly."
   ]
  },
  {
   "cell_type": "markdown",
   "metadata": {},
   "source": [
    "### Ready to use generators\n",
    "* itertools has 19 generator functions that can be combined in a variety of interesting ways.\n",
    "    - `itertools.count` returns a generator that produces numbers that never stops (can provide start and step)\n",
    "    - `itertools.takewhile` generator that consumes another generator and stops when a given  predicate evals to False\n",
    "* other\n",
    "    - `os.walk` yields filenames while traversing a directory tree - so can do recursive file system search with simple for loop\n",
    "    - filtering:\n",
    "        * itertools.compress(it, selector_it)\n",
    "        * itertool.dropwhile(predicated, it) - once hits false, stops dropping and doesn't check again\n",
    "        * (builtin) filter(predicate, it) - only lets pass if predicate true; if predicate none, it is basically bool(arg)\n",
    "        * itertools.isslice(it, stop) or (it, start, stop, step=1)\n",
    "        * itertools.takewhile(predicate, it)\n",
    "    - mapping generators\n",
    "        * itertools.accumulate(it, [func])\n",
    "            - like reduce but returns rolling value; if no func it sums\n",
    "        * (builtin) enumerate(iterable, start=0)\n",
    "        * (builtin) map( func, it1, [it2,...,itN]) -  if n iterables, all passed consumed in parallel by func\n",
    "        * itertools.starmap( func, it) - it should yield iterable item `iit`, and `func(*iit)` applied.\n",
    "    - merging generators\n",
    "        - itertools.chain(it1, ..., itN) - yield them in order\n",
    "        - itertools.chain.from_iterables(it) - it should be itrable of iterables\n",
    "        - itetools.produce(it1,..itN, repeat = 1) - cartesian product (like nested for loops)\n",
    "            * repeat, basically like repeating inputs\n",
    "        - (built-in) zip(it1,..,itN) - stops once smalles one stops\n",
    "        - itertools.zip_longest(it1, .., itN, fillvalue=None) - as expected\n",
    "    - expanding generators\n",
    "        - itertools.combinations(it, out_len)\n",
    "        - itertools.combinations_with_replacement(it, out_len)\n",
    "        - itertools.count(start=0, step=1) - never ends\n",
    "        - itertools.cycle(it) - just repeats in order, over and over\n",
    "        - itertools.permutations(it, out_len=None) - default len is len of list\n",
    "        - itertools.repeat(item, [times]) - if not times, indefinitely\n",
    "    - grouping iterators\n",
    "        - itertools.groupby(it, key=None) - requires sorted by key, or at the very least clustered\n",
    "        - itertools.tee(it, n=2) - yields tuple of n independent generators, each yielding items independently\n",
    "        - reversed(seq) - takes a seq, returns iterator in reversed order\n",
    "    - Iterator reducing functions (not iteratoor producing)\n",
    "        - functools.reduce(func, it, [initial])\n",
    "            * builtin versions: any(), all(), max(), min(), sum()"
   ]
  },
  {
   "cell_type": "code",
   "execution_count": 15,
   "metadata": {},
   "outputs": [
    {
     "data": {
      "text/plain": [
       "[('A', 'C', 'A', 'C'),\n",
       " ('A', 'C', 'A', 'D'),\n",
       " ('A', 'C', 'B', 'C'),\n",
       " ('A', 'C', 'B', 'D'),\n",
       " ('A', 'D', 'A', 'C'),\n",
       " ('A', 'D', 'A', 'D'),\n",
       " ('A', 'D', 'B', 'C'),\n",
       " ('A', 'D', 'B', 'D'),\n",
       " ('B', 'C', 'A', 'C'),\n",
       " ('B', 'C', 'A', 'D'),\n",
       " ('B', 'C', 'B', 'C'),\n",
       " ('B', 'C', 'B', 'D'),\n",
       " ('B', 'D', 'A', 'C'),\n",
       " ('B', 'D', 'A', 'D'),\n",
       " ('B', 'D', 'B', 'C'),\n",
       " ('B', 'D', 'B', 'D')]"
      ]
     },
     "execution_count": 15,
     "metadata": {},
     "output_type": "execute_result"
    }
   ],
   "source": [
    "list(itertools.product('AB', 'CD', repeat=2))"
   ]
  },
  {
   "cell_type": "code",
   "execution_count": 16,
   "metadata": {},
   "outputs": [
    {
     "data": {
      "text/plain": [
       "[('A', 'C', 'A', 'C'),\n",
       " ('A', 'C', 'A', 'D'),\n",
       " ('A', 'C', 'B', 'C'),\n",
       " ('A', 'C', 'B', 'D'),\n",
       " ('A', 'D', 'A', 'C'),\n",
       " ('A', 'D', 'A', 'D'),\n",
       " ('A', 'D', 'B', 'C'),\n",
       " ('A', 'D', 'B', 'D'),\n",
       " ('B', 'C', 'A', 'C'),\n",
       " ('B', 'C', 'A', 'D'),\n",
       " ('B', 'C', 'B', 'C'),\n",
       " ('B', 'C', 'B', 'D'),\n",
       " ('B', 'D', 'A', 'C'),\n",
       " ('B', 'D', 'A', 'D'),\n",
       " ('B', 'D', 'B', 'C'),\n",
       " ('B', 'D', 'B', 'D')]"
      ]
     },
     "execution_count": 16,
     "metadata": {},
     "output_type": "execute_result"
    }
   ],
   "source": [
    "list(itertools.product('AB', 'CD', 'AB', 'CD'))"
   ]
  },
  {
   "cell_type": "markdown",
   "metadata": {},
   "source": [
    "Cool examples:"
   ]
  },
  {
   "cell_type": "code",
   "execution_count": 2,
   "metadata": {},
   "outputs": [],
   "source": [
    "import itertools"
   ]
  },
  {
   "cell_type": "markdown",
   "metadata": {},
   "source": [
    "cumsum, running max, min"
   ]
  },
  {
   "cell_type": "code",
   "execution_count": 7,
   "metadata": {},
   "outputs": [],
   "source": [
    "nums = [1,2,0,2, 15,-1,0,7]"
   ]
  },
  {
   "cell_type": "code",
   "execution_count": 11,
   "metadata": {},
   "outputs": [
    {
     "data": {
      "text/plain": [
       "([1, 3, 3, 5, 20, 19, 19, 26],\n",
       " [1, 1, 0, 0, 0, -1, -1, -1],\n",
       " [1, 2, 2, 2, 15, 15, 15, 15])"
      ]
     },
     "execution_count": 11,
     "metadata": {},
     "output_type": "execute_result"
    }
   ],
   "source": [
    "list(itertools.accumulate(nums)), list(itertools.accumulate(nums, min)), list(itertools.accumulate(nums, max))"
   ]
  },
  {
   "cell_type": "markdown",
   "metadata": {},
   "source": [
    "running average"
   ]
  },
  {
   "cell_type": "code",
   "execution_count": 6,
   "metadata": {},
   "outputs": [
    {
     "data": {
      "text/plain": [
       "[1.0, 2.0, 3.0, 4.5, 5.6, 6.833333333333333]"
      ]
     },
     "execution_count": 6,
     "metadata": {},
     "output_type": "execute_result"
    }
   ],
   "source": [
    "list(itertools.starmap(lambda a,b: b/a, enumerate(itertools.accumulate([1,3,5,9,10,13]),start=1)))"
   ]
  },
  {
   "cell_type": "markdown",
   "metadata": {},
   "source": [
    "combinations, cycles, permutations"
   ]
  },
  {
   "cell_type": "code",
   "execution_count": 19,
   "metadata": {},
   "outputs": [
    {
     "data": {
      "text/plain": [
       "[('A', 'B', 'C'),\n",
       " ('A', 'B', 'D'),\n",
       " ('A', 'B', 'E'),\n",
       " ('A', 'C', 'D'),\n",
       " ('A', 'C', 'E'),\n",
       " ('A', 'D', 'E'),\n",
       " ('B', 'C', 'D'),\n",
       " ('B', 'C', 'E'),\n",
       " ('B', 'D', 'E'),\n",
       " ('C', 'D', 'E')]"
      ]
     },
     "execution_count": 19,
     "metadata": {},
     "output_type": "execute_result"
    }
   ],
   "source": [
    "list(itertools.combinations('ABCDE', r=3))"
   ]
  },
  {
   "cell_type": "code",
   "execution_count": 21,
   "metadata": {},
   "outputs": [
    {
     "data": {
      "text/plain": [
       "[('A', 'B', 'C'),\n",
       " ('A', 'B', 'D'),\n",
       " ('A', 'B', 'E'),\n",
       " ('A', 'C', 'B'),\n",
       " ('A', 'C', 'D'),\n",
       " ('A', 'C', 'E'),\n",
       " ('A', 'D', 'B'),\n",
       " ('A', 'D', 'C'),\n",
       " ('A', 'D', 'E'),\n",
       " ('A', 'E', 'B'),\n",
       " ('A', 'E', 'C'),\n",
       " ('A', 'E', 'D'),\n",
       " ('B', 'A', 'C'),\n",
       " ('B', 'A', 'D'),\n",
       " ('B', 'A', 'E'),\n",
       " ('B', 'C', 'A'),\n",
       " ('B', 'C', 'D'),\n",
       " ('B', 'C', 'E'),\n",
       " ('B', 'D', 'A'),\n",
       " ('B', 'D', 'C'),\n",
       " ('B', 'D', 'E'),\n",
       " ('B', 'E', 'A'),\n",
       " ('B', 'E', 'C'),\n",
       " ('B', 'E', 'D'),\n",
       " ('C', 'A', 'B'),\n",
       " ('C', 'A', 'D'),\n",
       " ('C', 'A', 'E'),\n",
       " ('C', 'B', 'A'),\n",
       " ('C', 'B', 'D'),\n",
       " ('C', 'B', 'E'),\n",
       " ('C', 'D', 'A'),\n",
       " ('C', 'D', 'B'),\n",
       " ('C', 'D', 'E'),\n",
       " ('C', 'E', 'A'),\n",
       " ('C', 'E', 'B'),\n",
       " ('C', 'E', 'D'),\n",
       " ('D', 'A', 'B'),\n",
       " ('D', 'A', 'C'),\n",
       " ('D', 'A', 'E'),\n",
       " ('D', 'B', 'A'),\n",
       " ('D', 'B', 'C'),\n",
       " ('D', 'B', 'E'),\n",
       " ('D', 'C', 'A'),\n",
       " ('D', 'C', 'B'),\n",
       " ('D', 'C', 'E'),\n",
       " ('D', 'E', 'A'),\n",
       " ('D', 'E', 'B'),\n",
       " ('D', 'E', 'C'),\n",
       " ('E', 'A', 'B'),\n",
       " ('E', 'A', 'C'),\n",
       " ('E', 'A', 'D'),\n",
       " ('E', 'B', 'A'),\n",
       " ('E', 'B', 'C'),\n",
       " ('E', 'B', 'D'),\n",
       " ('E', 'C', 'A'),\n",
       " ('E', 'C', 'B'),\n",
       " ('E', 'C', 'D'),\n",
       " ('E', 'D', 'A'),\n",
       " ('E', 'D', 'B'),\n",
       " ('E', 'D', 'C')]"
      ]
     },
     "execution_count": 21,
     "metadata": {},
     "output_type": "execute_result"
    }
   ],
   "source": [
    "list(itertools.permutations('ABCDE', r=3))"
   ]
  },
  {
   "cell_type": "markdown",
   "metadata": {},
   "source": [
    "### Yield from"
   ]
  },
  {
   "cell_type": "markdown",
   "metadata": {},
   "source": [
    "* python 3.3 has new syntax: `yield from`\n",
    "```\n",
    "def chain(*iterables):\n",
    "    for i in iterables:\n",
    "        yield from i\n",
    "```"
   ]
  },
  {
   "cell_type": "code",
   "execution_count": 68,
   "metadata": {},
   "outputs": [],
   "source": [
    "def chain(*iterables):\n",
    "    for i in iterables:\n",
    "        for j in i:\n",
    "            yield j"
   ]
  },
  {
   "cell_type": "code",
   "execution_count": 69,
   "metadata": {},
   "outputs": [
    {
     "data": {
      "text/plain": [
       "[1, 2, 3, 4]"
      ]
     },
     "execution_count": 69,
     "metadata": {},
     "output_type": "execute_result"
    }
   ],
   "source": [
    "list(chain((1,2), (3,4)))"
   ]
  },
  {
   "cell_type": "code",
   "execution_count": 25,
   "metadata": {},
   "outputs": [],
   "source": [
    "temp = iter((1,2))"
   ]
  },
  {
   "cell_type": "code",
   "execution_count": 70,
   "metadata": {},
   "outputs": [],
   "source": [
    "def chain(*iterables):\n",
    "    for i in iterables:\n",
    "        yield from i"
   ]
  },
  {
   "cell_type": "code",
   "execution_count": 71,
   "metadata": {},
   "outputs": [
    {
     "data": {
      "text/plain": [
       "[1, 2, 3, 4]"
      ]
     },
     "execution_count": 71,
     "metadata": {},
     "output_type": "execute_result"
    }
   ],
   "source": [
    "list(chain((1,2), (3,4)))"
   ]
  },
  {
   "cell_type": "markdown",
   "metadata": {},
   "source": [
    "Interesting problem:\n",
    "```\n",
    "def f():\n",
    "    def do_yield(n):\n",
    "        yield n\n",
    "    x=0\n",
    "    while True:\n",
    "        x += 1\n",
    "        do_yield(x)\n",
    "```\n",
    "\n",
    "this will not actually yield increasing values of x - because the yield keyword only makes the immediately enclosing function a generator -  so cannot delegate generator behavior  \n",
    "\n",
    "This can be \"fixed\" by using the `yield from do_yield(x)` but still had to use yield outside again - no real delegation"
   ]
  },
  {
   "cell_type": "code",
   "execution_count": 2,
   "metadata": {},
   "outputs": [],
   "source": [
    "def f():\n",
    "    def do_yield(n):\n",
    "        yield n\n",
    "    x = 0\n",
    "    while x < 10:\n",
    "        x += 1\n",
    "        do_yield(x)"
   ]
  },
  {
   "cell_type": "code",
   "execution_count": 4,
   "metadata": {},
   "outputs": [],
   "source": [
    "g = f()"
   ]
  },
  {
   "cell_type": "code",
   "execution_count": 5,
   "metadata": {},
   "outputs": [
    {
     "ename": "TypeError",
     "evalue": "'NoneType' object is not an iterator",
     "output_type": "error",
     "traceback": [
      "\u001b[1;31m---------------------------------------------------------------------------\u001b[0m",
      "\u001b[1;31mTypeError\u001b[0m                                 Traceback (most recent call last)",
      "\u001b[1;32m<ipython-input-5-e734f8aca5ac>\u001b[0m in \u001b[0;36m<module>\u001b[1;34m\u001b[0m\n\u001b[1;32m----> 1\u001b[1;33m \u001b[0mnext\u001b[0m\u001b[1;33m(\u001b[0m\u001b[0mg\u001b[0m\u001b[1;33m)\u001b[0m\u001b[1;33m\u001b[0m\u001b[1;33m\u001b[0m\u001b[0m\n\u001b[0m",
      "\u001b[1;31mTypeError\u001b[0m: 'NoneType' object is not an iterator"
     ]
    }
   ],
   "source": [
    "next(g)"
   ]
  },
  {
   "cell_type": "code",
   "execution_count": 6,
   "metadata": {},
   "outputs": [],
   "source": [
    "def f():\n",
    "    x = 0\n",
    "    while x < 10:\n",
    "        x += 1\n",
    "        yield x"
   ]
  },
  {
   "cell_type": "code",
   "execution_count": 19,
   "metadata": {},
   "outputs": [],
   "source": [
    "g = f()"
   ]
  },
  {
   "cell_type": "code",
   "execution_count": 21,
   "metadata": {},
   "outputs": [
    {
     "data": {
      "text/plain": [
       "2"
      ]
     },
     "execution_count": 21,
     "metadata": {},
     "output_type": "execute_result"
    }
   ],
   "source": [
    "next(g)"
   ]
  },
  {
   "cell_type": "markdown",
   "metadata": {},
   "source": [
    "## Closer look at iter"
   ]
  },
  {
   "cell_type": "markdown",
   "metadata": {},
   "source": [
    "* iter(x) returns iterator - called by intepreted\n",
    "* cna also call iter() with two arguments\n",
    "    - arg 1 is a callable to be invoked repeatedly, with no args - the value *returned* by func, is yielded by iterator\n",
    "    - arg 2 is a sentinel value which when returned byt he callabale, cause the iterator to raise StopIteration instead of yiedling sentinel\n",
    "* ex: if d6(), rolls 6-sided dice, then `iter(d6,1)` will roll forever until 1 is reached."
   ]
  },
  {
   "cell_type": "markdown",
   "metadata": {},
   "source": [
    "An actual useful example:\n",
    "```\n",
    "with open('mydata.txt') as fp:\n",
    "    for line in iter(fp.readline, ''):\n",
    "        process_line(line)\n",
    "```\n",
    "\n",
    "will continue processing lines until nlank line is found or endo file is reached.\n",
    "- <font color='red'> just doing for line in fp.readlines() will still do lazy iteratation right? just not stop until EOF </font>"
   ]
  },
  {
   "cell_type": "markdown",
   "metadata": {},
   "source": [
    "## Closing\n",
    "* his claim is that `def` should not be used for generators - they are different things altogether\n",
    "* moreover, while `yield` is also used for coroutines, generators and coroutines are two different concepts, so there is a need for another syntax here also.\n",
    "\n",
    "### Semantics Of Generator vs Iterator\n",
    "* generator objects implement both `__iter__` and `__next__` - so they are iterators from this perspective\n",
    "* however, from the conceptual viewpoint, an iterator, as a design in GoF, produces iterms by traversing a collection. Generators on the other hand can create on the fly.\n",
    "* In reality python programers are not strict about what they call a generator and what the call an iterator - even in the docs\n",
    "\n"
   ]
  },
  {
   "cell_type": "code",
   "execution_count": null,
   "metadata": {},
   "outputs": [],
   "source": []
  }
 ],
 "metadata": {
  "kernelspec": {
   "display_name": "Python 3",
   "language": "python",
   "name": "python3"
  },
  "language_info": {
   "codemirror_mode": {
    "name": "ipython",
    "version": 3
   },
   "file_extension": ".py",
   "mimetype": "text/x-python",
   "name": "python",
   "nbconvert_exporter": "python",
   "pygments_lexer": "ipython3",
   "version": "3.7.6"
  }
 },
 "nbformat": 4,
 "nbformat_minor": 2
}
