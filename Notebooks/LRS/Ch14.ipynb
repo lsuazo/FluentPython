{
 "cells": [
  {
   "cell_type": "markdown",
   "metadata": {},
   "source": [
    "# CH 14"
   ]
  },
  {
   "cell_type": "markdown",
   "metadata": {},
   "source": [
    "## TOC<a id='toc'></a>\n",
    "* [Ch14 Notes](#ch14_notes)\n",
    "* [Ch13 Notes](#ch13_notes)"
   ]
  },
  {
   "cell_type": "markdown",
   "metadata": {},
   "source": [
    "### CH14 Notes <a id='ch14_notes'></a>\n",
    "[toc](#toc)\n",
    "### Iterables, Iterators and Generators"
   ]
  },
  {
   "cell_type": "markdown",
   "metadata": {},
   "source": [
    "* The **yield** keyword was added in python 2.2, which allows the construction of generators, which work as iterators.\n",
    "* *Every generator is an iterator*: generators fully implement the iterator interface. But an iterator (as defined in the GoF book) retrieves iterms from a collection, while a generator can produce iterms \"out of thin air\".\n",
    "    - however, python community treats iterator and generator as synomyms most of the time.\n",
    "* Every collection in python is **iterable**, and iterators are used internally to support:\n",
    "    - for loops\n",
    "    - collection types constructions and extensions\n",
    "    - looping over text files line by line\n",
    "    - list, dict, and set comprehensions\n",
    "    - typle unpacking\n",
    "    - unpacking actual parameters with * in function call"
   ]
  },
  {
   "cell_type": "markdown",
   "metadata": {},
   "source": [
    "## Sentence Take #1: A Sequence of Words\n",
    "* when an interpreter needs to iterate over and object x, it automatically calls `iter(x)`. It\n",
    "    1. checks whether object implements `__tier__`, and calls that to obtain an iterator\n",
    "    2. if `__iter__` not implemented, but `__getitem__` is, python creates and iterator that attemps to fetch items in order starting from index 0 (why all sequences are iterable)\n",
    "    3. If that fails, python raises TypeError\n",
    "* from the sense of goose typing, and object is consideret iterable if it implements `__iter__` method. \n",
    "    - no subclassing or registration required because abc.Iterable implements the sibclasshook.\n",
    "* but because of the getitem fallback, as of python 3.4, most accurate way to check if object is iterable is to call iter on it and handle TyperError exception."
   ]
  },
  {
   "cell_type": "markdown",
   "metadata": {},
   "source": [
    "* **iterable**: an object from which the iter function can obtain an iteratir. \n",
    "    - objects implementing an `__iter__` method returning an *iterator* are itertable\n",
    "* **iterator**: ...?\n",
    "        - from python docs - \"An object representing a stream of data. can call next on it. Will raise StopIteration when exhausted. (and every subsequent call to next)\n",
    "        - it is required to implement an `__iter__` function and return self, so that it can also be used as an iterable."
   ]
  },
  {
   "cell_type": "markdown",
   "metadata": {},
   "source": [
    "* The standard interface for an interator has two methods:\n",
    "   * `__next__`: returns next available item, raising `StopIteration` when there are no more items\n",
    "   * `__iter__`: Returns self; this allows the iterators to be used where an iterable is expected - for example in a for loop"
   ]
  },
  {
   "cell_type": "markdown",
   "metadata": {},
   "source": [
    "```\n",
    "class Iterator(Iterable):\n",
    "    __slots__ = ()\n",
    "    \n",
    "    @abstractmethod\n",
    "    def __next__(self):\n",
    "        'Return the next item from the iterator. When exhausted raise StopIteration'\n",
    "        raise StopIteration\n",
    "    \n",
    "    def __iter__(self):\n",
    "        return self\n",
    "        \n",
    "    @classmethod\n",
    "    def __subclasshook__(cls, C):\n",
    "        if cls is Iterator:\n",
    "            if (any(\"__next__\" in B.__dict__ for B in C.__mro__) and any(\"__iter__\" in B.__dict__ for B in C.__mro__)):\n",
    "                return True\n",
    "        return NotImplemented\n",
    "```"
   ]
  },
  {
   "cell_type": "markdown",
   "metadata": {},
   "source": [
    "From python source code: \"Iterators in python aren't a matter of type but of protocol. ... Don't check the type! Use hasattr to check for both \"`__iter__`\" and \"`__next__`\" attributes instead."
   ]
  },
  {
   "cell_type": "markdown",
   "metadata": {},
   "source": [
    "There is no way to \"reset\" and iterator. If you need to start over, you need to call iter(...) on the iterable that built it.\n",
    "    - this wont work f you built it from an iterator because it just returns self"
   ]
  },
  {
   "cell_type": "markdown",
   "metadata": {},
   "source": [
    "## Sentence Take # 2: A Classic Interior\n",
    "* built according to classic iterator design pattern following GoF (not idiomatic python)\n",
    "* This sentence is *iterable* because it implements the `__iter__` special method, which returns a `SentenceIterator`\n",
    "* writes two classes: `Sentence`  which is built with some text, and `SentenceIterator` built with a list of words (returned by sentence `__iter__`), and contains an index which gets advanced at every call of next(..)\n"
   ]
  },
  {
   "cell_type": "markdown",
   "metadata": {},
   "source": [
    "* all iterators are iterables, but not all iterables are iterators\n",
    "* it is tempting to implement `__next__` in addition to `__iter__` in Sentence, but that is a terrible idea. It is a common *anti-pattern* accordin to Alex Martelli\n",
    "    - you need to be able to support multiple traversals\n",
    "    - that is, you must be able to support multiple independent iterators, from same iterable instance; each with its own internal state."
   ]
  },
  {
   "cell_type": "markdown",
   "metadata": {},
   "source": [
    "## Sentence Take #3: A generator Function"
   ]
  },
  {
   "cell_type": "markdown",
   "metadata": {},
   "source": [
    "```\n",
    "class Sentence:\n",
    "\n",
    "    def __init__(self, text)::\n",
    "        self.text = text\n",
    "        self.words = RE_WORD.findall(text)\n",
    "        \n",
    "    def __iter___(self):\n",
    "        for word in self.words:\n",
    "            yield word\n",
    "        return\n",
    "```"
   ]
  },
  {
   "cell_type": "markdown",
   "metadata": {},
   "source": [
    "* The last return is not needed, function can just fall through.\n",
    "* generator function does not need to raise StopIteration, it simply exits."
   ]
  },
  {
   "cell_type": "markdown",
   "metadata": {},
   "source": [
    "### How a Generator Function Works"
   ]
  },
  {
   "cell_type": "markdown",
   "metadata": {},
   "source": []
  },
  {
   "cell_type": "markdown",
   "metadata": {},
   "source": []
  },
  {
   "cell_type": "code",
   "execution_count": null,
   "metadata": {},
   "outputs": [],
   "source": []
  }
 ],
 "metadata": {
  "kernelspec": {
   "display_name": "Python 3",
   "language": "python",
   "name": "python3"
  },
  "language_info": {
   "codemirror_mode": {
    "name": "ipython",
    "version": 3
   },
   "file_extension": ".py",
   "mimetype": "text/x-python",
   "name": "python",
   "nbconvert_exporter": "python",
   "pygments_lexer": "ipython3",
   "version": "3.7.6"
  }
 },
 "nbformat": 4,
 "nbformat_minor": 2
}
