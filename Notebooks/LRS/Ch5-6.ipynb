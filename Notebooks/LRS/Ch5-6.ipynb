{
 "cells": [
  {
   "cell_type": "markdown",
   "metadata": {},
   "source": [
    "# CH 5-6"
   ]
  },
  {
   "cell_type": "markdown",
   "metadata": {},
   "source": [
    "## TOC<a id='toc'></a>\n",
    "* [Ch5 Notes](#ch6_notes)\n",
    "* [Ch6 Notes](#ch6_notes)"
   ]
  },
  {
   "cell_type": "markdown",
   "metadata": {},
   "source": [
    "### CH5 Notes <a id='ch5_notes'></a>\n",
    "[toc](#toc)"
   ]
  },
  {
   "cell_type": "markdown",
   "metadata": {},
   "source": [
    "* **first-class onbject**: a program entity that can be:\n",
    "    - created a runtime\n",
    "    - assigned to a variable or element in a data structure\n",
    "    - passed as an argument in a function\n",
    "    - returned as the result of a function\n",
    "* functions have attributes!\n",
    "    * `my_funct.__doc__` - `help()` buitin uses this"
   ]
  },
  {
   "cell_type": "code",
   "execution_count": 1,
   "metadata": {},
   "outputs": [],
   "source": [
    "def myfunct(x):\n",
    "    \"This is a doc\"\n",
    "    return x"
   ]
  },
  {
   "cell_type": "code",
   "execution_count": 2,
   "metadata": {},
   "outputs": [
    {
     "data": {
      "text/plain": [
       "'This is a doc'"
      ]
     },
     "execution_count": 2,
     "metadata": {},
     "output_type": "execute_result"
    }
   ],
   "source": [
    "myfunct.__doc__"
   ]
  },
  {
   "cell_type": "code",
   "execution_count": 3,
   "metadata": {},
   "outputs": [
    {
     "name": "stdout",
     "output_type": "stream",
     "text": [
      "Help on function myfunct in module __main__:\n",
      "\n",
      "myfunct(x)\n",
      "    This is a doc\n",
      "\n"
     ]
    }
   ],
   "source": [
    "help(myfunct)"
   ]
  },
  {
   "cell_type": "markdown",
   "metadata": {},
   "source": [
    "### Higher order functions\n",
    "* **higher-order functions**: a function that takes a function as an argument or returns a function as a result\n",
    "    - most well known examples: *map, filter, reduce,* and *apply*\n",
    "    - `apply` removed in python 3 - no longer needed\n",
    "    - `map` and `filter` still built-ins in python; but their use is discouraged in favor of using listcomps and genexps\n",
    "        * in python 3, these return generators - a form of iterator - so their direct substitue is genexp\n",
    "    - `reduce` demoted from builtin to part of `functools` module\n",
    "        * its most common use, served by `sum` builtin\n",
    "        * other reducing builtins: `all()` and `any()`"
   ]
  },
  {
   "cell_type": "markdown",
   "metadata": {},
   "source": [
    "### Anonymous Functions\n",
    "* in python, body of lambda must be pure expressions\n",
    "    - no asignment, or things like `while`, `try`, etc\n",
    "* their main use is as arguments to higher order functions - otherwise they should more thank likely be regualr functions"
   ]
  },
  {
   "cell_type": "markdown",
   "metadata": {},
   "source": [
    "### The Seven Flavors of Callable Objects\n",
    "* call operator `()` can be used on other things beyond user defined functions\n",
    "    - check if object is callable by using built-in `callable()`\n",
    "* 7 flavors\n",
    "    1. *User-defined*: created with `def` or `lambda`\n",
    "    2. *built-in functions*: function implemented in C, like `len`\n",
    "    3. *built-in methods*: method implemented in C, like `dict.get`\n",
    "    4. *Methods*: functions defined in body of class\n",
    "    7. *Classes*: when invoked calls `__new__` method to create instance, then `__init__` to initialize it, and returns instance\n",
    "    1. *Class instance*: if class defines a `__call__` method\n",
    "        - <font color=blue> This is the easiest way to create a function-like object that has internal state that must be kept accross invocations. </font>\n",
    "            * other approached: decorators and closures. more on these later.\n",
    "    3. *Generator functions*: functions or methods that use the `yield` key word. Returns generator object\n",
    "        - more on this later"
   ]
  },
  {
   "cell_type": "markdown",
   "metadata": {},
   "source": [
    "### Function introspections\n",
    "* already seen `__doc__`\n",
    "* they also have `__dict__`\n",
    "    - can actually assign attributes to functions\n",
    "* the things they have generic objects don't\n",
    "    - `__call__` - impementation of () operator\n",
    "    - `__code__` - metadata (argument names, arg_count, etc.) and body compiled into bytecode\n",
    "    - `__globals__` - global vars of module where dunct is defined\n",
    "    -  `__defaults__` - holds tuple of default values of positional and keyword arguments\n",
    "    - `__kwdefaults__` - default values for *keyword-only* formal parameters\n",
    "        - see below\n",
    "    - `__closure__`, `__annotations__`, `__get__`, `__name__`,`__qualnmae__`"
   ]
  },
  {
   "cell_type": "code",
   "execution_count": 4,
   "metadata": {},
   "outputs": [
    {
     "data": {
      "text/plain": [
       "<code object myfunct at 0x000002DFC7E20A50, file \"<ipython-input-1-f00943e4f435>\", line 1>"
      ]
     },
     "execution_count": 4,
     "metadata": {},
     "output_type": "execute_result"
    }
   ],
   "source": [
    "myfunct.__code__"
   ]
  },
  {
   "cell_type": "markdown",
   "metadata": {},
   "source": [
    "### parameter handling\n",
    "* One of the big strength of python is its very flexible parameter handling\n",
    "* combines, positional, keyword, variable of both using `*` and `**`.  - and maps arguments to formal parameters in a smart way\n",
    "* *keyword-only* arguments are new in Python 3\n",
    "    - name them after the argument prefixed with *\n",
    "        * ex: `tag(name, *content, cls=None, **attrs)` --  `cls` is keyword only\n",
    "    - will never capture unnamed positional arguments\n",
    "    - can use even if don't support variable positional - put `*` by itself in signature\n",
    "        * `def f(a, *, b)`\n",
    "    - don't require a default value\n",
    "* much of the structure of parameter handling ins encoded in `myfunc.__code__`\n",
    "    - contains `myfunc.__code__.co._varnames` (includes variables defined in function)\n",
    "    - contains `myfunc.__code__.co_argcount` - match the first arcount in varnames\n",
    "    - `__defaults__` matched to args, backwards - a little awkard\n",
    "* better way, use `inspect` module\n",
    "    - `sig = inspect.signature(myfunct)` - has a lot of useful info\n",
    "    - `sig.bind(...)` - binds parms to args as it would in call - useful for validation before calling\n",
    "        * exposes machinery interpreter uses to bing arguments to formal parameters in function casll\n",
    "        * frameworks and IDEs can use this information to validate code"
   ]
  },
  {
   "cell_type": "code",
   "execution_count": 5,
   "metadata": {},
   "outputs": [],
   "source": [
    "def f(a,*,b):\n",
    "    return a, b"
   ]
  },
  {
   "cell_type": "code",
   "execution_count": 6,
   "metadata": {},
   "outputs": [
    {
     "ename": "TypeError",
     "evalue": "f() missing 1 required keyword-only argument: 'b'",
     "output_type": "error",
     "traceback": [
      "\u001b[1;31m---------------------------------------------------------------------------\u001b[0m",
      "\u001b[1;31mTypeError\u001b[0m                                 Traceback (most recent call last)",
      "\u001b[1;32m<ipython-input-6-1bff2c73920e>\u001b[0m in \u001b[0;36m<module>\u001b[1;34m()\u001b[0m\n\u001b[1;32m----> 1\u001b[1;33m \u001b[0mf\u001b[0m\u001b[1;33m(\u001b[0m\u001b[1;36m3\u001b[0m\u001b[1;33m)\u001b[0m\u001b[1;33m\u001b[0m\u001b[0m\n\u001b[0m",
      "\u001b[1;31mTypeError\u001b[0m: f() missing 1 required keyword-only argument: 'b'"
     ]
    }
   ],
   "source": [
    "f(3)"
   ]
  },
  {
   "cell_type": "code",
   "execution_count": 7,
   "metadata": {},
   "outputs": [
    {
     "ename": "TypeError",
     "evalue": "f() takes 1 positional argument but 2 were given",
     "output_type": "error",
     "traceback": [
      "\u001b[1;31m---------------------------------------------------------------------------\u001b[0m",
      "\u001b[1;31mTypeError\u001b[0m                                 Traceback (most recent call last)",
      "\u001b[1;32m<ipython-input-7-ddb373aa5ef1>\u001b[0m in \u001b[0;36m<module>\u001b[1;34m()\u001b[0m\n\u001b[1;32m----> 1\u001b[1;33m \u001b[0mf\u001b[0m\u001b[1;33m(\u001b[0m\u001b[1;36m3\u001b[0m\u001b[1;33m,\u001b[0m\u001b[1;36m4\u001b[0m\u001b[1;33m)\u001b[0m\u001b[1;33m\u001b[0m\u001b[0m\n\u001b[0m",
      "\u001b[1;31mTypeError\u001b[0m: f() takes 1 positional argument but 2 were given"
     ]
    }
   ],
   "source": [
    "f(3,4)"
   ]
  },
  {
   "cell_type": "code",
   "execution_count": 8,
   "metadata": {},
   "outputs": [
    {
     "ename": "TypeError",
     "evalue": "f() missing 1 required positional argument: 'a'",
     "output_type": "error",
     "traceback": [
      "\u001b[1;31m---------------------------------------------------------------------------\u001b[0m",
      "\u001b[1;31mTypeError\u001b[0m                                 Traceback (most recent call last)",
      "\u001b[1;32m<ipython-input-8-b58e6e68307e>\u001b[0m in \u001b[0;36m<module>\u001b[1;34m()\u001b[0m\n\u001b[1;32m----> 1\u001b[1;33m \u001b[0mf\u001b[0m\u001b[1;33m(\u001b[0m\u001b[0mb\u001b[0m\u001b[1;33m=\u001b[0m\u001b[1;36m4\u001b[0m\u001b[1;33m)\u001b[0m\u001b[1;33m\u001b[0m\u001b[0m\n\u001b[0m",
      "\u001b[1;31mTypeError\u001b[0m: f() missing 1 required positional argument: 'a'"
     ]
    }
   ],
   "source": [
    "f(b=4)"
   ]
  },
  {
   "cell_type": "code",
   "execution_count": 9,
   "metadata": {},
   "outputs": [
    {
     "data": {
      "text/plain": [
       "(3, 4)"
      ]
     },
     "execution_count": 9,
     "metadata": {},
     "output_type": "execute_result"
    }
   ],
   "source": [
    "f(3,b=4)"
   ]
  },
  {
   "cell_type": "markdown",
   "metadata": {},
   "source": [
    "### Function Annotations\n",
    "* annotation expression may be of any type. most common are classes or strings\n",
    "    - ex: `def clip(text: str, max_len:'int > 0'=80) -> str:`\n",
    "* no processing is done with the annotations, they are merely stored in the `__annotations__` atribute of the function (which is a dict)\n",
    "* no checks performed, no enforcement, nothing - annotations have no meaning to the python interpreter. Just metadata to be used by tools like IDES, frameworks or decorators"
   ]
  },
  {
   "cell_type": "markdown",
   "metadata": {},
   "source": [
    "### Packages for Functional Programming\n",
    "* `operator` module\n",
    "    - provide dozens of arithmentic operators that you would otherwise have to use lambdas for\n",
    "        * ex: `from operator import mul; def fact(n): return reduce(mul, range(1, n+1))`\n",
    "    - also provides utilities to pick items from sequences or objects: `itemgetter` and `attrgetter`\n",
    "        * ex: `sorted(metro_data, key=itemgetter(1))` - replaces `lambda x: x[1]`\n",
    "        * `attrgetter` is similar except extracts attributes by name (like `.`, `__getattribute__`)\n",
    "            - if arg contains dot, attrgetter is smart enough to navigate nested attributes\n",
    "        * for both, can pass mutliple value, and will return tuple of multiple values\n",
    "        * a third similar one, but for methods, `methodcaller`\n",
    "            - seems you cant pass multiple values to it though. Because others args get passed to called method\n",
    "* `functools`\n",
    "    * `reduce` is now poart of functools and not a builtin\n",
    "    * other useful ones are `partial` and its variation `partialmethod` (used for currying - freezine args)\n",
    "    * there is more, like `lru_cache`, but will discuss later"
   ]
  },
  {
   "cell_type": "markdown",
   "metadata": {},
   "source": [
    "### CH6 Notes <a id='ch6_notes'></a>\n",
    "[toc](#toc)"
   ]
  },
  {
   "cell_type": "markdown",
   "metadata": {},
   "source": [
    "* in languages where functionas are first-class objects, some of the classic design patterns (like Strategy, visitor, command, etc.) are much easier to implement, and require less boilerplate. Can be replace by just creating different functions.\n",
    " - Strategy often implemented with flyweight design pattern - much simpler if just use defined functions.\n",
    " - tell-tale sign: single-method classes with no state\n",
    "* Modules are also first-class objects! - can use this to \"search your code\"\n",
    "    -`globals()` - return a dictionary representing current global symbol table\n",
    "        * always the dictionary of the current module (if in funciton, it is module where defined not where called)\n",
    "* ex: `promos = [globals()[name] for name in globals() if name.endswith('_promo') and name != 'best_promo']`"
   ]
  },
  {
   "cell_type": "markdown",
   "metadata": {},
   "source": [
    "<br>\n",
    "<hr>\n",
    "<font color=blue> Cool using globals() to do \"code introspection\" - can reduce having to \"wire\" things manually and reduce erros due to that </font>\n",
    "<hr>\n",
    "<br>"
   ]
  },
  {
   "cell_type": "markdown",
   "metadata": {},
   "source": [
    "* another approach - build separate module with all the `_promo` functions (except the meta-one) and use `inspect.getmembers` to get all functions:\n",
    "- ex: `promos = [func for name, func in inspect.getmembers(promotions, inspect.isfunction)]`"
   ]
  },
  {
   "cell_type": "code",
   "execution_count": 2,
   "metadata": {},
   "outputs": [],
   "source": [
    "import pandas as pd\n",
    "import inspect"
   ]
  },
  {
   "cell_type": "code",
   "execution_count": 8,
   "metadata": {},
   "outputs": [
    {
     "data": {
      "text/plain": [
       "[('Expr', <function pandas.core.computation.api.Expr(*args, **kwargs)>),\n",
       " ('Term', <function pandas.io.api.Term(*args, **kwargs)>),\n",
       " ('bdate_range',\n",
       "  <function pandas.core.indexes.datetimes.bdate_range(start=None, end=None, periods=None, freq='B', tz=None, normalize=True, name=None, weekmask=None, holidays=None, closed=None, **kwargs)>),\n",
       " ('concat',\n",
       "  <function pandas.core.reshape.concat.concat(objs, axis=0, join='outer', join_axes=None, ignore_index=False, keys=None, levels=None, names=None, verify_integrity=False, copy=True)>),\n",
       " ('crosstab',\n",
       "  <function pandas.core.reshape.pivot.crosstab(index, columns, values=None, rownames=None, colnames=None, aggfunc=None, margins=False, margins_name='All', dropna=True, normalize=False)>)]"
      ]
     },
     "execution_count": 8,
     "metadata": {},
     "output_type": "execute_result"
    }
   ],
   "source": [
    "inspect.getmembers(pd, inspect.isfunction)[0:5]"
   ]
  },
  {
   "cell_type": "markdown",
   "metadata": {},
   "source": [
    "* a more explicit alternative for dynamically collecting promotional discount functions would be to use a simple decorator - will see this next chapter."
   ]
  },
  {
   "cell_type": "markdown",
   "metadata": {},
   "source": []
  },
  {
   "cell_type": "markdown",
   "metadata": {},
   "source": []
  },
  {
   "cell_type": "markdown",
   "metadata": {},
   "source": []
  }
 ],
 "metadata": {
  "kernelspec": {
   "display_name": "Python [conda env:Anaconda3]",
   "language": "python",
   "name": "conda-env-Anaconda3-py"
  },
  "language_info": {
   "codemirror_mode": {
    "name": "ipython",
    "version": 3
   },
   "file_extension": ".py",
   "mimetype": "text/x-python",
   "name": "python",
   "nbconvert_exporter": "python",
   "pygments_lexer": "ipython3",
   "version": "3.5.6"
  }
 },
 "nbformat": 4,
 "nbformat_minor": 2
}
