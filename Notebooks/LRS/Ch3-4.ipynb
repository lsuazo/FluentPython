{
 "cells": [
  {
   "cell_type": "code",
   "execution_count": null,
   "metadata": {},
   "outputs": [],
   "source": []
  },
  {
   "cell_type": "markdown",
   "metadata": {},
   "source": [
    "# CH3-4"
   ]
  },
  {
   "cell_type": "markdown",
   "metadata": {},
   "source": [
    "## TOC<a id='toc'></a>\n",
    "* [Ch3 Notes](#ch3_notes)\n",
    "* [Ch4 Notes](#ch4_notes)"
   ]
  },
  {
   "cell_type": "markdown",
   "metadata": {},
   "source": [
    "### CH3 Notes <a id='ch3_notes'></a>\n",
    "[toc](#toc)"
   ]
  },
  {
   "cell_type": "markdown",
   "metadata": {},
   "source": [
    "### Generic Mapping Types\n",
    "* good chedking if mapping: `isinstance(my_dict, abc.Mapping)`\n",
    "    - better than just checking for dict to allow other maps\n",
    "* all mapping types in the standard library use the basic `dict` in their implementation, so they all have to have *hashable* keys\n",
    "* object is hashable if:\n",
    "    - it has a hash value which never changes during its lifetime (needs a `__hash__()` method)\n",
    "    - can be compared to other objects (need an `__eq__()` method)\n",
    "    - and objects wich compare equal hash equal\n",
    "* user defined types hash to `id()`, and all compare to not equal. If implement `__eq__()`, then only hashable if all attributes are immutable."
   ]
  },
  {
   "cell_type": "markdown",
   "metadata": {},
   "source": [
    "* Use *dictcomps*\n",
    "* cool methods:\n",
    "    - `d.get(k, [default])`\n",
    "    - `d.__contains__(k)` called by `k in d`\n",
    "        - careful when overwritting\n",
    "    - `d.__missing__(k)` - called when `__getitem__` cannot find key (only in defaultdict)\n",
    "    - `d.pop(k, [default])`\n",
    "    - `d.setdefault(k, [default])` - if k in d, return d[k], otherwise set to default and return it\n",
    "        - very efficient way to handle missing keys (particularly when value is mutable)\n",
    "    - `d.update(m, [**kwargs])` - m can be mapping or iterable of (key, value) pairs\n",
    "        * duck typing: first checks if has `keys` method. Otherwise falls back to iterating over m as tuples\n",
    "        * <font color=red> What is the **kwargs for? </font>"
   ]
  },
  {
   "cell_type": "code",
   "execution_count": 20,
   "metadata": {},
   "outputs": [],
   "source": [
    "class Temp:\n",
    "    def __init__(self, x):\n",
    "        self.x = x\n",
    "        self.y = 3\n",
    "        \n",
    "    def __hash__(self):\n",
    "        return 7\n",
    "    \n",
    "    def __eq__(self, other):\n",
    "        return self.x == other.x"
   ]
  },
  {
   "cell_type": "code",
   "execution_count": 21,
   "metadata": {},
   "outputs": [],
   "source": [
    "temp = Temp(4)\n",
    "temp2 = Temp(5)"
   ]
  },
  {
   "cell_type": "code",
   "execution_count": 22,
   "metadata": {},
   "outputs": [
    {
     "data": {
      "text/plain": [
       "(7, 7)"
      ]
     },
     "execution_count": 22,
     "metadata": {},
     "output_type": "execute_result"
    }
   ],
   "source": [
    "hash(temp), hash(temp2)"
   ]
  },
  {
   "cell_type": "code",
   "execution_count": 13,
   "metadata": {},
   "outputs": [
    {
     "data": {
      "text/plain": [
       "False"
      ]
     },
     "execution_count": 13,
     "metadata": {},
     "output_type": "execute_result"
    }
   ],
   "source": [
    "temp == temp2"
   ]
  },
  {
   "cell_type": "code",
   "execution_count": null,
   "metadata": {},
   "outputs": [],
   "source": []
  },
  {
   "cell_type": "code",
   "execution_count": 10,
   "metadata": {},
   "outputs": [],
   "source": [
    "mydict = {1:2}"
   ]
  },
  {
   "cell_type": "code",
   "execution_count": 11,
   "metadata": {},
   "outputs": [
    {
     "data": {
      "text/plain": [
       "{1: 2, 3: 4}"
      ]
     },
     "execution_count": 11,
     "metadata": {},
     "output_type": "execute_result"
    }
   ],
   "source": [
    "mydict.update([(3,4)])\n",
    "mydict"
   ]
  },
  {
   "cell_type": "code",
   "execution_count": 13,
   "metadata": {},
   "outputs": [
    {
     "data": {
      "text/plain": [
       "{1: 2, 3: 4, 7: 8, 'new': 10, 'old': 11}"
      ]
     },
     "execution_count": 13,
     "metadata": {},
     "output_type": "execute_result"
    }
   ],
   "source": [
    "mydict.update({7:8}, new=10, old=11)\n",
    "mydict"
   ]
  },
  {
   "cell_type": "markdown",
   "metadata": {},
   "source": [
    "* `collections.defaultdict` are also useful\n",
    "     - default factory method only called in `__getitiem__`, not in others like `.get()`\n",
    "     - uses the fact the `__getitem__` calls `__missing__` (if implemented) when missing key\n",
    "* `collection.OrderedDict` allows iterating in predicatble fashion\n",
    "* `collections.ChainMap` - holds list of mappings that can be searched as one\n",
    "    - ex:   \n",
    "    ```import builtins\n",
    "    pylookup = ChainMap(locals(), globals(), vars(builtins))```\n",
    "* `collections.Counter` - useful for counts; provides many convenience methods.\n",
    "* `collections.UserDict` - pure python implementation of a mapping that works like a standard dict\n",
    "    - designed to be subclassed; bult in dict has some implementation shortcuts that make it more difficult to subclass\n",
    "    - doesnt inherit from dict, but contains typicall `__data__` dict"
   ]
  },
  {
   "cell_type": "markdown",
   "metadata": {},
   "source": [
    "### Immutable Mappings\n",
    "* `from types import MappingProxyType` - takes a dict and returns a view which cannot be modified\n",
    "    - is dynamic; if underlying dict changes, proxy changes too.\n"
   ]
  },
  {
   "cell_type": "code",
   "execution_count": 46,
   "metadata": {},
   "outputs": [],
   "source": [
    "from types import MappingProxyType\n",
    "\n",
    "class oldClass:\n",
    "    def __init__(self, some_dict):\n",
    "        self.mutable_dict = some_dict\n",
    "        \n",
    "    def __hash__(self):\n",
    "        return hash(self.mutable_dict)\n",
    "\n",
    "class myClass:\n",
    "    def __init__(self, some_dict):\n",
    "        self.immutable_dict = MappingProxyType(some_dict)  \n",
    "        \n",
    "    def __hash__(self):\n",
    "        return hash(self.immutable_dict)"
   ]
  },
  {
   "cell_type": "code",
   "execution_count": 47,
   "metadata": {},
   "outputs": [],
   "source": [
    "obj = oldClass({'a':1, 'b':2})"
   ]
  },
  {
   "cell_type": "code",
   "execution_count": 48,
   "metadata": {},
   "outputs": [
    {
     "ename": "TypeError",
     "evalue": "unhashable type: 'dict'",
     "output_type": "error",
     "traceback": [
      "\u001b[1;31m---------------------------------------------------------------------------\u001b[0m",
      "\u001b[1;31mTypeError\u001b[0m                                 Traceback (most recent call last)",
      "\u001b[1;32m<ipython-input-48-e3ef47dce4f7>\u001b[0m in \u001b[0;36m<module>\u001b[1;34m()\u001b[0m\n\u001b[1;32m----> 1\u001b[1;33m \u001b[0mhash\u001b[0m\u001b[1;33m(\u001b[0m\u001b[0mobj\u001b[0m\u001b[1;33m)\u001b[0m\u001b[1;33m\u001b[0m\u001b[0m\n\u001b[0m",
      "\u001b[1;32m<ipython-input-46-59acd3011dec>\u001b[0m in \u001b[0;36m__hash__\u001b[1;34m(self)\u001b[0m\n\u001b[0;32m      6\u001b[0m \u001b[1;33m\u001b[0m\u001b[0m\n\u001b[0;32m      7\u001b[0m     \u001b[1;32mdef\u001b[0m \u001b[0m__hash__\u001b[0m\u001b[1;33m(\u001b[0m\u001b[0mself\u001b[0m\u001b[1;33m)\u001b[0m\u001b[1;33m:\u001b[0m\u001b[1;33m\u001b[0m\u001b[0m\n\u001b[1;32m----> 8\u001b[1;33m         \u001b[1;32mreturn\u001b[0m \u001b[0mhash\u001b[0m\u001b[1;33m(\u001b[0m\u001b[0mself\u001b[0m\u001b[1;33m.\u001b[0m\u001b[0mmutable_dict\u001b[0m\u001b[1;33m)\u001b[0m\u001b[1;33m\u001b[0m\u001b[0m\n\u001b[0m\u001b[0;32m      9\u001b[0m \u001b[1;33m\u001b[0m\u001b[0m\n\u001b[0;32m     10\u001b[0m \u001b[1;32mclass\u001b[0m \u001b[0mmyClass\u001b[0m\u001b[1;33m:\u001b[0m\u001b[1;33m\u001b[0m\u001b[0m\n",
      "\u001b[1;31mTypeError\u001b[0m: unhashable type: 'dict'"
     ]
    }
   ],
   "source": [
    "hash(obj)"
   ]
  },
  {
   "cell_type": "code",
   "execution_count": 49,
   "metadata": {},
   "outputs": [],
   "source": [
    "obj = myClass({'a':1, 'b':2})"
   ]
  },
  {
   "cell_type": "code",
   "execution_count": 50,
   "metadata": {},
   "outputs": [
    {
     "ename": "TypeError",
     "evalue": "unhashable type: 'mappingproxy'",
     "output_type": "error",
     "traceback": [
      "\u001b[1;31m---------------------------------------------------------------------------\u001b[0m",
      "\u001b[1;31mTypeError\u001b[0m                                 Traceback (most recent call last)",
      "\u001b[1;32m<ipython-input-50-e3ef47dce4f7>\u001b[0m in \u001b[0;36m<module>\u001b[1;34m()\u001b[0m\n\u001b[1;32m----> 1\u001b[1;33m \u001b[0mhash\u001b[0m\u001b[1;33m(\u001b[0m\u001b[0mobj\u001b[0m\u001b[1;33m)\u001b[0m\u001b[1;33m\u001b[0m\u001b[0m\n\u001b[0m",
      "\u001b[1;32m<ipython-input-46-59acd3011dec>\u001b[0m in \u001b[0;36m__hash__\u001b[1;34m(self)\u001b[0m\n\u001b[0;32m     13\u001b[0m \u001b[1;33m\u001b[0m\u001b[0m\n\u001b[0;32m     14\u001b[0m     \u001b[1;32mdef\u001b[0m \u001b[0m__hash__\u001b[0m\u001b[1;33m(\u001b[0m\u001b[0mself\u001b[0m\u001b[1;33m)\u001b[0m\u001b[1;33m:\u001b[0m\u001b[1;33m\u001b[0m\u001b[0m\n\u001b[1;32m---> 15\u001b[1;33m         \u001b[1;32mreturn\u001b[0m \u001b[0mhash\u001b[0m\u001b[1;33m(\u001b[0m\u001b[0mself\u001b[0m\u001b[1;33m.\u001b[0m\u001b[0mimmutable_dict\u001b[0m\u001b[1;33m)\u001b[0m\u001b[1;33m\u001b[0m\u001b[0m\n\u001b[0m",
      "\u001b[1;31mTypeError\u001b[0m: unhashable type: 'mappingproxy'"
     ]
    }
   ],
   "source": [
    "hash(obj)"
   ]
  },
  {
   "cell_type": "markdown",
   "metadata": {},
   "source": [
    "What a Shame."
   ]
  },
  {
   "cell_type": "code",
   "execution_count": 51,
   "metadata": {},
   "outputs": [],
   "source": [
    "class myHashClass:\n",
    "    def __init__(self, some_dict):\n",
    "        self.immutable_dict = frozenset(some_dict.items())  \n",
    "        \n",
    "    def __hash__(self):\n",
    "        return hash(self.immutable_dict)"
   ]
  },
  {
   "cell_type": "code",
   "execution_count": 54,
   "metadata": {},
   "outputs": [],
   "source": [
    "obj = myHashClass({'a':1, 'b':2})"
   ]
  },
  {
   "cell_type": "code",
   "execution_count": 55,
   "metadata": {},
   "outputs": [
    {
     "data": {
      "text/plain": [
       "-6658507226492946828"
      ]
     },
     "execution_count": 55,
     "metadata": {},
     "output_type": "execute_result"
    }
   ],
   "source": [
    "hash(obj)"
   ]
  },
  {
   "cell_type": "markdown",
   "metadata": {},
   "source": [
    "### Set theory"
   ]
  },
  {
   "cell_type": "markdown",
   "metadata": {},
   "source": [
    "* they are containers, iterables and sized - and then some\n",
    "* infix notation: for sets `a` and `b`\n",
    "    - union: `a | b`, intersection `a & b`, difference `a - b`\n",
    "* literal syntax: `{1, 2, 3}` is faster than `set([1, 2, 3])` (calls specialize BUILD_SET bytecode)\n",
    "* setComps use { and }, and no a:b\n",
    "* Sets have many overloadable special methods for operator overloading\n",
    "    - ex: `s & z` call `s.__and__(z)`, `s ^ z` calls `s.__xor__(z)`, etc.\n",
    "* many predicate operators checking containments\n",
    "     - nice method: `s.isdisjoint(z)`"
   ]
  },
  {
   "cell_type": "markdown",
   "metadata": {},
   "source": [
    "### dict and set Under the Hood"
   ]
  },
  {
   "cell_type": "markdown",
   "metadata": {},
   "source": [
    "* dict and set containment checks are extremely optimized\n",
    "    - something like 4e-7 seconds per lookup, even for dict size of 1e7.\n",
    "* source of their power, comes from the **hash table** implentation\n",
    "    - hash table --> sparse array; cell often called **buckets**\n",
    "    - in a dict hash table, there is a bucket for each item, with two fields (ref to key, ref to value)\n",
    "    - all buckets have same size, easy to access by offset\n",
    "    - python tries to keep at least 1/3 of buckets empty; if table grow to crowded, it is copie to a new location with more room\n",
    "    - to put item, first calculate **hash value** of key\n",
    "        * uses `hash()` builtin\n",
    "        * works directly with builtin types, and calls `__hash__` for user defined (defaults to `id`)\n",
    "* has table algo\n",
    "    - to fetch `my_dict[search_key]` python calls `hash(search_key)`\n",
    "    - it uses least significant bits of that result as offset to look up a bucket in hash table\n",
    "        * number of bits depends on current size of table\n",
    "    - if bucket empty, raise `KeyError`\n",
    "    - if not empty: check `search_key == found_key`\n",
    "    - if true, return found value\n",
    "    - if bucekt not empty but keys don't match, this is a **hash collision**\n",
    "    - if this happens, algo takes different bits in hash, massages them in a particular way, and uses result as an offset to look in a different bucket.\n",
    "    - repeat process until KeyError or value match\n",
    "* When inserting or updating\n",
    "    - process to insert or update is the virtually same - except writes appropriately\n",
    "        * when iserting, python may decide to rebuild hash table with more room\n",
    "* things to note\n",
    "    - average number of collisions per search is between one and two\n",
    "    - dicts implementation trades space for time: they have significant memory overhead but provide fast access regardless of size\n",
    "        * so if many records, don't store them as individual dicts (a-la JSON) but rather tuples\n",
    "    - Key ordering depends on insertion\n",
    "    - adding items to dict may change order of existing keys: \n",
    "    - ===> <font color=blue>VIP: Never iterate and modify at same time</font>\n",
    "        * instead, iterate, collect, and then update.\n",
    "    \n",
    "          "
   ]
  },
  {
   "cell_type": "markdown",
   "metadata": {},
   "source": [
    "<br>  \n",
    "<hr>  \n",
    "*Optimization is the altar where maintainability is sacrificed* \n",
    "<br>  \n",
    "<hr>   "
   ]
  },
  {
   "cell_type": "code",
   "execution_count": 4,
   "metadata": {
    "scrolled": true
   },
   "outputs": [
    {
     "data": {
      "text/plain": [
       "True"
      ]
     },
     "execution_count": 4,
     "metadata": {},
     "output_type": "execute_result"
    }
   ],
   "source": [
    "hash(1) == hash(1.0)"
   ]
  },
  {
   "cell_type": "code",
   "execution_count": 2,
   "metadata": {},
   "outputs": [
    {
     "data": {
      "text/plain": [
       "230584300921369408"
      ]
     },
     "execution_count": 2,
     "metadata": {},
     "output_type": "execute_result"
    }
   ],
   "source": [
    "hash(0.1)"
   ]
  },
  {
   "cell_type": "code",
   "execution_count": 49,
   "metadata": {},
   "outputs": [
    {
     "data": {
      "text/plain": [
       "'0b1100110011001100110011001100110011001100110011001101000000'"
      ]
     },
     "execution_count": 49,
     "metadata": {},
     "output_type": "execute_result"
    }
   ],
   "source": [
    "bin(hash(0.1))"
   ]
  },
  {
   "cell_type": "code",
   "execution_count": 52,
   "metadata": {},
   "outputs": [
    {
     "data": {
      "text/plain": [
       "'0b1'"
      ]
     },
     "execution_count": 52,
     "metadata": {},
     "output_type": "execute_result"
    }
   ],
   "source": [
    "bin(hash(1))"
   ]
  },
  {
   "cell_type": "markdown",
   "metadata": {},
   "source": [
    "Interesting: starting with python 3.3, a *random salt value* is added to hashes of str, bytes and datatime objects\n",
    "    - constant within process but varies between interpreter runs\n",
    "    - security measure to prevent DOS attacks"
   ]
  },
  {
   "cell_type": "markdown",
   "metadata": {},
   "source": [
    "Sets basically the same but hash bucket contain reference to only one element."
   ]
  },
  {
   "cell_type": "markdown",
   "metadata": {},
   "source": [
    "### CH4: Text vs Bytes <a id='ch4_notes'></a>\n",
    "[toc](#toc)"
   ]
  },
  {
   "cell_type": "markdown",
   "metadata": {},
   "source": [
    "* Handling of strings and characters represents a big difference in python 2 vs python 3\n",
    "* string := sequence of characters\n",
    "* **character** := ??\n",
    "    - no longer true that 1 char == 1 byte\n",
    "    - best defn: (abstract) set of elements idenfied as \"U+\" and four to six hex digits after it (called **code points**) - which map to letters/symbols/etc. \n",
    "        * Currently map is encoded in Unicode 6.3\n",
    "        * ex: U+0041 --> A\n",
    "        * only about 10% of possible combinations are actually mapped to characters\n",
    "* The actual bytes that represent a character depend on the **encoding** in use.\n",
    "    - map that convert conde points ot byte sequence\n",
    "    - ex: UTF-8 sends A (U+0041) to single byte \\x41, while UTF-16LE sends it to \\x41\\x00\n",
    "* strings contain methods `.encode()` - pass something like 'utf8' -- results in `bytes` type\n",
    "* can  `.decode()` bytes to string\n"
   ]
  },
  {
   "cell_type": "code",
   "execution_count": 62,
   "metadata": {},
   "outputs": [],
   "source": [
    "mystr = \"telaraña\""
   ]
  },
  {
   "cell_type": "code",
   "execution_count": 71,
   "metadata": {},
   "outputs": [
    {
     "data": {
      "text/plain": [
       "b'telara\\xc3\\xb1a'"
      ]
     },
     "execution_count": 71,
     "metadata": {},
     "output_type": "execute_result"
    }
   ],
   "source": [
    "res = mystr.encode('utf8')\n",
    "res"
   ]
  },
  {
   "cell_type": "code",
   "execution_count": 72,
   "metadata": {},
   "outputs": [
    {
     "data": {
      "text/plain": [
       "bytes"
      ]
     },
     "execution_count": 72,
     "metadata": {},
     "output_type": "execute_result"
    }
   ],
   "source": [
    "type(res)"
   ]
  },
  {
   "cell_type": "code",
   "execution_count": 67,
   "metadata": {},
   "outputs": [
    {
     "data": {
      "text/plain": [
       "b'\\xff\\xfet\\x00e\\x00l\\x00a\\x00r\\x00a\\x00\\xf1\\x00a\\x00'"
      ]
     },
     "execution_count": 67,
     "metadata": {},
     "output_type": "execute_result"
    }
   ],
   "source": [
    "mystr.encode('utf16')"
   ]
  },
  {
   "cell_type": "code",
   "execution_count": 70,
   "metadata": {},
   "outputs": [
    {
     "data": {
      "text/plain": [
       "'ñ'"
      ]
     },
     "execution_count": 70,
     "metadata": {},
     "output_type": "execute_result"
    }
   ],
   "source": [
    "b'\\xc3\\xb1'.decode('utf8')"
   ]
  },
  {
   "cell_type": "markdown",
   "metadata": {},
   "source": [
    "### Byte Essentials\n",
    "* `byte` is a new binary sequence type - immutable\n",
    "* `bytarray` is mutable version of above\n",
    "* each item is integer from 0 to 255\n",
    "* thought really just ints, they are displayed using combination of ASCII, escape sequences, and hex by value\n",
    "* `struct` module provides functions to parse packed bytes into a tuple of fields of different types, and go back to packed\n",
    "    * if you work with binary data alot, learn `struct` and `mmap` module (memory-mapped file support)"
   ]
  },
  {
   "cell_type": "code",
   "execution_count": 87,
   "metadata": {},
   "outputs": [],
   "source": [
    "temp = bytearray(2)"
   ]
  },
  {
   "cell_type": "code",
   "execution_count": 88,
   "metadata": {},
   "outputs": [],
   "source": [
    "temp[0] = 0xc3\n",
    "temp[1] = 0xb1"
   ]
  },
  {
   "cell_type": "code",
   "execution_count": 93,
   "metadata": {},
   "outputs": [
    {
     "data": {
      "text/plain": [
       "'ñ'"
      ]
     },
     "execution_count": 93,
     "metadata": {},
     "output_type": "execute_result"
    }
   ],
   "source": [
    "temp.decode('utf8')"
   ]
  },
  {
   "cell_type": "code",
   "execution_count": 95,
   "metadata": {},
   "outputs": [],
   "source": [
    "byte_obj = bytes(\"telaraña\", encoding='utf8')"
   ]
  },
  {
   "cell_type": "code",
   "execution_count": 99,
   "metadata": {},
   "outputs": [
    {
     "data": {
      "text/plain": [
       "b'telar'"
      ]
     },
     "execution_count": 99,
     "metadata": {},
     "output_type": "execute_result"
    }
   ],
   "source": [
    "byte_obj[:5]"
   ]
  },
  {
   "cell_type": "code",
   "execution_count": 100,
   "metadata": {},
   "outputs": [
    {
     "data": {
      "text/plain": [
       "(bytes, int)"
      ]
     },
     "execution_count": 100,
     "metadata": {},
     "output_type": "execute_result"
    }
   ],
   "source": [
    "type(byte_obj[:1]), type(byte_obj[0])"
   ]
  },
  {
   "cell_type": "markdown",
   "metadata": {},
   "source": [
    "* The only squence for which `seq[0] == seq[:1]` is str."
   ]
  },
  {
   "cell_type": "code",
   "execution_count": 102,
   "metadata": {},
   "outputs": [
    {
     "data": {
      "text/plain": [
       "'ñ'"
      ]
     },
     "execution_count": 102,
     "metadata": {},
     "output_type": "execute_result"
    }
   ],
   "source": [
    "bytes.fromhex('C3 B1').decode('utf8')"
   ]
  },
  {
   "cell_type": "markdown",
   "metadata": {},
   "source": [
    "### Basic Encoders/Decoders"
   ]
  },
  {
   "cell_type": "markdown",
   "metadata": {},
   "source": [
    "* Python distro comes with more than 100 *codecs* (encoder/decore) for text $<->$ byte conversions.\n",
    "* `UnicodeEncodeError` - raised when character note defined in target encoding\n",
    "* `UnicodeDecodeError` - when byte sequence leads does not represent any code point for given encoding\n",
    "* UTF-8 is the default source encodingfor python 3 (ASCII was for python 2)\n",
    "     - if load .py module with non UTF-8, get `SyntaxError` (unless other encoding specified - can add encoding on top of file)\n",
    "* while can't know encoding without being told, `Chardet` package uses statistics of character appearances to guess at encoding\n",
    "* some encodings start with a **BOM** (byte-order mark) to specify endianness of machine\n",
    "    - UTF-16 encoding preprend text with ZERO WIDTH NO BREAK SPACE (U+FEFF)\n",
    "    - if use UTF_16LE (explicitly little endian) or UTF-16BE (big endian), no such BOM is generated\n",
    "    - this is no problem for UTF-8 because it is single byte - no ordering ambiguity\n",
    "* best practice: bytes decoded to string as earlyas possible on input, and encode to bytes as late as possible as output\n",
    "    - `open` built-in does decoding\n",
    "    - careful with defautls (uses default locale encoding, so cross platform bugs)\n",
    "    - called **unicode sandwich**"
   ]
  },
  {
   "cell_type": "markdown",
   "metadata": {},
   "source": [
    "### Normalizing for string comparison\n"
   ]
  },
  {
   "cell_type": "markdown",
   "metadata": {},
   "source": [
    "* challenge: more than one way to express same \"string\"\n",
    "    - unicode has combining characters, like U+0301 COMBINING ACCUTE ACCENT\n",
    "    - solution is to `unicodedata.normalize`\n",
    "* **case folding** - convert all text to lower case (and then some)\n",
    "    - `str.casefold()` (almost same as `str.lower()`)"
   ]
  },
  {
   "cell_type": "markdown",
   "metadata": {},
   "source": [
    "### Other\n",
    "* sorting can be a pain\n",
    "* a lot of good info in unicode database\n",
    "* different handling of str vs bytes in regular expression (and some other modules)\n",
    "* In python 3, a str is stored in memory as a sequence of code points using a fixed number fo bytes per code point\n",
    "    - but this is implementationd detail; and is flexible - and chooses width based on string"
   ]
  },
  {
   "cell_type": "markdown",
   "metadata": {},
   "source": [
    "[toc](#toc)"
   ]
  }
 ],
 "metadata": {
  "kernelspec": {
   "display_name": "Python 3",
   "language": "python",
   "name": "python3"
  },
  "language_info": {
   "codemirror_mode": {
    "name": "ipython",
    "version": 3
   },
   "file_extension": ".py",
   "mimetype": "text/x-python",
   "name": "python",
   "nbconvert_exporter": "python",
   "pygments_lexer": "ipython3",
   "version": "3.7.6"
  }
 },
 "nbformat": 4,
 "nbformat_minor": 2
}
