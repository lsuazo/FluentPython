{
 "cells": [
  {
   "cell_type": "markdown",
   "metadata": {},
   "source": [
    "# CH3-4"
   ]
  },
  {
   "cell_type": "markdown",
   "metadata": {},
   "source": [
    "## TOC<a id='toc'></a>\n",
    "* [Ch3 Notes](#ch3_notes)\n",
    "* [Ch4 Notes](#ch4_notes)"
   ]
  },
  {
   "cell_type": "markdown",
   "metadata": {},
   "source": [
    "### CH3 Notes <a id='ch3_notes'></a>\n",
    "[toc](#toc)"
   ]
  },
  {
   "cell_type": "markdown",
   "metadata": {},
   "source": [
    "### Generic Mapping Types\n",
    "* good chedking if mapping: `isinstance(my_dict, abc.Mapping)`\n",
    "    - better than just checking for dict to allow other maps\n",
    "* all mapping types in the standard library use the basic `dict` in their implementation, so they all have to have *hashable* keys\n",
    "* object is hashable if:\n",
    "    - it has a hash value which never changes during its lifetime (needs a `__hash__()` method)\n",
    "    - can be compared to other objects (need an `__eq__()` method)\n",
    "    - and objects wich compare equal hash equal\n",
    "* user defined types hash to `id()`, and all compare to not equal. If implement `__eq__()`, then only hashable if all attributes are immutable."
   ]
  },
  {
   "cell_type": "markdown",
   "metadata": {},
   "source": [
    "* Use *dictcomps*\n",
    "* cool methods:\n",
    "    - `d.get(k, [default])`\n",
    "    - `d.__missing__(k)` - called when `__getitem__` cannot find key (only in defaultdict)\n",
    "    - `d.pop(k, [default])`\n",
    "    - `d.setdefault(k, [default])` - if k in d, return d[k], otherwise set to default and return it\n",
    "        - very efficient way to handle missing keys (particularly when value is mutable)\n",
    "    - `d.update(m, [**kwargs])` - m can be mapping or iterable of (key, value) pairs\n",
    "        * duck typing: first checks if has `keys` method. Otherwise falls back to iterating over m as tuples\n",
    "        * <font color=red> What is the **kwargs for? </font>"
   ]
  },
  {
   "cell_type": "code",
   "execution_count": 10,
   "metadata": {},
   "outputs": [],
   "source": [
    "mydict = {1:2}"
   ]
  },
  {
   "cell_type": "code",
   "execution_count": 11,
   "metadata": {},
   "outputs": [
    {
     "data": {
      "text/plain": [
       "{1: 2, 3: 4}"
      ]
     },
     "execution_count": 11,
     "metadata": {},
     "output_type": "execute_result"
    }
   ],
   "source": [
    "mydict.update([(3,4)])\n",
    "mydict"
   ]
  },
  {
   "cell_type": "code",
   "execution_count": 13,
   "metadata": {},
   "outputs": [
    {
     "data": {
      "text/plain": [
       "{1: 2, 3: 4, 7: 8, 'new': 10, 'old': 11}"
      ]
     },
     "execution_count": 13,
     "metadata": {},
     "output_type": "execute_result"
    }
   ],
   "source": [
    "mydict.update({7:8}, new=10, old=11)\n",
    "mydict"
   ]
  },
  {
   "cell_type": "markdown",
   "metadata": {},
   "source": []
  },
  {
   "cell_type": "markdown",
   "metadata": {},
   "source": [
    "m"
   ]
  },
  {
   "cell_type": "markdown",
   "metadata": {},
   "source": [
    "### CH4 Notes <a id='ch4_notes'></a>\n",
    "[toc](#toc)"
   ]
  },
  {
   "cell_type": "markdown",
   "metadata": {},
   "source": [
    "[toc](#toc)"
   ]
  }
 ],
 "metadata": {
  "kernelspec": {
   "display_name": "Python [default]",
   "language": "python",
   "name": "python3"
  },
  "language_info": {
   "codemirror_mode": {
    "name": "ipython",
    "version": 3
   },
   "file_extension": ".py",
   "mimetype": "text/x-python",
   "name": "python",
   "nbconvert_exporter": "python",
   "pygments_lexer": "ipython3",
   "version": "3.5.6"
  }
 },
 "nbformat": 4,
 "nbformat_minor": 2
}
