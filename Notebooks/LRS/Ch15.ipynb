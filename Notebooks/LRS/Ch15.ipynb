{
 "cells": [
  {
   "cell_type": "markdown",
   "metadata": {},
   "source": [
    "# CH 15 - Context Managers and else Blocks"
   ]
  },
  {
   "cell_type": "markdown",
   "metadata": {},
   "source": [
    "## TOC<a id='toc'></a>\n",
    "* [Ch15 Notes](#ch15_notes)"
   ]
  },
  {
   "cell_type": "markdown",
   "metadata": {},
   "source": [
    "### CH15 Notes <a id='ch15_notes'></a>\n",
    "[toc](#toc)\n",
    "### Context managers and else blocks"
   ]
  },
  {
   "cell_type": "markdown",
   "metadata": {},
   "source": [
    "### else blocks beyond if"
   ]
  },
  {
   "cell_type": "markdown",
   "metadata": {},
   "source": [
    "* for/else\n",
    "    - executes else block iff for loop runs to completion (no exceptions on break statements)\n",
    "    - generally used for loop is searching for something, using a break when found. If not, then exceute else block\n",
    "* while/else\n",
    "    - else block executes iff condition becomes falsy\n",
    "* try/except/else\n",
    "    - the else block will only run if no exeptions raised\n",
    "    - exceptions in the else clause are not handled by the preceding except clause\n",
    "    - the idea here is to separate the dangerous_call() [put in try clause] from the rest of the call, put in the else clause. This is for communication of intent."
   ]
  },
  {
   "cell_type": "markdown",
   "metadata": {},
   "source": [
    "* There wont run if return, break or continue cause control to jump out of main block or the component of the compound statement"
   ]
  },
  {
   "cell_type": "markdown",
   "metadata": {},
   "source": [
    "* Python uses try/except for control flow, not just error handling\n",
    "    - embodied in the **EAFP** (= Easier to ask for forgiveness than permision) phylosophy\n",
    "    - as opposed to C-Style **LBYL** (= Look before you leap) philosophy."
   ]
  },
  {
   "cell_type": "markdown",
   "metadata": {},
   "source": [
    "### Context Managers"
   ]
  },
  {
   "cell_type": "markdown",
   "metadata": {},
   "source": [
    "* Context manager objects exist to control a with statement, just like iterators exist ton control a for statement.\n",
    "* with statement designed to simplify the try/finally pattern - the finally clause usually releases a critical resource or restores some previous state that was temporarilly changed.\n",
    "    - most common example is making sure that a file is closed\n",
    "* protocol consists of `__enter__` and `__exit__` methods.\n",
    "    - ` def __enter__(self): `\n",
    "    - ` def __exit__(self, exc_type, exc_value, traceback)`\n",
    "* `with` statement must be followed by a context manager\n",
    "* at start of with clause, enter is invoked on context manager\n",
    "    - it can also return something that gets assigned by the `as` clause\n",
    "    - in the case of opening file, the context manager returns self (an instance of TextIOWrapper returned by the open function)\n",
    "* exit is invoked on context manager at the end of the clause\n",
    "    - VIP: exit called on context manager, not on whatever is returned by enter!\n",
    "* If exception passed to `__exit__`, then\n",
    "    1) if exit returns true, intepreter supresses the exception\n",
    "    2) if no explicit return value, interpreter gets None, and it propagates the exception"
   ]
  },
  {
   "cell_type": "markdown",
   "metadata": {},
   "source": [
    "* things to note:\n",
    "    - with clause is not a new scope\n",
    "    - the as clause is optional (some mangers return None upon enter)\n",
    "    - ptyhon calls exit with None, None, None if all went well. If exception, then the three arguments get the exception data"
   ]
  },
  {
   "cell_type": "markdown",
   "metadata": {},
   "source": [
    "* unittest.mock.patch uses contect managers for applying patches to objects for testing"
   ]
  },
  {
   "cell_type": "markdown",
   "metadata": {},
   "source": [
    "### Contextlib utilities\n",
    "* `redirect_stdout` - redirects stdout to some file-like object\n",
    "* `closing` - turn objects with .close() into context manager\n",
    "* `supress` context manager that allows you to temporarily ignore specified exceptions\n",
    "* `@contextmanager` - decorator that allows you to build context manager from a generator function\n",
    "* ..."
   ]
  },
  {
   "cell_type": "markdown",
   "metadata": {},
   "source": [
    "### Using @contextmanager\n",
    "* instead of implementing enter and exit, just write a generator with a single yield statement that should produce whatever you want the enter method ro produce\n",
    "* everything before the yield will be executed at the beginning of the while block, when interpreter calls `__enter__`\n",
    "* value yielded will get assigned to as clause target variable\n",
    "* the code after the yield executed when `__exit__` is called at the end of the block\n",
    "* essentially it wraps function in a class implementing the protocol\n",
    "* VIP: if excpetion is called inside body of with, it is passed back to generator - so it needs to know how to handle exceptions\n",
    "    - otherwise it will about without running code after yield, which is meant to restore state\n",
    "    - Always have a try/finally block around yield in such a situation\n",
    "* interpreter behavior on exception is reversed - interpreter assume exception is handled and should be supressed. You must explicitly re-raise if you want to propagate."
   ]
  },
  {
   "cell_type": "markdown",
   "metadata": {},
   "source": [
    "Note that the use of the yield keyword in a generator used by @contextmanager has nothing to do with iteration!\n",
    "- in these examples, generator is being used as a corouting: a procedure that runs up to a point, then suspens to let client code run until execution given back to  coroutine (more next chapter)"
   ]
  },
  {
   "cell_type": "code",
   "execution_count": 1,
   "metadata": {},
   "outputs": [],
   "source": [
    "def break_gen():\n",
    "    print('before yield')\n",
    "    yield 3\n",
    "    print('apres yield')"
   ]
  },
  {
   "cell_type": "code",
   "execution_count": 2,
   "metadata": {},
   "outputs": [],
   "source": [
    "gen = break_gen()"
   ]
  },
  {
   "cell_type": "code",
   "execution_count": 3,
   "metadata": {},
   "outputs": [
    {
     "name": "stdout",
     "output_type": "stream",
     "text": [
      "before yield\n"
     ]
    },
    {
     "data": {
      "text/plain": [
       "3"
      ]
     },
     "execution_count": 3,
     "metadata": {},
     "output_type": "execute_result"
    }
   ],
   "source": [
    "next(gen)"
   ]
  },
  {
   "cell_type": "code",
   "execution_count": 4,
   "metadata": {},
   "outputs": [
    {
     "name": "stdout",
     "output_type": "stream",
     "text": [
      "apres yield\n"
     ]
    },
    {
     "ename": "StopIteration",
     "evalue": "",
     "output_type": "error",
     "traceback": [
      "\u001b[1;31m---------------------------------------------------------------------------\u001b[0m",
      "\u001b[1;31mStopIteration\u001b[0m                             Traceback (most recent call last)",
      "\u001b[1;32m<ipython-input-4-6e72e47198db>\u001b[0m in \u001b[0;36m<module>\u001b[1;34m\u001b[0m\n\u001b[1;32m----> 1\u001b[1;33m \u001b[0mnext\u001b[0m\u001b[1;33m(\u001b[0m\u001b[0mgen\u001b[0m\u001b[1;33m)\u001b[0m\u001b[1;33m\u001b[0m\u001b[1;33m\u001b[0m\u001b[0m\n\u001b[0m",
      "\u001b[1;31mStopIteration\u001b[0m: "
     ]
    }
   ],
   "source": [
    "next(gen)"
   ]
  },
  {
   "cell_type": "code",
   "execution_count": null,
   "metadata": {},
   "outputs": [],
   "source": []
  }
 ],
 "metadata": {
  "kernelspec": {
   "display_name": "Python 3",
   "language": "python",
   "name": "python3"
  },
  "language_info": {
   "codemirror_mode": {
    "name": "ipython",
    "version": 3
   },
   "file_extension": ".py",
   "mimetype": "text/x-python",
   "name": "python",
   "nbconvert_exporter": "python",
   "pygments_lexer": "ipython3",
   "version": "3.7.6"
  }
 },
 "nbformat": 4,
 "nbformat_minor": 2
}
