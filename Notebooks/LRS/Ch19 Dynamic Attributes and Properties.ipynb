{
 "cells": [
  {
   "cell_type": "markdown",
   "metadata": {},
   "source": [
    "# CH 19"
   ]
  },
  {
   "cell_type": "markdown",
   "metadata": {},
   "source": [
    "## TOC<a id='toc'></a>\n",
    "* [Ch19 Notes](#ch19_notes)"
   ]
  },
  {
   "cell_type": "markdown",
   "metadata": {},
   "source": [
    "### CH19 Notes <a id='ch19_notes'></a>\n",
    "[toc](#toc)\n",
    "### Dynamic Attributes and Properties"
   ]
  },
  {
   "cell_type": "markdown",
   "metadata": {},
   "source": [
    "* Data attributes and methods are collectively known as **attributes**\n",
    "    - a method is just a callable attribute\n",
    "* we can also create **properties**, which replaces a public data attriburte with **accessor methods**\n",
    "    - agress with the *Uniform access principle*: all services offered by a module should be available through a uniform notation, which does not betray whether they are implemented through storage or computation"
   ]
  },
  {
   "cell_type": "markdown",
   "metadata": {},
   "source": [
    "* nice trick: can use two context managers at the same time (three? more?) since Python 2.7 and 3.1\n",
    "` with urlopen(URL) as remote, open(JSON, 'wb') as local:`\n",
    "* another nice trick: FrozenJSON class dealing with Keyword Attributes [use `keyword.iskeyword()`]\n",
    "``` \n",
    "def __init__(self, mapping):\n",
    "    self.__data = []\n",
    "    for key, value in mapping.items():\n",
    "        if keyword.iskeyword(key):\n",
    "            key += '_'\n",
    "        self.__data[key] = value\n",
    "```\n",
    "    - something similar can be done to check if key is a valid identifier by using string class `s.isidentifier()` method\n",
    "    "
   ]
  },
  {
   "cell_type": "markdown",
   "metadata": {},
   "source": [
    "## Flexible Object Creation with __new__\n",
    "* we often refer to `__init__`  as the contstructor method, but the special method that actually constructs an instance is the `__new__` method\n",
    "    - its a class method (but doesnt need the @classmethod decorator)\n",
    "        - first arg is cls, remaining args are the ones init gets (except self)\n",
    "    - it must return an instance\n",
    "    - that instance will in turn get passed to the first argument of `__init__`\n",
    "        * but not always, if `__new__` returns instance of a different  class, the init is not called.\n",
    "* init is actually the initializer\n",
    "* we rarely call the actual constructor `__new__` because the implementation inherited from object usually suffices\n",
    "* usually `__new__(cls, arg)` just calls `super().__new__(cls)`\n",
    "    - most often super() is `object`\n",
    "    - results is of class cls, even though object new was used\n",
    "    - object new implemented in C"
   ]
  },
  {
   "cell_type": "markdown",
   "metadata": {},
   "source": [
    "## Restructuring the OSCON Feed with shelve"
   ]
  },
  {
   "cell_type": "markdown",
   "metadata": {},
   "source": [
    "Another cool trick:  \n",
    "* common shortcut to build an isntance with attributes created from key word arguments\n",
    "```\n",
    "class Record:\n",
    "    def __init__(self, **kwargs):\n",
    "        self.__dict__.update(kwargs)\n",
    "```"
   ]
  },
  {
   "cell_type": "markdown",
   "metadata": {},
   "source": [
    "* *properties* are class attributes designed to manage instance attributes (that is they don't manage class attributes)\n",
    "    - there are other solutions for this"
   ]
  },
  {
   "cell_type": "markdown",
   "metadata": {},
   "source": [
    "* one of the differing facts about static vs class methods is that class methods are easier to customize in subclasses."
   ]
  },
  {
   "cell_type": "markdown",
   "metadata": {},
   "source": [
    "# Using a property for attribute validation\n",
    "* implementing a propoerty allows us to use a getter and setter, but not change the interface of \"accessing property direclty\" that is via dot notation\n",
    "* it is often a good idea to use the setter even in the initializing, to do the validation there too.\n",
    "* Syntax\n",
    "\n",
    "```\n",
    "@property\n",
    "def weight(self):\n",
    "    return self._weight\n",
    "    \n",
    "@weight.setter\n",
    "def weight(self, value):\n",
    "    if value > 0:\n",
    "        self._weight = value\n",
    "    else:\n",
    "        raise ValueError\n",
    "```\n",
    "* claim: The decorated getter has a .setter attribute, which is also a decorator. This ties the getter and setter together.\n",
    "* properties are implemented as descriptor classes themselves - ch20 is about descriptors"
   ]
  },
  {
   "cell_type": "markdown",
   "metadata": {},
   "source": [
    "# A Proper Look at Properties\n",
    "* Though used as a decorator, the property builtin is actually a class\n",
    "    - class and function are often interchangeable - because no new operator for object instantiation. So invoking a constructor is no different than invoking a factory function\n",
    "    - both can be used as decorators as long as they return a new callable\n",
    "* property constructor signature: `property(fget=None, fset=None, fdel=None, doc=None)`\n",
    "* all arguments are optional, and if a function is not provided for one, the corresponding operation is not allowed by resulting object\n",
    "    - decorator syntax became available after property type became avaialbe, so used to call it like `weight = property(get_weight, set_weight)` outside of any method def in the class. It is a public class attribute\n",
    "* The presence of a property in a class affect how attributes and instances of that class can be found in a somewhat surprising way\n"
   ]
  },
  {
   "cell_type": "code",
   "execution_count": 1,
   "metadata": {},
   "outputs": [],
   "source": [
    "class Class:\n",
    "    data = \"class data attr\"\n",
    "    @property\n",
    "    def prop(self):\n",
    "        return \"prop value\""
   ]
  },
  {
   "cell_type": "code",
   "execution_count": 2,
   "metadata": {},
   "outputs": [],
   "source": [
    "obj = Class()"
   ]
  },
  {
   "cell_type": "code",
   "execution_count": 3,
   "metadata": {},
   "outputs": [
    {
     "data": {
      "text/plain": [
       "'class data attr'"
      ]
     },
     "execution_count": 3,
     "metadata": {},
     "output_type": "execute_result"
    }
   ],
   "source": [
    "obj.data"
   ]
  },
  {
   "cell_type": "code",
   "execution_count": 5,
   "metadata": {},
   "outputs": [
    {
     "data": {
      "text/plain": [
       "{}"
      ]
     },
     "execution_count": 5,
     "metadata": {},
     "output_type": "execute_result"
    }
   ],
   "source": [
    "vars(obj)"
   ]
  },
  {
   "cell_type": "code",
   "execution_count": 6,
   "metadata": {},
   "outputs": [
    {
     "data": {
      "text/plain": [
       "mappingproxy({'__module__': '__main__',\n",
       "              'data': 'class data attr',\n",
       "              'prop': <property at 0x218a570f630>,\n",
       "              '__dict__': <attribute '__dict__' of 'Class' objects>,\n",
       "              '__weakref__': <attribute '__weakref__' of 'Class' objects>,\n",
       "              '__doc__': None})"
      ]
     },
     "execution_count": 6,
     "metadata": {},
     "output_type": "execute_result"
    }
   ],
   "source": [
    "vars(Class)"
   ]
  },
  {
   "cell_type": "code",
   "execution_count": 7,
   "metadata": {},
   "outputs": [
    {
     "data": {
      "text/plain": [
       "'prop value'"
      ]
     },
     "execution_count": 7,
     "metadata": {},
     "output_type": "execute_result"
    }
   ],
   "source": [
    "obj.prop"
   ]
  },
  {
   "cell_type": "code",
   "execution_count": 8,
   "metadata": {},
   "outputs": [
    {
     "data": {
      "text/plain": [
       "<property at 0x218a570f630>"
      ]
     },
     "execution_count": 8,
     "metadata": {},
     "output_type": "execute_result"
    }
   ],
   "source": [
    "Class.prop"
   ]
  },
  {
   "cell_type": "code",
   "execution_count": 9,
   "metadata": {},
   "outputs": [],
   "source": [
    "obj.data = 'overriding data'"
   ]
  },
  {
   "cell_type": "code",
   "execution_count": 10,
   "metadata": {},
   "outputs": [
    {
     "data": {
      "text/plain": [
       "'class data attr'"
      ]
     },
     "execution_count": 10,
     "metadata": {},
     "output_type": "execute_result"
    }
   ],
   "source": [
    "Class.data"
   ]
  },
  {
   "cell_type": "code",
   "execution_count": 11,
   "metadata": {},
   "outputs": [
    {
     "data": {
      "text/plain": [
       "'overriding data'"
      ]
     },
     "execution_count": 11,
     "metadata": {},
     "output_type": "execute_result"
    }
   ],
   "source": [
    "obj.data"
   ]
  },
  {
   "cell_type": "code",
   "execution_count": 12,
   "metadata": {},
   "outputs": [
    {
     "data": {
      "text/plain": [
       "{'data': 'overriding data'}"
      ]
     },
     "execution_count": 12,
     "metadata": {},
     "output_type": "execute_result"
    }
   ],
   "source": [
    "vars(obj)"
   ]
  },
  {
   "cell_type": "code",
   "execution_count": 13,
   "metadata": {},
   "outputs": [
    {
     "ename": "AttributeError",
     "evalue": "can't set attribute",
     "output_type": "error",
     "traceback": [
      "\u001b[1;31m---------------------------------------------------------------------------\u001b[0m",
      "\u001b[1;31mAttributeError\u001b[0m                            Traceback (most recent call last)",
      "\u001b[1;32m<ipython-input-13-3b0693f1ff30>\u001b[0m in \u001b[0;36m<module>\u001b[1;34m\u001b[0m\n\u001b[1;32m----> 1\u001b[1;33m \u001b[0mobj\u001b[0m\u001b[1;33m.\u001b[0m\u001b[0mprop\u001b[0m \u001b[1;33m=\u001b[0m \u001b[1;34m'overriding prop'\u001b[0m\u001b[1;33m\u001b[0m\u001b[1;33m\u001b[0m\u001b[0m\n\u001b[0m",
      "\u001b[1;31mAttributeError\u001b[0m: can't set attribute"
     ]
    }
   ],
   "source": [
    "obj.prop = 'overriding prop'"
   ]
  },
  {
   "cell_type": "code",
   "execution_count": 14,
   "metadata": {},
   "outputs": [],
   "source": [
    "obj.__dict__['prop'] = 'overriding prop'"
   ]
  },
  {
   "cell_type": "code",
   "execution_count": 15,
   "metadata": {},
   "outputs": [
    {
     "data": {
      "text/plain": [
       "'prop value'"
      ]
     },
     "execution_count": 15,
     "metadata": {},
     "output_type": "execute_result"
    }
   ],
   "source": [
    "obj.prop"
   ]
  },
  {
   "cell_type": "code",
   "execution_count": 16,
   "metadata": {},
   "outputs": [
    {
     "data": {
      "text/plain": [
       "'prop value'"
      ]
     },
     "execution_count": 16,
     "metadata": {},
     "output_type": "execute_result"
    }
   ],
   "source": [
    "getattr(obj, 'prop')"
   ]
  },
  {
   "cell_type": "code",
   "execution_count": 17,
   "metadata": {},
   "outputs": [
    {
     "data": {
      "text/plain": [
       "True"
      ]
     },
     "execution_count": 17,
     "metadata": {},
     "output_type": "execute_result"
    }
   ],
   "source": [
    "hasattr(obj, 'prop')"
   ]
  },
  {
   "cell_type": "code",
   "execution_count": 18,
   "metadata": {},
   "outputs": [
    {
     "data": {
      "text/plain": [
       "{'data': 'overriding data', 'prop': 'overriding prop'}"
      ]
     },
     "execution_count": 18,
     "metadata": {},
     "output_type": "execute_result"
    }
   ],
   "source": [
    "vars(obj)"
   ]
  },
  {
   "cell_type": "code",
   "execution_count": 19,
   "metadata": {},
   "outputs": [
    {
     "data": {
      "text/plain": [
       "<property at 0x218a570f630>"
      ]
     },
     "execution_count": 19,
     "metadata": {},
     "output_type": "execute_result"
    }
   ],
   "source": [
    "Class.prop"
   ]
  },
  {
   "cell_type": "code",
   "execution_count": 20,
   "metadata": {},
   "outputs": [
    {
     "data": {
      "text/plain": [
       "'prop value'"
      ]
     },
     "execution_count": 20,
     "metadata": {},
     "output_type": "execute_result"
    }
   ],
   "source": [
    "obj.prop"
   ]
  },
  {
   "cell_type": "code",
   "execution_count": 21,
   "metadata": {},
   "outputs": [],
   "source": [
    "Class.prop = \"overriding class prop\""
   ]
  },
  {
   "cell_type": "code",
   "execution_count": 22,
   "metadata": {},
   "outputs": [
    {
     "data": {
      "text/plain": [
       "('overriding class prop', 'overriding prop')"
      ]
     },
     "execution_count": 22,
     "metadata": {},
     "output_type": "execute_result"
    }
   ],
   "source": [
    "Class.prop, obj.prop"
   ]
  },
  {
   "cell_type": "markdown",
   "metadata": {},
   "source": [
    "<hr>\n",
    "<br>\n",
    "The main point is that an expression like `obj.attr` does not seacrch for attr starting with obj, the search actually starts with `obj.__class__`. And only if there is no property will Python look in object.\n",
    "<br>\n",
    "<hr>"
   ]
  },
  {
   "cell_type": "code",
   "execution_count": 30,
   "metadata": {},
   "outputs": [],
   "source": [
    "class Class():\n",
    "    attr1 = 3\n",
    "    def __init__(self, attr2):\n",
    "        self.attr2 = 4\n",
    "        \n",
    "    def attr3(self):\n",
    "        return 5\n",
    "    \n",
    "    @property\n",
    "    def attr4(self):\n",
    "        return 6"
   ]
  },
  {
   "cell_type": "code",
   "execution_count": 31,
   "metadata": {},
   "outputs": [
    {
     "data": {
      "text/plain": [
       "mappingproxy({'__module__': '__main__',\n",
       "              'attr1': 3,\n",
       "              '__init__': <function __main__.Class.__init__(self, attr2)>,\n",
       "              'attr3': <function __main__.Class.attr3(self)>,\n",
       "              'attr4': <property at 0x218a735fc70>,\n",
       "              '__dict__': <attribute '__dict__' of 'Class' objects>,\n",
       "              '__weakref__': <attribute '__weakref__' of 'Class' objects>,\n",
       "              '__doc__': None})"
      ]
     },
     "execution_count": 31,
     "metadata": {},
     "output_type": "execute_result"
    }
   ],
   "source": [
    "vars(Class)"
   ]
  },
  {
   "cell_type": "code",
   "execution_count": 32,
   "metadata": {},
   "outputs": [],
   "source": [
    "obj = Class(5)"
   ]
  },
  {
   "cell_type": "code",
   "execution_count": 33,
   "metadata": {},
   "outputs": [
    {
     "data": {
      "text/plain": [
       "{'attr2': 4}"
      ]
     },
     "execution_count": 33,
     "metadata": {},
     "output_type": "execute_result"
    }
   ],
   "source": [
    "vars(obj)"
   ]
  },
  {
   "cell_type": "code",
   "execution_count": 34,
   "metadata": {},
   "outputs": [
    {
     "data": {
      "text/plain": [
       "(True, True, True, True)"
      ]
     },
     "execution_count": 34,
     "metadata": {},
     "output_type": "execute_result"
    }
   ],
   "source": [
    "hasattr(obj, 'attr1'),  hasattr(obj, 'attr2'), hasattr(obj, 'attr3'),  hasattr(obj, 'attr4')"
   ]
  },
  {
   "cell_type": "markdown",
   "metadata": {},
   "source": [
    "# Property Documentation\n",
    "* every python unit of code can have a docstring\n",
    "* the info is stored in the `__doc__` attribute\n",
    "* when the property is deployed as a decorator, the docstring of getter method is used\n",
    "    - deployin via constructor you can pass the doc arg\n",
    "    "
   ]
  },
  {
   "cell_type": "markdown",
   "metadata": {},
   "source": [
    "### This is pretty neat!"
   ]
  },
  {
   "cell_type": "code",
   "execution_count": 36,
   "metadata": {},
   "outputs": [
    {
     "name": "stdout",
     "output_type": "stream",
     "text": [
      "Help on class Class in module __main__:\n",
      "\n",
      "class Class(builtins.object)\n",
      " |  Class(attr2)\n",
      " |  \n",
      " |  Methods defined here:\n",
      " |  \n",
      " |  __init__(self, attr2)\n",
      " |      Initialize self.  See help(type(self)) for accurate signature.\n",
      " |  \n",
      " |  attr3(self)\n",
      " |  \n",
      " |  ----------------------------------------------------------------------\n",
      " |  Readonly properties defined here:\n",
      " |  \n",
      " |  attr4\n",
      " |  \n",
      " |  ----------------------------------------------------------------------\n",
      " |  Data descriptors defined here:\n",
      " |  \n",
      " |  __dict__\n",
      " |      dictionary for instance variables (if defined)\n",
      " |  \n",
      " |  __weakref__\n",
      " |      list of weak references to the object (if defined)\n",
      " |  \n",
      " |  ----------------------------------------------------------------------\n",
      " |  Data and other attributes defined here:\n",
      " |  \n",
      " |  attr1 = 3\n",
      "\n"
     ]
    }
   ],
   "source": [
    "help(Class)"
   ]
  },
  {
   "cell_type": "markdown",
   "metadata": {},
   "source": [
    "### He creates a property factory\n",
    "* a function that a storage name, creates getter and setter closures with that storage name, then passes them as args to a property(), which is then returned by function.\n",
    "* this is used to create class attributes - which are properties"
   ]
  },
  {
   "cell_type": "markdown",
   "metadata": {},
   "source": [
    "* properties also have @property.deleter, even though we typically do not delete attributes"
   ]
  },
  {
   "cell_type": "markdown",
   "metadata": {},
   "source": [
    "# Essential Attributes and Functions for Attribute Handling\n",
    "* Special Attributes\n",
    "    * `__class__`: reference to the object's class; \n",
    "        - `obj.__class__` is the same as `type(obj)`\n",
    "        - python looks for special methods such as `__getarr__` only in the objects class and not in the instance itself (????)\n",
    "    * `__dict__` - a mapping  that stores writable attributes of an object or class\n",
    "        - if a class has `__slots__` attribute, then instance will not have a `__dict__`\n",
    "    * `__slots__`: an attribute that may be defined in a class to limit attributes instances may have.\n",
    "* Buit-in-Functions (for attrubte reading.. writing and introspection)\n",
    "    * `dir([object])`: list *most* attributes of object.\n",
    "        - intended for interactive purposes, so doesn't list all, just the \"interesting\" ones\n",
    "        - if no object passed, dir list names in current scope\n",
    "    * `getattr(object, name[, default])`:  get attribute, may fetch from class or super class.\n",
    "        - if not found raises AttributeError, or returns default if given\n",
    "    * `hasttr(object, name)`: returns True if attribute is in object, or can be fetched throug it (say by inheritance)\n",
    "    * `setattr(object, name, value)`:  assigns value to named attribute if object allows it\n",
    "    * `vars([object])`: returns `__dict__` of obj; \n",
    "        - cant deal with instances with slots\n",
    "        - without object, it does the same thing as `locals()` (ie returns dict representing local scope)\n",
    "* Special methods (attribute acces via dot, or using built-in funcs like getattr, hasattr and setatttr, trigger these special methods - reading and writing directly from dict does not)\n",
    "    * \"special methods are not shadowed by instance attributes of the same name\" - so define them in class, not in instance `__dict__`\n",
    "    * `__delattr__`: called when `del obj.attr`\n",
    "    * `__dir__`: called when `dir(obj)`\n",
    "    * `__getattribute__`: always called when there is an attempt to retrieve a named attribute, except when attribute sought is a special attribute od method.\n",
    "        - implementation of `__getattribute__` should use `super().__getattribute__(obj, name)`\n",
    "    * `__getattr__`: called only when an attrmpt to retrieve the named attrbiute fails, after Obj, class and ut superclasses are searched.\n",
    "        - my be triggered by dot notation, getattr(), and hasattr()\n",
    "        - only invoked after `__getattribute__` raises AttributeError\n",
    "    * `__setattr__(self, name, value)___`: always called  when there is an attempt to set the named attribute. triggered by dot notation and setattr() func."
   ]
  },
  {
   "cell_type": "code",
   "execution_count": 1,
   "metadata": {},
   "outputs": [],
   "source": [
    "def myfunc(x):\n",
    "    return x"
   ]
  },
  {
   "cell_type": "code",
   "execution_count": 2,
   "metadata": {},
   "outputs": [
    {
     "data": {
      "text/plain": [
       "function"
      ]
     },
     "execution_count": 2,
     "metadata": {},
     "output_type": "execute_result"
    }
   ],
   "source": [
    "type(myfunc)"
   ]
  },
  {
   "cell_type": "code",
   "execution_count": 4,
   "metadata": {},
   "outputs": [
    {
     "data": {
      "text/plain": [
       "type"
      ]
     },
     "execution_count": 4,
     "metadata": {},
     "output_type": "execute_result"
    }
   ],
   "source": [
    "type(myfunc.__class__)"
   ]
  },
  {
   "cell_type": "markdown",
   "metadata": {},
   "source": [
    "## Soapbox\n",
    "* `__new__` is better than `new` - a variation on the Uniform Access Principle (UAP)\n",
    "    - in python syntax  `my_obj = foo()`  you dont know if foo is a func or a class, or any other callable\n",
    "    - other languages have the `new` operator that distinguish these!\n",
    "    - what this means is that replacing cosntructors with factories (which is much more flexible) or vice-versa, is quite easy in pyton, but not so in languages with `new`\n",
    "    - and the existence of `__new__` can also make a class behave more like a factory function, because you can use it to return existing instance, or even instances of other classes"
   ]
  },
  {
   "cell_type": "markdown",
   "metadata": {},
   "source": []
  },
  {
   "cell_type": "markdown",
   "metadata": {},
   "source": []
  }
 ],
 "metadata": {
  "kernelspec": {
   "display_name": "Python 3",
   "language": "python",
   "name": "python3"
  },
  "language_info": {
   "codemirror_mode": {
    "name": "ipython",
    "version": 3
   },
   "file_extension": ".py",
   "mimetype": "text/x-python",
   "name": "python",
   "nbconvert_exporter": "python",
   "pygments_lexer": "ipython3",
   "version": "3.8.3"
  }
 },
 "nbformat": 4,
 "nbformat_minor": 4
}
