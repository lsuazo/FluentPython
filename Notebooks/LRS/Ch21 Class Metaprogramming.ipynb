{
 "cells": [
  {
   "cell_type": "markdown",
   "metadata": {},
   "source": [
    "# CH 21"
   ]
  },
  {
   "cell_type": "markdown",
   "metadata": {},
   "source": [
    "## TOC<a id='toc'></a>\n",
    "* [Ch21 Notes](#ch21_notes)"
   ]
  },
  {
   "cell_type": "markdown",
   "metadata": {},
   "source": [
    "### CH21 Notes <a id='ch20_notes'></a>\n",
    "[toc](#toc)\n",
    "###  Class Metaprogramming"
   ]
  },
  {
   "cell_type": "markdown",
   "metadata": {},
   "source": [
    "* **class metaprogramming** is the art of creating classes at runtime\n",
    "    - in python, classes are *first-class* objects (can be passed to and return by funcs, can be created at runtime ...)"
   ]
  },
  {
   "cell_type": "markdown",
   "metadata": {},
   "source": [
    "* We usually think of *type* as a function, because we use it like one. But really `type` is a class.\n",
    "* It behaves like a class that creates new classes, when invoked with three arguments: `MyClass = type('MyClass', (MySuperClass, MyMixin), {'x':42, 'x2': lambda self: self.x *2})`\n",
    "    * argnames are: name, base, dict\n",
    "    * the last one, dict, is a mapping of attributes names and attributes of the new class\n",
    "* the novelty here is that instances of type() are classes"
   ]
  },
  {
   "cell_type": "markdown",
   "metadata": {},
   "source": [
    "* named tuple follows a different approach:\n",
    "    * they have a string called `_class_template`, which is basically the source code as a string\n",
    "    * named tuple fills it blanks calling `_class_template.format(...)`\n",
    "    * the resulting source code string is evaluated using the `exec` builtin\n",
    "* His claim: avoid using exec and eval - they pose serious security risks.\n",
    "    - Python offers sufficient introspection functionality to not need these most of the time"
   ]
  },
  {
   "cell_type": "markdown",
   "metadata": {},
   "source": [
    "<hr>\n",
    "<br>\n",
    "class introspection:\n",
    "\n",
    "    * `vars(x)` :  equivalent to `x.__dict__`\n",
    "        - instance vars stored in dict\n",
    "    * `dir(x)` : returns a dict of x's \"attributes, its class's attributes, and recurseively upward\"\n",
    "        - something akin to all the things that can be accessed using the dot operator (or equiv getattribute).\n",
    "        - recall methods are not stored in dict - in fact they are non-overriding descriptors (so they are in super class dict)\n",
    "<hr>\n",
    "<br>"
   ]
  },
  {
   "cell_type": "code",
   "execution_count": 1,
   "metadata": {},
   "outputs": [],
   "source": [
    "class MyClass:\n",
    "    class_var = 3\n",
    "    \n",
    "    def __init__(self):\n",
    "        self.inst_var = 4\n",
    "        \n",
    "    def spit_vars(self):\n",
    "        return( self.class_var, self.inst_var)\n",
    "    \n",
    "    @property\n",
    "    def var(self):\n",
    "        return self.inst_var"
   ]
  },
  {
   "cell_type": "code",
   "execution_count": 2,
   "metadata": {},
   "outputs": [],
   "source": [
    "obj = MyClass()"
   ]
  },
  {
   "cell_type": "code",
   "execution_count": 3,
   "metadata": {},
   "outputs": [
    {
     "data": {
      "text/plain": [
       "{'inst_var': 4}"
      ]
     },
     "execution_count": 3,
     "metadata": {},
     "output_type": "execute_result"
    }
   ],
   "source": [
    "vars(obj)"
   ]
  },
  {
   "cell_type": "code",
   "execution_count": 4,
   "metadata": {},
   "outputs": [
    {
     "data": {
      "text/plain": [
       "mappingproxy({'__module__': '__main__',\n",
       "              'class_var': 3,\n",
       "              '__init__': <function __main__.MyClass.__init__(self)>,\n",
       "              'spit_vars': <function __main__.MyClass.spit_vars(self)>,\n",
       "              'var': <property at 0x2a8bc582db8>,\n",
       "              '__dict__': <attribute '__dict__' of 'MyClass' objects>,\n",
       "              '__weakref__': <attribute '__weakref__' of 'MyClass' objects>,\n",
       "              '__doc__': None})"
      ]
     },
     "execution_count": 4,
     "metadata": {},
     "output_type": "execute_result"
    }
   ],
   "source": [
    "vars(MyClass)"
   ]
  },
  {
   "cell_type": "code",
   "execution_count": 18,
   "metadata": {},
   "outputs": [
    {
     "data": {
      "text/plain": [
       "{}"
      ]
     },
     "execution_count": 18,
     "metadata": {},
     "output_type": "execute_result"
    }
   ],
   "source": [
    "vars(MyClass.__init__)"
   ]
  },
  {
   "cell_type": "code",
   "execution_count": 21,
   "metadata": {},
   "outputs": [
    {
     "data": {
      "text/plain": [
       "type"
      ]
     },
     "execution_count": 21,
     "metadata": {},
     "output_type": "execute_result"
    }
   ],
   "source": [
    "type(type(MyClass.__init__))"
   ]
  },
  {
   "cell_type": "code",
   "execution_count": 23,
   "metadata": {},
   "outputs": [
    {
     "name": "stdout",
     "output_type": "stream",
     "text": [
      "Help on class function in module builtins:\n",
      "\n",
      "class function(object)\n",
      " |  function(code, globals, name=None, argdefs=None, closure=None)\n",
      " |  \n",
      " |  Create a function object.\n",
      " |  \n",
      " |  code\n",
      " |    a code object\n",
      " |  globals\n",
      " |    the globals dictionary\n",
      " |  name\n",
      " |    a string that overrides the name from the code object\n",
      " |  argdefs\n",
      " |    a tuple that specifies the default argument values\n",
      " |  closure\n",
      " |    a tuple that supplies the bindings for free variables\n",
      " |  \n",
      " |  Methods defined here:\n",
      " |  \n",
      " |  __call__(self, /, *args, **kwargs)\n",
      " |      Call self as a function.\n",
      " |  \n",
      " |  __get__(self, instance, owner, /)\n",
      " |      Return an attribute of instance, which is of type owner.\n",
      " |  \n",
      " |  __repr__(self, /)\n",
      " |      Return repr(self).\n",
      " |  \n",
      " |  ----------------------------------------------------------------------\n",
      " |  Static methods defined here:\n",
      " |  \n",
      " |  __new__(*args, **kwargs) from builtins.type\n",
      " |      Create and return a new object.  See help(type) for accurate signature.\n",
      " |  \n",
      " |  ----------------------------------------------------------------------\n",
      " |  Data descriptors defined here:\n",
      " |  \n",
      " |  __annotations__\n",
      " |  \n",
      " |  __closure__\n",
      " |  \n",
      " |  __code__\n",
      " |  \n",
      " |  __defaults__\n",
      " |  \n",
      " |  __dict__\n",
      " |  \n",
      " |  __globals__\n",
      " |  \n",
      " |  __kwdefaults__\n",
      "\n"
     ]
    }
   ],
   "source": [
    "help(type(MyClass.__init__))"
   ]
  },
  {
   "cell_type": "code",
   "execution_count": 8,
   "metadata": {
    "scrolled": true
   },
   "outputs": [
    {
     "data": {
      "text/plain": [
       "<attribute '__dict__' of 'MyClass' objects>"
      ]
     },
     "execution_count": 8,
     "metadata": {},
     "output_type": "execute_result"
    }
   ],
   "source": [
    "MyClass.__dict__['__dict__']"
   ]
  },
  {
   "cell_type": "code",
   "execution_count": 9,
   "metadata": {},
   "outputs": [
    {
     "data": {
      "text/plain": [
       "getset_descriptor"
      ]
     },
     "execution_count": 9,
     "metadata": {},
     "output_type": "execute_result"
    }
   ],
   "source": [
    "type(MyClass.__dict__['__dict__'])"
   ]
  },
  {
   "cell_type": "code",
   "execution_count": 14,
   "metadata": {},
   "outputs": [
    {
     "name": "stdout",
     "output_type": "stream",
     "text": [
      "Help on getset descriptor __main__.MyClass.__dict__:\n",
      "\n",
      "__dict__\n",
      "    dictionary for instance variables (if defined)\n",
      "\n"
     ]
    }
   ],
   "source": [
    "help(MyClass.__dict__['__dict__'])"
   ]
  },
  {
   "cell_type": "code",
   "execution_count": 15,
   "metadata": {},
   "outputs": [
    {
     "data": {
      "text/plain": [
       "{'inst_var': 4}"
      ]
     },
     "execution_count": 15,
     "metadata": {},
     "output_type": "execute_result"
    }
   ],
   "source": [
    "vars(obj)"
   ]
  },
  {
   "cell_type": "code",
   "execution_count": 16,
   "metadata": {},
   "outputs": [
    {
     "data": {
      "text/plain": [
       "['__class__',\n",
       " '__delattr__',\n",
       " '__dict__',\n",
       " '__dir__',\n",
       " '__doc__',\n",
       " '__eq__',\n",
       " '__format__',\n",
       " '__ge__',\n",
       " '__getattribute__',\n",
       " '__gt__',\n",
       " '__hash__',\n",
       " '__init__',\n",
       " '__init_subclass__',\n",
       " '__le__',\n",
       " '__lt__',\n",
       " '__module__',\n",
       " '__ne__',\n",
       " '__new__',\n",
       " '__reduce__',\n",
       " '__reduce_ex__',\n",
       " '__repr__',\n",
       " '__setattr__',\n",
       " '__sizeof__',\n",
       " '__str__',\n",
       " '__subclasshook__',\n",
       " '__weakref__',\n",
       " 'class_var',\n",
       " 'inst_var',\n",
       " 'spit_vars',\n",
       " 'var']"
      ]
     },
     "execution_count": 16,
     "metadata": {},
     "output_type": "execute_result"
    }
   ],
   "source": [
    "dir(obj)"
   ]
  },
  {
   "cell_type": "markdown",
   "metadata": {},
   "source": [
    "# A Class Decorator For Custimizing Descriptors\n",
    "* class decorator gets a class object and returns the same class or a modified one\n",
    "* class decorators came after function decorators\n",
    "* can use class decorator to set descriptor storage names to something reasonable. example code\n",
    "```\n",
    "def entity(cls):\n",
    "    for key, attr in cls.__dict__.items():\n",
    "        if isinstance(attr, Validated):\n",
    "            type_name = type(attr).__name__\n",
    "            attr.storage_name = '_{}#{}'.format(type_name, key)\n",
    "    return cls\n",
    "```\n",
    "* class decorators are a simpler way of doing things that previously required a metaclass: customizing a class the moment it's created.\n",
    "* drawback: they act only on the class where they are directly applied. This means subclasses of decorated class may or may not inherit the changes, depending on what these are."
   ]
  },
  {
   "cell_type": "markdown",
   "metadata": {},
   "source": [
    "# What happens when: import time versus runtime\n",
    "* At import time, the interpreter parses the source coude of a .py module in one pass from top to bottom, and generates bytecode to be executed.\n",
    "    - (from the internet) **bytecode** is computer object code that is processed by a program, usually referred to as a virtual machine, rather than by the real computer machine, the hardware processor.\n",
    "        - the python interpreter is an implementation of a virtual machine\n",
    "    - this is when syntax errors may occur\n",
    "    - if there is up to date .pyc file avaialble in local `__pycache__`, those steps are skipped bc bytecode is ready to run\n",
    "* Although compiling is definitely an import-time activity, other things may happend at that time\n",
    "* in particular, `import` statement runs all *top-level code* of the imported module when it is imported for the first time\n",
    "    - a def statement on the top level of a module causes interpreter to compile function body and bind it to its global name (but doesnt execute function)\n",
    "    - for classes it is different: intepreter executed the body of every class, even classes nested in other classes.\n",
    "        * this means attributes and methods of class are defined\n",
    "        * class object itself it suilt\n",
    "    - and it can do othet things that are more typical of 'runtime' like for example connect to a database (not a good idea)"
   ]
  },
  {
   "cell_type": "code",
   "execution_count": 32,
   "metadata": {},
   "outputs": [],
   "source": [
    "import dis\n",
    "\n",
    "def hello_world():\n",
    "    print('Hello World!')"
   ]
  },
  {
   "cell_type": "code",
   "execution_count": 33,
   "metadata": {},
   "outputs": [
    {
     "name": "stdout",
     "output_type": "stream",
     "text": [
      "  4           0 LOAD_GLOBAL              0 (print)\n",
      "              2 LOAD_CONST               1 ('Hello World!')\n",
      "              4 CALL_FUNCTION            1\n",
      "              6 POP_TOP\n",
      "              8 LOAD_CONST               0 (None)\n",
      "             10 RETURN_VALUE\n"
     ]
    }
   ],
   "source": [
    "dis.dis(hello_world)"
   ]
  },
  {
   "cell_type": "markdown",
   "metadata": {},
   "source": [
    "# Metaclasses 101"
   ]
  },
  {
   "cell_type": "markdown",
   "metadata": {},
   "source": [
    "* a metaclass is a class factory, except that instead of a function, a metaclass is written as a class\n",
    "    - in pyhton, classes are objects - so they must be instances of something. By default, they are instances of `type`\n",
    "    - to avoid infinite regress, type is itself an instance of type (wtf??)\n",
    "* Note that this is not saying the a class like `LinteItem` inherits from type - it is an instance of type. `LineItem` actually inherits from object.\n",
    "* the classes `object` and `type` have a unique relationship: \n",
    "    - object is an instance of type\n",
    "    - type is a subclass ob object\n",
    "    - this relationship is magic - it cannot be expressed in Python because either class would have to exist before the other could de defined.\n",
    "    * the fact the type is an instance of itself is also magic."
   ]
  },
  {
   "cell_type": "markdown",
   "metadata": {},
   "source": [
    "* other meta classes in the standard library: ABCMeta and Enum\n",
    "* Every class is of instance `type` either directly or indirectly, but only metaclasses are also subclasses of type.\n",
    "    - so metaclass inherits from type the power to construct classes"
   ]
  },
  {
   "cell_type": "markdown",
   "metadata": {},
   "source": [
    "* MAIN POINT: all classes are instances of `type`, but metaclasses are also subclasses of `type` - so they act as class factories."
   ]
  },
  {
   "cell_type": "code",
   "execution_count": null,
   "metadata": {},
   "outputs": [],
   "source": [
    "print('<[100]> evalsupport module start')\n",
    "\n",
    "def deco_alpha(cls):\n",
    " print('<[200]> deco_alpha')\n",
    " def inner_1(self):\n",
    " print('<[300]> deco_alpha:inner_1')\n",
    " cls.method_y = inner_1\n",
    " return cls\n",
    "\n",
    "\n",
    "# BEGIN META_ALEPH\n",
    "class MetaAleph(type):\n",
    " print('<[400]> MetaAleph body')\n",
    " def __init__(cls, name, bases, dic):\n",
    " print('<[500]> MetaAleph.__init__')\n",
    " def inner_2(self):\n",
    " print('<[600]> MetaAleph.__init__:inner_2')\n",
    " cls.method_z = inner_2\n",
    "# END META_ALEPH\n",
    "\n",
    "print('<[700]> evalsupport module end')"
   ]
  },
  {
   "cell_type": "markdown",
   "metadata": {},
   "source": [
    "* the metaclass' init method gets called when importing a class - this is how class (instance of meta) gets created.\n",
    "\n",
    "* metaclass init signature: `def __init__(self, name, base, dic):`\n",
    "\n",
    "* When coding a metaclass, it's conventional to replace `self` with `cls` in the init method. This makes it clear that the instance under construction is a class. (but it is still an isntance)\n",
    "\n",
    "* COMMENT: It appears that the meta class init overrides definitions in class that inherits from it. i.e if both write to the same attribute, metaclass wins. \n",
    "\n",
    "* can also modify metaclasses `__new__`, but that is almost never needed"
   ]
  },
  {
   "cell_type": "markdown",
   "metadata": {},
   "source": [
    "example metaclass:\n",
    "```\n",
    "class EntityMeta(type):\n",
    "    def __init__(cls, name, bases, attr_dict):\n",
    "       super().__init__(name, bases, attr_dict)\n",
    "       for key, attr in attr_dict.items():\n",
    "           if isinstrance(attr, Validate):\n",
    "               type_name = type(attr, Validated):\n",
    "                   type_name = type(attr).__name__\n",
    "                   attr.storage_name = '_{}#{}'.format(type_name, key)\n",
    "```"
   ]
  },
  {
   "cell_type": "markdown",
   "metadata": {},
   "source": [
    "* often, along with a metaclass, a convenience class whose metaclass is set to defined metaclass is provided. Now users can simply inherit from that.\n",
    "    - this new class is an instance of the meta - does not inherit from it"
   ]
  },
  {
   "cell_type": "markdown",
   "metadata": {},
   "source": [
    "# The Metaclass __prepare__ Special Method\n",
    "* since python 3\n",
    "* both the type constructor and the __new__ and __init__ methods of metaclasses receive the body of the class evaluated as a mpping of names to attributes\n",
    "    - by default, the mapping is a dict - so order is lost\n",
    "* `__prepare__` special method is relevant only in metaclasses, and it must be a class method.\n",
    "    - it is invoked by the interpreter before the `__new__` method in the metaclass\n",
    "    - it creates the mapping that will be filled with the attributes from the class body\n",
    "    - signature: `def __prepare__(cls, name, bases):`\n",
    "    - must return a mapping, which will be received as the last argument of the new and init when metaclass builds a new class.\n",
    "    - typically all people use it for is to `return collection.OrderedDict()`"
   ]
  },
  {
   "cell_type": "markdown",
   "metadata": {},
   "source": [
    "* Basically, the way I understand is that when creating a class:\n",
    "    - prepare is called first; you get an mapping instance\n",
    "    - read the class definition, and add attributes to map\n",
    "    - then call new/init and pass that filled out map to them"
   ]
  },
  {
   "cell_type": "markdown",
   "metadata": {},
   "source": [
    "In the real world, metaclasses are used in frameworks and libraries to perform:\n",
    "    - attribute validation\n",
    "    - applying decorators to many methods at once\n",
    "    - object serialization or data conversion\n",
    "    - object-relational mapping\n",
    "    - object-based persistency\n",
    "    - dynamic translation of class strcutures from other languages"
   ]
  },
  {
   "cell_type": "markdown",
   "metadata": {},
   "source": [
    "# Classes as objects\n",
    "* `__mro__` - method resolution order\n",
    "* `__class__`, and `__name__`\n",
    "* `cls.__bases__` - the tuple of bases\n",
    "* `cls.__qualname__` - new in py3.3 holding the qualified name - which is a doted path from global scop to the class definition\n",
    "* `cls.__subclasses__` - returns a list of immediate sublcasses\n",
    "    - implementation uses weak reference to avoid circular references (because bases contain strong references to sueprclasses)\n",
    "* `cls.mro()` - intepreter calls this when building a class to obtain tuple in `__mro__`.\n",
    "    - metaclass can overrid to customize mro at construction"
   ]
  },
  {
   "cell_type": "markdown",
   "metadata": {},
   "source": [
    "Same admonishon applies: \"don't define custom ABCs (or metaclasses) in production code... if you feel the urge to do, I'd bet it's likely to be a case of ''all problems look like a nail\" syndrom for somebody whi just got a shiny new hammer - you (and future maintainers of your code) will be much happier sticking with straightforward and simple code, eschewing such depths.\""
   ]
  },
  {
   "cell_type": "code",
   "execution_count": null,
   "metadata": {},
   "outputs": [],
   "source": []
  }
 ],
 "metadata": {
  "kernelspec": {
   "display_name": "Python 3",
   "language": "python",
   "name": "python3"
  },
  "language_info": {
   "codemirror_mode": {
    "name": "ipython",
    "version": 3
   },
   "file_extension": ".py",
   "mimetype": "text/x-python",
   "name": "python",
   "nbconvert_exporter": "python",
   "pygments_lexer": "ipython3",
   "version": "3.7.6"
  }
 },
 "nbformat": 4,
 "nbformat_minor": 4
}
