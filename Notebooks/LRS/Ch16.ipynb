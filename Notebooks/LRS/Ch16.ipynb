{
 "cells": [
  {
   "cell_type": "markdown",
   "metadata": {},
   "source": [
    "# CH 16 - Coroutines"
   ]
  },
  {
   "cell_type": "markdown",
   "metadata": {},
   "source": [
    "## TOC<a id='toc'></a>\n",
    "* [Ch16 Notes](#ch16_notes)"
   ]
  },
  {
   "cell_type": "markdown",
   "metadata": {},
   "source": [
    "### CH16 Notes <a id='ch16_notes'></a>\n",
    "[toc](#toc)\n",
    "### Coroutines"
   ]
  },
  {
   "cell_type": "markdown",
   "metadata": {},
   "source": [
    "* coroutines are meant to implement *cooperatove multitasking*\n",
    "    - each coroutin yields control to a central scheduler so that other coroutines can be activated\n",
    "* Coroutines is syntatically like a generator (function): just a function with a `yield` keyword in the body. \n",
    "* However in a coroutine, the yield usually appears on the right hand side of an expression and it may or may not produce a value (ie have a value after the yield)\n",
    "* the coroutine may receive data from the caller via `.send()` (also available are `.throw()` and `.close()`)"
   ]
  },
  {
   "cell_type": "markdown",
   "metadata": {},
   "source": [
    "* simple example:"
   ]
  },
  {
   "cell_type": "code",
   "execution_count": 1,
   "metadata": {},
   "outputs": [],
   "source": [
    "def simple_coro(a):\n",
    "    print('-> Started: a = ', a)\n",
    "    b = yield a\n",
    "    print('-> Received: b = ', b)\n",
    "    c = yield a + b\n",
    "    print('-> Received: c = ', c)"
   ]
  },
  {
   "cell_type": "code",
   "execution_count": 2,
   "metadata": {},
   "outputs": [],
   "source": [
    "my_coro = simple_coro(14)"
   ]
  },
  {
   "cell_type": "code",
   "execution_count": 3,
   "metadata": {},
   "outputs": [],
   "source": [
    "import inspect"
   ]
  },
  {
   "cell_type": "code",
   "execution_count": 4,
   "metadata": {},
   "outputs": [
    {
     "data": {
      "text/plain": [
       "'GEN_CREATED'"
      ]
     },
     "execution_count": 4,
     "metadata": {},
     "output_type": "execute_result"
    }
   ],
   "source": [
    "inspect.getgeneratorstate(my_coro)"
   ]
  },
  {
   "cell_type": "code",
   "execution_count": 6,
   "metadata": {},
   "outputs": [
    {
     "name": "stdout",
     "output_type": "stream",
     "text": [
      "-> Started: a =  14\n"
     ]
    },
    {
     "data": {
      "text/plain": [
       "14"
      ]
     },
     "execution_count": 6,
     "metadata": {},
     "output_type": "execute_result"
    }
   ],
   "source": [
    "next(my_coro)"
   ]
  },
  {
   "cell_type": "code",
   "execution_count": 7,
   "metadata": {},
   "outputs": [
    {
     "name": "stdout",
     "output_type": "stream",
     "text": [
      "-> Received: b =  28\n"
     ]
    },
    {
     "data": {
      "text/plain": [
       "42"
      ]
     },
     "execution_count": 7,
     "metadata": {},
     "output_type": "execute_result"
    }
   ],
   "source": [
    "my_coro.send(28)"
   ]
  },
  {
   "cell_type": "code",
   "execution_count": 8,
   "metadata": {},
   "outputs": [
    {
     "name": "stdout",
     "output_type": "stream",
     "text": [
      "-> Received: c =  None\n"
     ]
    },
    {
     "ename": "StopIteration",
     "evalue": "",
     "output_type": "error",
     "traceback": [
      "\u001b[1;31m---------------------------------------------------------------------------\u001b[0m",
      "\u001b[1;31mStopIteration\u001b[0m                             Traceback (most recent call last)",
      "\u001b[1;32m<ipython-input-8-e5596e310033>\u001b[0m in \u001b[0;36m<module>\u001b[1;34m\u001b[0m\n\u001b[1;32m----> 1\u001b[1;33m \u001b[0mnext\u001b[0m\u001b[1;33m(\u001b[0m\u001b[0mmy_coro\u001b[0m\u001b[1;33m)\u001b[0m\u001b[1;33m\u001b[0m\u001b[1;33m\u001b[0m\u001b[0m\n\u001b[0m",
      "\u001b[1;31mStopIteration\u001b[0m: "
     ]
    }
   ],
   "source": [
    "next(my_coro)"
   ]
  },
  {
   "cell_type": "markdown",
   "metadata": {},
   "source": [
    "* VIP: execution of corouting is suspended exactly at yield - so assignment doesn't happen till after it resume execution.\n",
    "    - and the assigned value is NOT rhs of line, but rather what gets sent via .send()\n",
    "    - this is extremely weird looking at first"
   ]
  },
  {
   "cell_type": "markdown",
   "metadata": {},
   "source": [
    "* a coroutine can be in one of 4 states:\n",
    "    - GEN_CREATED: waiting to start execution; can't receive values via send\n",
    "        - so after creation, must use next(my_gen) to **prime** it\n",
    "        - can create a decorator to take care of this.\n",
    "    - GEN_RUNNING: currenlty being executed by interpreter (will only see this in multithreaded applications)\n",
    "    - GEN_SUSPENDED: Currently suspended at a yield expression; can receive values\n",
    "    - GEN_CLOSED: execution has completed"
   ]
  },
  {
   "cell_type": "markdown",
   "metadata": {},
   "source": [
    "### Coroutine termination and exception Handling\n",
    "* Unhandle exception inside corouting terminates its execution, and the exception propagates to caller\n",
    "    - this used to be taken advantage off to terminate execution of coroutine\n",
    "    - people used to pass singletons like `Ellipsis`, which almost never occurs in data streams, so typically not handled by code.\n",
    "* since python 2.5, now have `.throw()` and `.close()`\n",
    "    - `generator.throw(exc_type[, exc_value[, traceback]])` - causes yield expression where gen was paused to raise exception\n",
    "        - if handled by gen, flow advances to next yield, and value yielded becomes result of throw() call\n",
    "        - if not handled, exception propagates to context of caller\n",
    "    - `generator.close()` - causes yield expression to raise a `GeneratorExit` exception\n",
    "        - No error reported to caller if exeption not handled by gen, or if gen raises StopIteration (usually by running to completion)\n",
    "        - if value is yielded after this, RuntimeError is raised which propagates to caller\n",
    "* If it is necesarry to do some cleanup no matter how coroutine ends, you need to wrap it in a try/finally block\n",
    "* can return values at end of coroutine\n",
    "    - the value attribute of the StopIteration exception contains the returned data\n",
    "    - syntax error before python 3.3\n",
    "    - `yield from` catches StopIteratrion internally, and is transparent to user (like for loop)"
   ]
  },
  {
   "cell_type": "markdown",
   "metadata": {},
   "source": [
    "### Using Yield From"
   ]
  },
  {
   "cell_type": "markdown",
   "metadata": {},
   "source": [
    "* `yield from` is a new language construct\n",
    "    - similar constructs in other languages are called `await`, and that would be a much better name.\n",
    "* when a gen calls yield from subgen(), the subgen() takes over and will yield values *to the caller* fo the gen; meanwhile the gen will be blocked, waiting until subgen terminates.\n",
    "* first thing yield from x does is call iter(x), so it can be called on any iterable - but it really shines when x is generator.\n",
    "* The main feature of yield from is that it opens a bidirectional channel from the outermost caller, to the innermost subgenerator so that values can be sent and yielded back and forth directly from them, and exceptions can be thrown all the way in without adding a lot of boiler plate in intermediate coroutines.\n",
    "* THE MAIN POINT: values yielded from subgenerator, are not yielded via delegating generator, and therefore delegating generator code doesn't continue to run - until subgenerator is done; then return value actually goes back to delegating generator."
   ]
  },
  {
   "cell_type": "code",
   "execution_count": 13,
   "metadata": {},
   "outputs": [],
   "source": [
    "def subg(x):\n",
    "    count = 0\n",
    "    while count < x:\n",
    "        yield count\n",
    "        count +=1\n",
    "    return count\n",
    "\n",
    "def delg(y):\n",
    "    count = 0\n",
    "    while count < y:\n",
    "        a = yield from subg(y-count)\n",
    "        count+=1\n",
    "        print('del gen loop. a: ', a)"
   ]
  },
  {
   "cell_type": "code",
   "execution_count": 14,
   "metadata": {},
   "outputs": [],
   "source": [
    "gen1 = subg(10)"
   ]
  },
  {
   "cell_type": "code",
   "execution_count": 15,
   "metadata": {},
   "outputs": [
    {
     "data": {
      "text/plain": [
       "[0, 1, 2, 3, 4, 5, 6, 7, 8, 9]"
      ]
     },
     "execution_count": 15,
     "metadata": {},
     "output_type": "execute_result"
    }
   ],
   "source": [
    "list(gen1)"
   ]
  },
  {
   "cell_type": "code",
   "execution_count": 16,
   "metadata": {},
   "outputs": [],
   "source": [
    "gen2 = delg(5)"
   ]
  },
  {
   "cell_type": "code",
   "execution_count": 17,
   "metadata": {},
   "outputs": [
    {
     "name": "stdout",
     "output_type": "stream",
     "text": [
      "del gen loop. a:  5\n",
      "del gen loop. a:  4\n",
      "del gen loop. a:  3\n",
      "del gen loop. a:  2\n",
      "del gen loop. a:  1\n"
     ]
    },
    {
     "data": {
      "text/plain": [
       "[0, 1, 2, 3, 4, 0, 1, 2, 3, 0, 1, 2, 0, 1, 0]"
      ]
     },
     "execution_count": 17,
     "metadata": {},
     "output_type": "execute_result"
    }
   ],
   "source": [
    "list(gen2)"
   ]
  },
  {
   "cell_type": "markdown",
   "metadata": {},
   "source": []
  },
  {
   "cell_type": "markdown",
   "metadata": {},
   "source": []
  },
  {
   "cell_type": "code",
   "execution_count": null,
   "metadata": {},
   "outputs": [],
   "source": []
  }
 ],
 "metadata": {
  "kernelspec": {
   "display_name": "Python 3",
   "language": "python",
   "name": "python3"
  },
  "language_info": {
   "codemirror_mode": {
    "name": "ipython",
    "version": 3
   },
   "file_extension": ".py",
   "mimetype": "text/x-python",
   "name": "python",
   "nbconvert_exporter": "python",
   "pygments_lexer": "ipython3",
   "version": "3.7.6"
  }
 },
 "nbformat": 4,
 "nbformat_minor": 2
}
