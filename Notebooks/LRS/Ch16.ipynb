{
 "cells": [
  {
   "cell_type": "markdown",
   "metadata": {},
   "source": [
    "# CH 16 - Coroutines"
   ]
  },
  {
   "cell_type": "markdown",
   "metadata": {},
   "source": [
    "## TOC<a id='toc'></a>\n",
    "* [Ch16 Notes](#ch16_notes)"
   ]
  },
  {
   "cell_type": "markdown",
   "metadata": {},
   "source": [
    "### CH16 Notes <a id='ch16_notes'></a>\n",
    "[toc](#toc)\n",
    "### Coroutines"
   ]
  },
  {
   "cell_type": "markdown",
   "metadata": {},
   "source": [
    "* coroutines are meant to implement *cooperatove multitasking*\n",
    "    - each coroutin yields control to a central scheduler so that other coroutines can be activated\n",
    "* Coroutines is syntatically like a generator (function): just a function with a `yield` keyword in the body. \n",
    "* However in a coroutine, the yield usually appears on the right hand side of an expression and it may or may not produce a value (ie have a value after the yield)\n",
    "* the coroutine may receive data from the caller via `.send()` (also available are `.throw()` and `.close()`)"
   ]
  },
  {
   "cell_type": "markdown",
   "metadata": {},
   "source": [
    "* simple example:"
   ]
  },
  {
   "cell_type": "code",
   "execution_count": 1,
   "metadata": {},
   "outputs": [],
   "source": [
    "def simple_coro(a):\n",
    "    print('-> Started: a = ', a)\n",
    "    b = yield a\n",
    "    print('-> Received: b = ', b)\n",
    "    c = yield a + b\n",
    "    print('-> Received: c = ', c)"
   ]
  },
  {
   "cell_type": "code",
   "execution_count": 2,
   "metadata": {},
   "outputs": [],
   "source": [
    "my_coro = simple_coro(14)"
   ]
  },
  {
   "cell_type": "code",
   "execution_count": 3,
   "metadata": {},
   "outputs": [],
   "source": [
    "import inspect"
   ]
  },
  {
   "cell_type": "code",
   "execution_count": 4,
   "metadata": {},
   "outputs": [
    {
     "data": {
      "text/plain": [
       "'GEN_CREATED'"
      ]
     },
     "execution_count": 4,
     "metadata": {},
     "output_type": "execute_result"
    }
   ],
   "source": [
    "inspect.getgeneratorstate(my_coro)"
   ]
  },
  {
   "cell_type": "code",
   "execution_count": 6,
   "metadata": {},
   "outputs": [
    {
     "name": "stdout",
     "output_type": "stream",
     "text": [
      "-> Started: a =  14\n"
     ]
    },
    {
     "data": {
      "text/plain": [
       "14"
      ]
     },
     "execution_count": 6,
     "metadata": {},
     "output_type": "execute_result"
    }
   ],
   "source": [
    "next(my_coro)"
   ]
  },
  {
   "cell_type": "code",
   "execution_count": 7,
   "metadata": {},
   "outputs": [
    {
     "name": "stdout",
     "output_type": "stream",
     "text": [
      "-> Received: b =  28\n"
     ]
    },
    {
     "data": {
      "text/plain": [
       "42"
      ]
     },
     "execution_count": 7,
     "metadata": {},
     "output_type": "execute_result"
    }
   ],
   "source": [
    "my_coro.send(28)"
   ]
  },
  {
   "cell_type": "code",
   "execution_count": 8,
   "metadata": {},
   "outputs": [
    {
     "name": "stdout",
     "output_type": "stream",
     "text": [
      "-> Received: c =  None\n"
     ]
    },
    {
     "ename": "StopIteration",
     "evalue": "",
     "output_type": "error",
     "traceback": [
      "\u001b[1;31m---------------------------------------------------------------------------\u001b[0m",
      "\u001b[1;31mStopIteration\u001b[0m                             Traceback (most recent call last)",
      "\u001b[1;32m<ipython-input-8-e5596e310033>\u001b[0m in \u001b[0;36m<module>\u001b[1;34m\u001b[0m\n\u001b[1;32m----> 1\u001b[1;33m \u001b[0mnext\u001b[0m\u001b[1;33m(\u001b[0m\u001b[0mmy_coro\u001b[0m\u001b[1;33m)\u001b[0m\u001b[1;33m\u001b[0m\u001b[1;33m\u001b[0m\u001b[0m\n\u001b[0m",
      "\u001b[1;31mStopIteration\u001b[0m: "
     ]
    }
   ],
   "source": [
    "next(my_coro)"
   ]
  },
  {
   "cell_type": "markdown",
   "metadata": {},
   "source": [
    "* VIP: execution of corouting is suspended exactly at yield - so assignment doesn't happen till after it resume execution.\n",
    "    - and the assigned value is NOT rhs of line, but rather what gets sent via .send()\n",
    "    - this is extremely weird looking at first"
   ]
  },
  {
   "cell_type": "markdown",
   "metadata": {},
   "source": [
    "* a coroutine can be in one of 4 states:\n",
    "    - GEN_CREATED: waiting to start execution; can't receive values via send\n",
    "        - so after creation, must use next(my_gen) to **prime** it\n",
    "        - can create a decorator to take care of this.\n",
    "    - GEN_RUNNING: currenlty being executed by interpreter (will only see this in multithreaded applications)\n",
    "    - GEN_SUSPENDED: Currently suspended at a yield expression; can receive values\n",
    "    - GEN_CLOSED: execution has completed"
   ]
  },
  {
   "cell_type": "markdown",
   "metadata": {},
   "source": [
    "### Coroutine termination and exception Handling\n",
    "* Unhandle exception inside corouting terminates its execution, and the exception propagates to caller\n",
    "    - this used to be taken advantage off to terminate execution of coroutine\n",
    "    - people used to pass singletons like `Ellipsis`, which almost never occurs in data streams, so typically not handled by code.\n",
    "* since python 2.5, now have `.throw()` and `.close()`\n",
    "    - `generator.throw(exc_type[, exc_value[, traceback]])` - causes yield expression where gen was paused to raise exception\n",
    "        - if handled by gen, flow advances to next yield, and value yielded becomes result of throw() call\n",
    "        - if not handled, exception propagates to context of caller\n",
    "    - `generator.close()` - causes yield expression to raise a `GeneratorExit` exception\n",
    "        - No error reported to caller if exeption not handled by gen, or if gen raises StopIteration (usually by running to completion)\n",
    "        - if value is yielded after this, RuntimeError is raised which propagates to caller\n",
    "* If it is necesarry to do some cleanup no matter how coroutine ends, you need to wrap it in a try/finally block\n",
    "* can return values at end of coroutine\n",
    "    - the value attribute of the StopIteration exception contains the returned data\n",
    "    - syntax error before python 3.3\n",
    "    - `yield from` catches StopIteratrion internally, and is transparent to user (like for loop)"
   ]
  },
  {
   "cell_type": "markdown",
   "metadata": {},
   "source": [
    "### Using Yield From"
   ]
  },
  {
   "cell_type": "markdown",
   "metadata": {},
   "source": [
    "* `yield from` is a new language construct\n",
    "    - similar constructs in other languages are called `await`, and that would be a much better name.\n",
    "* when a gen calls yield from subgen(), the subgen() takes over and will yield values *to the caller* fo the gen; meanwhile the gen will be blocked, waiting until subgen terminates.\n",
    "* first thing yield from x does is call iter(x), so it can be called on any iterable - but it really shines when x is generator.\n",
    "* The main feature of yield from is that it opens a bidirectional channel from the outermost caller, to the innermost subgenerator so that values can be sent and yielded back and forth directly from them, and exceptions can be thrown all the way in without adding a lot of boiler plate in intermediate coroutines.\n",
    "* THE MAIN POINT: values yielded from subgenerator, are not yielded via delegating generator, and therefore delegating generator code doesn't continue to run - until subgenerator is done; then return value actually goes back to delegating generator."
   ]
  },
  {
   "cell_type": "code",
   "execution_count": 13,
   "metadata": {},
   "outputs": [],
   "source": [
    "def subg(x):\n",
    "    count = 0\n",
    "    while count < x:\n",
    "        yield count\n",
    "        count +=1\n",
    "    return count\n",
    "\n",
    "def delg(y):\n",
    "    count = 0\n",
    "    while count < y:\n",
    "        a = yield from subg(y-count)\n",
    "        count+=1\n",
    "        print('del gen loop. a: ', a)"
   ]
  },
  {
   "cell_type": "code",
   "execution_count": 14,
   "metadata": {},
   "outputs": [],
   "source": [
    "gen1 = subg(10)"
   ]
  },
  {
   "cell_type": "code",
   "execution_count": 15,
   "metadata": {},
   "outputs": [
    {
     "data": {
      "text/plain": [
       "[0, 1, 2, 3, 4, 5, 6, 7, 8, 9]"
      ]
     },
     "execution_count": 15,
     "metadata": {},
     "output_type": "execute_result"
    }
   ],
   "source": [
    "list(gen1)"
   ]
  },
  {
   "cell_type": "code",
   "execution_count": 16,
   "metadata": {},
   "outputs": [],
   "source": [
    "gen2 = delg(5)"
   ]
  },
  {
   "cell_type": "code",
   "execution_count": 17,
   "metadata": {},
   "outputs": [
    {
     "name": "stdout",
     "output_type": "stream",
     "text": [
      "del gen loop. a:  5\n",
      "del gen loop. a:  4\n",
      "del gen loop. a:  3\n",
      "del gen loop. a:  2\n",
      "del gen loop. a:  1\n"
     ]
    },
    {
     "data": {
      "text/plain": [
       "[0, 1, 2, 3, 4, 0, 1, 2, 3, 0, 1, 2, 0, 1, 0]"
      ]
     },
     "execution_count": 17,
     "metadata": {},
     "output_type": "execute_result"
    }
   ],
   "source": [
    "list(gen2)"
   ]
  },
  {
   "cell_type": "markdown",
   "metadata": {},
   "source": []
  },
  {
   "cell_type": "markdown",
   "metadata": {},
   "source": []
  },
  {
   "cell_type": "code",
   "execution_count": 33,
   "metadata": {},
   "outputs": [],
   "source": [
    "def averager():\n",
    "    total, count, average = 0.0,0, None\n",
    "    while True:\n",
    "        term = yield\n",
    "        if term is None:\n",
    "            break\n",
    "        total += term\n",
    "        count +=1\n",
    "    return (count, total/count)"
   ]
  },
  {
   "cell_type": "code",
   "execution_count": 34,
   "metadata": {},
   "outputs": [],
   "source": [
    "avg = averager()"
   ]
  },
  {
   "cell_type": "code",
   "execution_count": 35,
   "metadata": {},
   "outputs": [],
   "source": [
    "next(avg)"
   ]
  },
  {
   "cell_type": "code",
   "execution_count": 36,
   "metadata": {},
   "outputs": [],
   "source": [
    "avg.send(1)"
   ]
  },
  {
   "cell_type": "code",
   "execution_count": 37,
   "metadata": {},
   "outputs": [],
   "source": [
    "avg.send(2)"
   ]
  },
  {
   "cell_type": "code",
   "execution_count": 38,
   "metadata": {},
   "outputs": [
    {
     "ename": "StopIteration",
     "evalue": "(2, 1.5)",
     "output_type": "error",
     "traceback": [
      "\u001b[1;31m---------------------------------------------------------------------------\u001b[0m",
      "\u001b[1;31mStopIteration\u001b[0m                             Traceback (most recent call last)",
      "\u001b[1;32m<ipython-input-38-1a289c3ef562>\u001b[0m in \u001b[0;36m<module>\u001b[1;34m\u001b[0m\n\u001b[1;32m----> 1\u001b[1;33m \u001b[0mavg\u001b[0m\u001b[1;33m.\u001b[0m\u001b[0msend\u001b[0m\u001b[1;33m(\u001b[0m\u001b[1;32mNone\u001b[0m\u001b[1;33m)\u001b[0m\u001b[1;33m\u001b[0m\u001b[1;33m\u001b[0m\u001b[0m\n\u001b[0m",
      "\u001b[1;31mStopIteration\u001b[0m: (2, 1.5)"
     ]
    }
   ],
   "source": [
    "avg.send(None)"
   ]
  },
  {
   "cell_type": "markdown",
   "metadata": {},
   "source": [
    "I DONT UNDERSTAND THE NEED FOR THE WHILE LOOP IN THE FOLLOWING CODE"
   ]
  },
  {
   "cell_type": "code",
   "execution_count": 39,
   "metadata": {},
   "outputs": [],
   "source": [
    "def grouper(result, key):\n",
    "    while True:\n",
    "        result[key] = yield from averager()\n",
    "        \n",
    "# This does not work.\n",
    "# def grouper(result, key):\n",
    "#     try:\n",
    "#         result[key] = yield from averager()\n",
    "#     except StopIteration:\n",
    "#         return 3"
   ]
  },
  {
   "cell_type": "markdown",
   "metadata": {},
   "source": [
    "I thin the answer is that the subgen StopIteration is not propagated up. So it doesn't raise, it just returns. But If we allow delegating to finish, it will raise StopIteration, and we have to catch that in the caller."
   ]
  },
  {
   "cell_type": "code",
   "execution_count": 44,
   "metadata": {},
   "outputs": [],
   "source": [
    "def main(data):\n",
    "    results = {}\n",
    "    for key, values in data.items():\n",
    "        group = grouper(results, key)\n",
    "        next(group)\n",
    "        for value in values:\n",
    "            group.send(value)\n",
    "        group.send(None)\n",
    "    print(results)"
   ]
  },
  {
   "cell_type": "code",
   "execution_count": 45,
   "metadata": {},
   "outputs": [],
   "source": [
    "data = {'a':[1,2,3], 'b':[4,5,6]}"
   ]
  },
  {
   "cell_type": "code",
   "execution_count": 46,
   "metadata": {},
   "outputs": [
    {
     "name": "stdout",
     "output_type": "stream",
     "text": [
      "{'a': (3, 2.0), 'b': (3, 5.0)}\n"
     ]
    }
   ],
   "source": [
    "main(data)"
   ]
  },
  {
   "cell_type": "markdown",
   "metadata": {},
   "source": [
    "VIP: if a subgenerator never terminates, the delegating generator will be suspended forever at the yield from. This will not prevent your program from making progress, because yield from transfers control to client, but it does mean some tasks will remain unfinished.\n",
    "    - in the case above, without send None, previous group would be garbage collected when new one created."
   ]
  },
  {
   "cell_type": "markdown",
   "metadata": {},
   "source": [
    "* Yield from allows you to 'pipe' different coroutines together\n",
    "* can pipe more than two\n",
    "* eventually must terminate in a yield, or any iterable object\n",
    "* (asside: sending a value also triggers a next - so it yield something if there is somethign to yield)"
   ]
  },
  {
   "cell_type": "markdown",
   "metadata": {},
   "source": [
    "### rules:\n",
    "* any value subgenerator yields passed directly to caller of delegating gen\n",
    "* values sent to delegating gen using send() are passed directly to subgen. If call raises StopIteration, then the delgating generator is resumed. Any other exception is propagated to the delegating generator.\n",
    "* return expr in a gen or subgen causes StopIteration(expr) to be raised upon exit from gen.\n",
    "* the value of the yield from expression is the first argument to the stop iteration exception raised by the subgenerator when it terminates\n",
    "* exceptions other that GeneratorExit thrown into the delegating generator are passed to throw() of the subgenerator. If sub raises StopIteration, delegating resumes. Anything else propagated to delegating.\n",
    "* If GeneratorExit is throw into delegating, or close() of delegating called, then close() of sub called, it if has one. If this results in eception, it is propagated into delegating. Othewise GeneratorExit raised in delegating."
   ]
  },
  {
   "cell_type": "code",
   "execution_count": 53,
   "metadata": {},
   "outputs": [],
   "source": [
    "def averager():\n",
    "    total, count, average = 0.0,0, None\n",
    "    while True:\n",
    "        term = yield count\n",
    "        if term is None:\n",
    "            break\n",
    "        total += term\n",
    "        count +=1\n",
    "    return (count, total/count)"
   ]
  },
  {
   "cell_type": "code",
   "execution_count": 54,
   "metadata": {},
   "outputs": [],
   "source": [
    "def grouper(result, key):\n",
    "    while True:\n",
    "        result[key] = yield from averager()"
   ]
  },
  {
   "cell_type": "code",
   "execution_count": 55,
   "metadata": {},
   "outputs": [],
   "source": [
    "def main(data):\n",
    "    results = {}\n",
    "    for key, values in data.items():\n",
    "        group = grouper(results, key)\n",
    "        next(group)\n",
    "        for value in values:\n",
    "            res = group.send(value)\n",
    "            print(res)\n",
    "        group.send(None)\n",
    "    print(results)"
   ]
  },
  {
   "cell_type": "code",
   "execution_count": 56,
   "metadata": {},
   "outputs": [],
   "source": [
    "data = {'a':[1,2,3], 'b':[4,5,6]}"
   ]
  },
  {
   "cell_type": "code",
   "execution_count": 57,
   "metadata": {},
   "outputs": [
    {
     "name": "stdout",
     "output_type": "stream",
     "text": [
      "1\n",
      "2\n",
      "3\n",
      "1\n",
      "2\n",
      "3\n",
      "{'a': (3, 2.0), 'b': (3, 5.0)}\n"
     ]
    }
   ],
   "source": [
    "main(data)"
   ]
  },
  {
   "cell_type": "markdown",
   "metadata": {},
   "source": [
    "## Use case: Coroutines for Discrete Event Simulation (DES)\n",
    "* *DES* time doesn't advance at constat rate - it advance till time of next discrete event. [in contrast to a continuous simulation]\n",
    "    - turn based games are exmaples of a DES\n",
    "* corroutines offer precisely the right abstraction for writing a DES\n",
    "* He creates a taxi pickup/dropoff simulation using a dictionary of taxi generators, and a priority queue\n",
    "    * priority queues are a fundamental building blocl of discrete event simulators: events are created in any order, place in the queue, and later retrievec in order  according to the schedule time of each one.\n",
    "    * `queue.PriorityQueue()`"
   ]
  },
  {
   "cell_type": "markdown",
   "metadata": {},
   "source": [
    "### Hot off the press"
   ]
  },
  {
   "cell_type": "markdown",
   "metadata": {},
   "source": [
    "* **async** and **await** keywords have been added to python to better distinguish coroutines and generators"
   ]
  }
 ],
 "metadata": {
  "kernelspec": {
   "display_name": "Python 3",
   "language": "python",
   "name": "python3"
  },
  "language_info": {
   "codemirror_mode": {
    "name": "ipython",
    "version": 3
   },
   "file_extension": ".py",
   "mimetype": "text/x-python",
   "name": "python",
   "nbconvert_exporter": "python",
   "pygments_lexer": "ipython3",
   "version": "3.7.6"
  }
 },
 "nbformat": 4,
 "nbformat_minor": 2
}
