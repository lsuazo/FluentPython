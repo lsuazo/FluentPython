{
 "cells": [
  {
   "cell_type": "markdown",
   "metadata": {},
   "source": [
    "# CH 16 - Coroutines"
   ]
  },
  {
   "cell_type": "markdown",
   "metadata": {},
   "source": [
    "## TOC<a id='toc'></a>\n",
    "* [Ch16 Notes](#ch16_notes)"
   ]
  },
  {
   "cell_type": "markdown",
   "metadata": {},
   "source": [
    "### CH16 Notes <a id='ch16_notes'></a>\n",
    "[toc](#toc)\n",
    "### Coroutines"
   ]
  },
  {
   "cell_type": "markdown",
   "metadata": {},
   "source": [
    "* coroutines are meant to implement *cooperatove multitasking*\n",
    "    - each coroutin yields control to a central scheduler so that other coroutines can be activated\n",
    "* Coroutines is syntatically like a generator (function): just a function with a `yield` keyword in the body. \n",
    "* However in a coroutine, the yield usually appears on the right hand side of an expression and it may or may not produce a value (ie have a value after the yield)\n",
    "* the coroutine may receive data from the caller via `.send()` (also available are `.throw()` and `.close()`)"
   ]
  },
  {
   "cell_type": "markdown",
   "metadata": {},
   "source": [
    "* simple example:"
   ]
  },
  {
   "cell_type": "code",
   "execution_count": 1,
   "metadata": {},
   "outputs": [],
   "source": [
    "def simple_coro(a):\n",
    "    print('-> Started: a = ', a)\n",
    "    b = yield a\n",
    "    print('-> Received: b = ', b)\n",
    "    c = yield a + b\n",
    "    print('-> Received: c = ', c)"
   ]
  },
  {
   "cell_type": "code",
   "execution_count": 2,
   "metadata": {},
   "outputs": [],
   "source": [
    "my_coro = simple_coro(14)"
   ]
  },
  {
   "cell_type": "code",
   "execution_count": 3,
   "metadata": {},
   "outputs": [],
   "source": [
    "import inspect"
   ]
  },
  {
   "cell_type": "code",
   "execution_count": 4,
   "metadata": {},
   "outputs": [
    {
     "data": {
      "text/plain": [
       "'GEN_CREATED'"
      ]
     },
     "execution_count": 4,
     "metadata": {},
     "output_type": "execute_result"
    }
   ],
   "source": [
    "inspect.getgeneratorstate(my_coro)"
   ]
  },
  {
   "cell_type": "code",
   "execution_count": 6,
   "metadata": {},
   "outputs": [
    {
     "name": "stdout",
     "output_type": "stream",
     "text": [
      "-> Started: a =  14\n"
     ]
    },
    {
     "data": {
      "text/plain": [
       "14"
      ]
     },
     "execution_count": 6,
     "metadata": {},
     "output_type": "execute_result"
    }
   ],
   "source": [
    "next(my_coro)"
   ]
  },
  {
   "cell_type": "code",
   "execution_count": 7,
   "metadata": {},
   "outputs": [
    {
     "name": "stdout",
     "output_type": "stream",
     "text": [
      "-> Received: b =  28\n"
     ]
    },
    {
     "data": {
      "text/plain": [
       "42"
      ]
     },
     "execution_count": 7,
     "metadata": {},
     "output_type": "execute_result"
    }
   ],
   "source": [
    "my_coro.send(28)"
   ]
  },
  {
   "cell_type": "code",
   "execution_count": 8,
   "metadata": {},
   "outputs": [
    {
     "name": "stdout",
     "output_type": "stream",
     "text": [
      "-> Received: c =  None\n"
     ]
    },
    {
     "ename": "StopIteration",
     "evalue": "",
     "output_type": "error",
     "traceback": [
      "\u001b[1;31m---------------------------------------------------------------------------\u001b[0m",
      "\u001b[1;31mStopIteration\u001b[0m                             Traceback (most recent call last)",
      "\u001b[1;32m<ipython-input-8-e5596e310033>\u001b[0m in \u001b[0;36m<module>\u001b[1;34m\u001b[0m\n\u001b[1;32m----> 1\u001b[1;33m \u001b[0mnext\u001b[0m\u001b[1;33m(\u001b[0m\u001b[0mmy_coro\u001b[0m\u001b[1;33m)\u001b[0m\u001b[1;33m\u001b[0m\u001b[1;33m\u001b[0m\u001b[0m\n\u001b[0m",
      "\u001b[1;31mStopIteration\u001b[0m: "
     ]
    }
   ],
   "source": [
    "next(my_coro)"
   ]
  },
  {
   "cell_type": "markdown",
   "metadata": {},
   "source": [
    "* VIP: execution of corouting is suspended exactly at yield - so assignment doesn't happen till after it resume execution.\n",
    "    - and the assigned value is NOT rhs of line, but rather what gets sent via .send()\n",
    "    - this is extremely weird looking at first"
   ]
  },
  {
   "cell_type": "markdown",
   "metadata": {},
   "source": [
    "* a coroutine can be in one of 4 states:\n",
    "    - GEN_CREATED: waiting to start execution; can't receive values via send\n",
    "        - so after creation, must use next(my_gen) to **prime** it\n",
    "        - can create a decorator to take care of this.\n",
    "    - GEN_RUNNING: currenlty being executed by interpreter (will only see this in multithreaded applications)\n",
    "    - GEN_SUSPENDED: Currently suspended at a yield expression; can receive values\n",
    "    - GEN_CLOSED: execution has completed"
   ]
  },
  {
   "cell_type": "markdown",
   "metadata": {},
   "source": [
    "### Coroutine termination and exception Handling\n",
    "* Unhandle exception inside corouting terminates its execution, and the exception propagates to caller\n",
    "    - this used to be taken advantage off to terminate execution of coroutine\n",
    "    - people used to pass singletons like `Ellipsis`, which almost never occurs in data streams, so typically not handled by code.\n",
    "* since python 2.5, now have `.throw()` and `.close()`\n",
    "    - `generator.throw(exc_type[, exc_value[, traceback]])` - causes yield expression where gen was paused to raise exception\n",
    "        - if handled by gen, flow advances to next yield, and value yielded becomes result of throw() call\n",
    "        - if not handled, exception propagates to context of caller\n",
    "    - `generator.close()` - causes yield expression to raise a `GeneratorExit` exception\n",
    "        - No error reported to caller if exeption not handled by gen, or if gen raises StopIteration (usually by running to completion)\n",
    "        - if value is yielded after this, RuntimeError is raised which propagates to caller\n",
    "* If it is necesarry to do some cleanup no matter how coroutine ends, you need to wrap it in a try/finally block"
   ]
  },
  {
   "cell_type": "markdown",
   "metadata": {},
   "source": []
  },
  {
   "cell_type": "markdown",
   "metadata": {},
   "source": []
  },
  {
   "cell_type": "markdown",
   "metadata": {},
   "source": []
  },
  {
   "cell_type": "markdown",
   "metadata": {},
   "source": []
  },
  {
   "cell_type": "code",
   "execution_count": null,
   "metadata": {},
   "outputs": [],
   "source": []
  }
 ],
 "metadata": {
  "kernelspec": {
   "display_name": "Python 3",
   "language": "python",
   "name": "python3"
  },
  "language_info": {
   "codemirror_mode": {
    "name": "ipython",
    "version": 3
   },
   "file_extension": ".py",
   "mimetype": "text/x-python",
   "name": "python",
   "nbconvert_exporter": "python",
   "pygments_lexer": "ipython3",
   "version": "3.7.6"
  }
 },
 "nbformat": 4,
 "nbformat_minor": 2
}
