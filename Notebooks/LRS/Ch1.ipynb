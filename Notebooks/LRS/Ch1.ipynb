{
 "cells": [
  {
   "cell_type": "markdown",
   "metadata": {},
   "source": [
    "# CH1-2"
   ]
  },
  {
   "cell_type": "markdown",
   "metadata": {},
   "source": [
    "## TOC<a id='toc'></a>\n",
    "* [Ch1 Notes](#ch1_notes)\n",
    "* [Ch2 Notes](#ch2_notes)"
   ]
  },
  {
   "cell_type": "markdown",
   "metadata": {},
   "source": [
    "### CH1 Notes <a id='ch1_notes'></a>\n",
    "[toc](#toc)"
   ]
  },
  {
   "cell_type": "markdown",
   "metadata": {},
   "source": [
    "The Python Data Model\n",
    "* **special methods** aka **magic methods** aka **dunder methods**\n",
    "    - Methods implemented by python objects, meant to be called by python interpreter (not you), which are the back bone for the python data model - i.e. pythonic behavior\n",
    "    - len(obj) actually calls obj.\\_\\_len\\_\\_ \n",
    "        * not always - for very native types, just calls an attribute\n",
    "    - the function len() associated with len is called the **built-in function** associated with the special method\n",
    "    - ex: \\_\\_len\\_\\_ , \\_\\_repr\\_\\_, \\_\\_str\\_\\_\n",
    "* **namedtuple** used for bundles of attributes without methods\n",
    "* to use *from random import choice* all your objects needs is a \\_\\_getitem\\_\\_\n",
    "    - also allows iteration\n",
    "    - the fact that getitem is enough for iteration is for legacy reasons. It predates the iterator protocol. The current iterator protocol is\n",
    "        1. check for iter method. If it exists use the new iteration protocol\n",
    "        2. otherwise try calling getitem with successively larger integer values until it raises an Index-Error\n",
    "* interactive console and debugger call \\_\\_repr\\_\\_ on results of expressions\n",
    "    - use this to \"identify\" object - should be unambiguous and if possible, string should match code necessary to recreate object.\n",
    "    - if str not implemented, then *str(obj)* falls back on repr\n",
    "* *in* operator calls \\_\\_contains\\_\\_\n",
    "    - if not implemented, but is iterable, in just does a sequential scan \n",
    "    - so getitem suffices.\n",
    "* What in python is called the \"Python data model\", most authors would call the \"Python object model\"\n",
    "    - has also been called the **Metaobject Protocol**"
   ]
  },
  {
   "cell_type": "markdown",
   "metadata": {},
   "source": [
    "#### Questions\n",
    "* <font color=red> Do all dunder methods have associated built-in function(obj) that calls them? </font>"
   ]
  },
  {
   "cell_type": "markdown",
   "metadata": {},
   "source": [
    "### CH2 Notes <a id='ch2_notes'></a>\n",
    "[toc](#toc)"
   ]
  },
  {
   "cell_type": "markdown",
   "metadata": {},
   "source": [
    "...."
   ]
  },
  {
   "cell_type": "code",
   "execution_count": null,
   "metadata": {},
   "outputs": [],
   "source": []
  },
  {
   "cell_type": "code",
   "execution_count": 1,
   "metadata": {},
   "outputs": [],
   "source": [
    "from collections import deque"
   ]
  },
  {
   "cell_type": "code",
   "execution_count": null,
   "metadata": {},
   "outputs": [],
   "source": []
  }
 ],
 "metadata": {
  "kernelspec": {
   "display_name": "Python [default]",
   "language": "python",
   "name": "python3"
  },
  "language_info": {
   "codemirror_mode": {
    "name": "ipython",
    "version": 3
   },
   "file_extension": ".py",
   "mimetype": "text/x-python",
   "name": "python",
   "nbconvert_exporter": "python",
   "pygments_lexer": "ipython3",
   "version": "3.5.6"
  }
 },
 "nbformat": 4,
 "nbformat_minor": 2
}
