{
 "cells": [
  {
   "cell_type": "markdown",
   "metadata": {},
   "source": [
    "# CH1-2"
   ]
  },
  {
   "cell_type": "markdown",
   "metadata": {},
   "source": [
    "## TOC<a id='toc'></a>\n",
    "* [Ch1 Notes](#ch1_notes)\n",
    "* [Ch2 Notes](#ch2_notes)"
   ]
  },
  {
   "cell_type": "markdown",
   "metadata": {},
   "source": [
    "### CH1 Notes <a id='ch1_notes'></a>\n",
    "[toc](#toc)"
   ]
  },
  {
   "cell_type": "markdown",
   "metadata": {},
   "source": [
    "The Python Data Model\n",
    "* **special methods** aka **magic methods** aka **dunder methods**\n",
    "    - Methods implemented by python objects, meant to be called by python interpreter (not you), which are the back bone for the python data model - i.e. pythonic behavior\n",
    "    - `len(obj)` actually calls obj.`__len__` \n",
    "        * not always - for very native types, just calls an attribute\n",
    "    - the function len() associated with len is called the **built-in function** associated with the special method\n",
    "    - ex: `__len__`, `__repr__`, `__str__`\n",
    "* **namedtuple** used for bundles of attributes without methods\n",
    "* to use `from random import choice` all your objects needs is a `__getitem__`\n",
    "    - also allows iteration\n",
    "    - the fact that getitem is enough for iteration is for legacy reasons. It predates the iterator protocol. The current iterator protocol is\n",
    "        1. check for iter method. If it exists use the new iteration protocol\n",
    "        2. otherwise try calling getitem with successively larger integer values until it raises an Index-Error\n",
    "* interactive console and debugger call `__repr__` on results of expressions\n",
    "    - use this to \"identify\" object - should be unambiguous and if possible, string should match code necessary to recreate object.\n",
    "    - if str not implemented, then `str(obj)` falls back on repr\n",
    "* *in* operator calls `__contains__`\n",
    "    - if not implemented, but is iterable, in just does a sequential scan \n",
    "    - so getitem suffices.\n",
    "* What in python is called the \"Python data model\", most authors would call the \"Python object model\"\n",
    "    - has also been called the **Metaobject Protocol**"
   ]
  },
  {
   "cell_type": "markdown",
   "metadata": {},
   "source": [
    "#### Questions\n",
    "* <font color=red> Do all dunder methods have associated built-in function(obj) that calls them? </font>"
   ]
  },
  {
   "cell_type": "markdown",
   "metadata": {},
   "source": [
    "### CH2 Notes <a id='ch2_notes'></a>\n",
    "[toc](#toc)"
   ]
  },
  {
   "cell_type": "markdown",
   "metadata": {},
   "source": [
    "* sequence types (impemented in C)\n",
    "* Division 1:\n",
    "    - Container sequences: lists, tuples, collections.deque\n",
    "        * hold references to objects (can this be nested)\n",
    "    - Flat sequences: str, bytes, bytearray, memoryview, array.array \n",
    "        * store values in its own memory (more compact but can only hold primitives)\n",
    "* Division 2:\n",
    "    - mutable: lists, collections.deque, bytearray, memoryview, array.array\n",
    "    - Immutable: tuples, str, bytes"
   ]
  },
  {
   "cell_type": "code",
   "execution_count": 4,
   "metadata": {},
   "outputs": [
    {
     "data": {
      "text/plain": [
       "3"
      ]
     },
     "execution_count": 4,
     "metadata": {},
     "output_type": "execute_result"
    }
   ],
   "source": [
    "myTup = (2,3)\n",
    "myTup[1]"
   ]
  },
  {
   "cell_type": "code",
   "execution_count": 5,
   "metadata": {},
   "outputs": [
    {
     "ename": "TypeError",
     "evalue": "'tuple' object does not support item assignment",
     "output_type": "error",
     "traceback": [
      "\u001b[1;31m---------------------------------------------------------------------------\u001b[0m",
      "\u001b[1;31mTypeError\u001b[0m                                 Traceback (most recent call last)",
      "\u001b[1;32m<ipython-input-5-e217fb503ab1>\u001b[0m in \u001b[0;36m<module>\u001b[1;34m()\u001b[0m\n\u001b[1;32m----> 1\u001b[1;33m \u001b[0mmyTup\u001b[0m\u001b[1;33m[\u001b[0m\u001b[1;36m1\u001b[0m\u001b[1;33m]\u001b[0m \u001b[1;33m=\u001b[0m \u001b[1;36m5\u001b[0m\u001b[1;33m\u001b[0m\u001b[0m\n\u001b[0m",
      "\u001b[1;31mTypeError\u001b[0m: 'tuple' object does not support item assignment"
     ]
    }
   ],
   "source": [
    "myTup[1] = 5"
   ]
  },
  {
   "cell_type": "markdown",
   "metadata": {},
   "source": [
    "### listcomps and genexps\n",
    "* use listcomps when the intent is to build a list (for loops for other stuff, like processing stuff)\n",
    "    - never use listcomp just for its side-effects [not readable code]\n",
    "* *filter* and *map* can be used also, but readability suffers\n",
    "    - also they are not faster than listcomps\n",
    "* To fill up other sequence types, use a **genexp** (generator expression)\n",
    "    - saves memory because it yields items one by one using the *iterator protocol* instead of building the whole thing just to feed to another constructor\n",
    "    - syntax: replace [] --> ()\n",
    "    - if genexp is single argumnet to function call, no need to duplicate parenthesis"
   ]
  },
  {
   "cell_type": "code",
   "execution_count": 8,
   "metadata": {},
   "outputs": [
    {
     "data": {
      "text/plain": [
       "[1, 3, 5]"
      ]
     },
     "execution_count": 8,
     "metadata": {},
     "output_type": "execute_result"
    }
   ],
   "source": [
    "list(filter(lambda x: x%2, [1,2,3,4,5]))"
   ]
  },
  {
   "cell_type": "code",
   "execution_count": 9,
   "metadata": {},
   "outputs": [
    {
     "data": {
      "text/plain": [
       "[1, 3, 5]"
      ]
     },
     "execution_count": 9,
     "metadata": {},
     "output_type": "execute_result"
    }
   ],
   "source": [
    "[x for x in [1,2,3,4,5] if x%2]"
   ]
  },
  {
   "cell_type": "markdown",
   "metadata": {},
   "source": [
    "### tuples are note just mutable lists\n",
    "* can be used as immutable lists, but also as *records with no field names* - position of item gives its meaning\n",
    "* **tuple unpacking** - most commonly used in *parallel assignment*, also used in argument unpacking (putting * ahead ot tuple in func call)\n",
    "    - works with any iterable so long as number of objects in tuple match number of receiving ojects \n",
    "        * can use * to grab excess items\n",
    "    - works with nested structures ( so long as you match nesting structure)\n",
    "        * before python 3, it was possible to define functions with nested tuples in it formal paramters - this was removed for practical reasons (can still call using tuples of course)\n",
    "* if want to name records - use `collections.namedtuple`\n",
    "    - it is a factory that produces subclasses of tuple enhanced with field names and class name\n",
    "    - data must be passed a possitional arguments to the constructor, wheras tuple constructor takes single iterable\n",
    "    - useful attributes: class atribute `_fields`, class method `_make(iterable)` and instance method `_asdict()`"
   ]
  },
  {
   "cell_type": "code",
   "execution_count": 11,
   "metadata": {},
   "outputs": [],
   "source": [
    "a,b, *rest, c = range(6)"
   ]
  },
  {
   "cell_type": "code",
   "execution_count": 13,
   "metadata": {},
   "outputs": [
    {
     "data": {
      "text/plain": [
       "[2, 3, 4]"
      ]
     },
     "execution_count": 13,
     "metadata": {},
     "output_type": "execute_result"
    }
   ],
   "source": [
    "rest"
   ]
  },
  {
   "cell_type": "code",
   "execution_count": 14,
   "metadata": {},
   "outputs": [],
   "source": [
    "from collections import namedtuple"
   ]
  },
  {
   "cell_type": "code",
   "execution_count": 15,
   "metadata": {},
   "outputs": [],
   "source": [
    "Card = namedtuple('Card', ['rank', 'suit'])\n",
    "myCard = Card(3,'hearts')"
   ]
  },
  {
   "cell_type": "code",
   "execution_count": 21,
   "metadata": {},
   "outputs": [
    {
     "data": {
      "text/plain": [
       "(Card(rank=3, suit='hearts'), 3, 'hearts', ('rank', 'suit'))"
      ]
     },
     "execution_count": 21,
     "metadata": {},
     "output_type": "execute_result"
    }
   ],
   "source": [
    "myCard, myCard.rank, myCard[1], myCard._fields"
   ]
  },
  {
   "cell_type": "code",
   "execution_count": 22,
   "metadata": {},
   "outputs": [
    {
     "data": {
      "text/plain": [
       "Card(rank=3, suit='spades')"
      ]
     },
     "execution_count": 22,
     "metadata": {},
     "output_type": "execute_result"
    }
   ],
   "source": [
    "Card._make([3, 'spades'])"
   ]
  },
  {
   "cell_type": "code",
   "execution_count": 23,
   "metadata": {},
   "outputs": [
    {
     "ename": "TypeError",
     "evalue": "__new__() missing 1 required positional argument: 'suit'",
     "output_type": "error",
     "traceback": [
      "\u001b[1;31m---------------------------------------------------------------------------\u001b[0m",
      "\u001b[1;31mTypeError\u001b[0m                                 Traceback (most recent call last)",
      "\u001b[1;32m<ipython-input-23-89e85990318d>\u001b[0m in \u001b[0;36m<module>\u001b[1;34m()\u001b[0m\n\u001b[1;32m----> 1\u001b[1;33m \u001b[0mCard\u001b[0m\u001b[1;33m(\u001b[0m\u001b[1;33m[\u001b[0m\u001b[1;36m3\u001b[0m\u001b[1;33m,\u001b[0m\u001b[1;34m'spades'\u001b[0m\u001b[1;33m]\u001b[0m\u001b[1;33m)\u001b[0m\u001b[1;33m\u001b[0m\u001b[0m\n\u001b[0m",
      "\u001b[1;31mTypeError\u001b[0m: __new__() missing 1 required positional argument: 'suit'"
     ]
    }
   ],
   "source": [
    "Card([3,'spades'])"
   ]
  },
  {
   "cell_type": "markdown",
   "metadata": {},
   "source": [
    "### Slicing\n",
    "* excluding last item in slice (among other things) makes it easy to split sequence: `my_list[:x]` and `my_list[x:]`\n",
    "* notation a:b:c is only valid within [] when used as indexing or subscript operator and it produces a slice object `slice(a,b,c)`\n",
    "    - `seq[a:b:c]` ---> `seq.__getitem__(slice(a,b,c))`\n",
    "    - can assign names to slices - like cell ranges in spreadsheets - very useful when parsing fixed witdth string docs\n",
    "* ellipsis, written as ..., is a recognized token by python parser. Alias for **Ellipsis** object, single isntance of **ellipsis** class.\n",
    "    - can be passed as argument to functions and as part of slice specification. Numpy uses it as shortuct when slicing multidimensional arrays\n",
    "     - ex: `x[i, ...] --> x[i, :, :, :]`\n",
    "     - unaware of uses in standard library\n",
    "* mutable sequences can be grafted, excised and otherwise modified in place using slice notation on left hand side of assignment operator (need iterable on right hand side)\n",
    "    - ex: `l = list(range(10));  l[3:7] = [-1,2]`\n",
    "    - This means repeated concatenation of immutable sequences is inefficient, because instead of appending new items it copies the whole target sequences.\n",
    "        * Claim: this is not the case for str - optimized in cpython because += so common for them, so allocated with extra memory.\n",
    "        * <font color=red> So this implies that no extra copying for concats of **mutable** sequences. However, in coding, when I loop extend a list, it takes forever - Dirk's claim is that it is the reallocation of memory and copying. TEST THIS </font>\n",
    "* <font color=blue> useful recipe: naming a slice - improves readability </font>"
   ]
  },
  {
   "cell_type": "code",
   "execution_count": 26,
   "metadata": {},
   "outputs": [
    {
     "data": {
      "text/plain": [
       "Ellipsis"
      ]
     },
     "execution_count": 26,
     "metadata": {},
     "output_type": "execute_result"
    }
   ],
   "source": [
    "..."
   ]
  },
  {
   "cell_type": "code",
   "execution_count": 9,
   "metadata": {},
   "outputs": [],
   "source": [
    "l = list(range(10))"
   ]
  },
  {
   "cell_type": "code",
   "execution_count": 10,
   "metadata": {},
   "outputs": [
    {
     "data": {
      "text/plain": [
       "[0, 1, 2, -1, -2, 7, 8, 9]"
      ]
     },
     "execution_count": 10,
     "metadata": {},
     "output_type": "execute_result"
    }
   ],
   "source": [
    "l[3:7] = [-1,-2]\n",
    "l"
   ]
  },
  {
   "cell_type": "code",
   "execution_count": 11,
   "metadata": {},
   "outputs": [
    {
     "data": {
      "text/plain": [
       "[0, [11, 12, 13, 14], 2, -1, -2, 7, 8, 9]"
      ]
     },
     "execution_count": 11,
     "metadata": {},
     "output_type": "execute_result"
    }
   ],
   "source": [
    "l[1] = [11,12,13,14]\n",
    "l"
   ]
  },
  {
   "cell_type": "code",
   "execution_count": 12,
   "metadata": {},
   "outputs": [
    {
     "data": {
      "text/plain": [
       "[0, [11, 12, 13, 14], 0, 0, 0, 0, 0, 2, -1, -2, 7, 8, 9]"
      ]
     },
     "execution_count": 12,
     "metadata": {},
     "output_type": "execute_result"
    }
   ],
   "source": [
    "l[2:2] = [0,0,0,0,0]\n",
    "l"
   ]
  },
  {
   "cell_type": "markdown",
   "metadata": {},
   "source": [
    "### +, *, +=, *= with sequences\n",
    "* careful: `x = [['_'] * 3 for _ in range(3)]` differs from `x = [['_'] * 3] * 3`\n",
    "    - the latter has same copy of iner list three times. so modifying  `x[0][0] = 'O'`, actually modfies `x[1][0]` and `x[2][0]`\n",
    "* `+=` calls `__iadd__` (in-place addition), and if not implemented falls back on `__add__` that is `(a = a + b)`\n",
    "    - sim `__imul__`"
   ]
  },
  {
   "cell_type": "code",
   "execution_count": 13,
   "metadata": {},
   "outputs": [
    {
     "data": {
      "text/plain": [
       "2338855644184"
      ]
     },
     "execution_count": 13,
     "metadata": {},
     "output_type": "execute_result"
    }
   ],
   "source": [
    "t = (1,2,3)\n",
    "id(t)"
   ]
  },
  {
   "cell_type": "code",
   "execution_count": 14,
   "metadata": {},
   "outputs": [
    {
     "data": {
      "text/plain": [
       "2338855644184"
      ]
     },
     "execution_count": 14,
     "metadata": {},
     "output_type": "execute_result"
    }
   ],
   "source": [
    "s = t\n",
    "id(s)"
   ]
  },
  {
   "cell_type": "code",
   "execution_count": 15,
   "metadata": {},
   "outputs": [
    {
     "data": {
      "text/plain": [
       "(1, 2, 3, 1, 2, 3)"
      ]
     },
     "execution_count": 15,
     "metadata": {},
     "output_type": "execute_result"
    }
   ],
   "source": [
    "t *=2\n",
    "t"
   ]
  },
  {
   "cell_type": "code",
   "execution_count": 17,
   "metadata": {},
   "outputs": [
    {
     "data": {
      "text/plain": [
       "(1, 2, 3)"
      ]
     },
     "execution_count": 17,
     "metadata": {},
     "output_type": "execute_result"
    }
   ],
   "source": [
    "s"
   ]
  },
  {
   "cell_type": "code",
   "execution_count": 16,
   "metadata": {},
   "outputs": [
    {
     "data": {
      "text/plain": [
       "(2338855027240, 2338855644184)"
      ]
     },
     "execution_count": 16,
     "metadata": {},
     "output_type": "execute_result"
    }
   ],
   "source": [
    "id(t), id(s)"
   ]
  },
  {
   "cell_type": "markdown",
   "metadata": {},
   "source": [
    "**TODO** profile loop extension of lists, as compared to preallocated list and just modification."
   ]
  },
  {
   "cell_type": "markdown",
   "metadata": {},
   "source": [
    "### A += Assignment Puzzler"
   ]
  },
  {
   "cell_type": "code",
   "execution_count": 18,
   "metadata": {},
   "outputs": [
    {
     "ename": "TypeError",
     "evalue": "'tuple' object does not support item assignment",
     "output_type": "error",
     "traceback": [
      "\u001b[1;31m---------------------------------------------------------------------------\u001b[0m",
      "\u001b[1;31mTypeError\u001b[0m                                 Traceback (most recent call last)",
      "\u001b[1;32m<ipython-input-18-0e9217592952>\u001b[0m in \u001b[0;36m<module>\u001b[1;34m()\u001b[0m\n\u001b[0;32m      1\u001b[0m \u001b[0mt\u001b[0m \u001b[1;33m=\u001b[0m \u001b[1;33m(\u001b[0m\u001b[1;36m1\u001b[0m\u001b[1;33m,\u001b[0m \u001b[1;36m2\u001b[0m\u001b[1;33m,\u001b[0m \u001b[1;33m[\u001b[0m\u001b[1;36m30\u001b[0m\u001b[1;33m,\u001b[0m \u001b[1;36m40\u001b[0m\u001b[1;33m]\u001b[0m\u001b[1;33m)\u001b[0m\u001b[1;33m\u001b[0m\u001b[0m\n\u001b[1;32m----> 2\u001b[1;33m \u001b[0mt\u001b[0m\u001b[1;33m[\u001b[0m\u001b[1;36m2\u001b[0m\u001b[1;33m]\u001b[0m \u001b[1;33m+=\u001b[0m \u001b[1;33m[\u001b[0m\u001b[1;36m50\u001b[0m\u001b[1;33m,\u001b[0m \u001b[1;36m60\u001b[0m\u001b[1;33m]\u001b[0m\u001b[1;33m\u001b[0m\u001b[0m\n\u001b[0m",
      "\u001b[1;31mTypeError\u001b[0m: 'tuple' object does not support item assignment"
     ]
    }
   ],
   "source": [
    "t = (1, 2, [30, 40])\n",
    "t[2] += [50, 60]"
   ]
  },
  {
   "cell_type": "code",
   "execution_count": 19,
   "metadata": {},
   "outputs": [
    {
     "data": {
      "text/plain": [
       "(1, 2, [30, 40, 50, 60])"
      ]
     },
     "execution_count": 19,
     "metadata": {},
     "output_type": "execute_result"
    }
   ],
   "source": [
    "t"
   ]
  },
  {
   "cell_type": "code",
   "execution_count": 20,
   "metadata": {},
   "outputs": [],
   "source": [
    "import dis"
   ]
  },
  {
   "cell_type": "code",
   "execution_count": 21,
   "metadata": {},
   "outputs": [
    {
     "name": "stdout",
     "output_type": "stream",
     "text": [
      "  1           0 LOAD_NAME                0 (s)\n",
      "              3 LOAD_NAME                1 (a)\n",
      "              6 DUP_TOP_TWO\n",
      "              7 BINARY_SUBSCR\n",
      "              8 LOAD_NAME                2 (b)\n",
      "             11 INPLACE_ADD\n",
      "             12 ROT_THREE\n",
      "             13 STORE_SUBSCR\n",
      "             14 LOAD_CONST               0 (None)\n",
      "             17 RETURN_VALUE\n"
     ]
    }
   ],
   "source": [
    "dis.dis('s[a] += b')"
   ]
  },
  {
   "cell_type": "markdown",
   "metadata": {},
   "source": [
    "<br>\n",
    "<hr>\n",
    "**Super cool `dis.dis` disasemmbly into bytecode**\n",
    "<br>\n",
    "<hr>"
   ]
  },
  {
   "cell_type": "markdown",
   "metadata": {},
   "source": [
    "### Sort and bisect\n",
    "* `list.sort` modifies in-place and returns **None**. <font color=blue> VIP Python API convention: when modifying in place return None to make it clear to caller. </font>\n",
    "* `sorted(iterable)` returns copy; works even for immutable\n",
    "* once sorted use **bisect** module - efficient *binary search* algorithms\n",
    "    - `bisect.bisect(haystack, needle)` returns index at which needle can be inserted into haystack and it remain sorted\n",
    "        * can pass `lo` and `hi` to bisect to limit search range - defaults to `0` and `len()`\n",
    "        * actually alias for `bisect_right`; ther is also `bisect_left`\n",
    "    - `bisect.insort(haystack, needle)` actually does the insertion too. more efficient thatn doing it yourself."
   ]
  },
  {
   "cell_type": "code",
   "execution_count": 22,
   "metadata": {},
   "outputs": [],
   "source": [
    "from bisect import bisect"
   ]
  },
  {
   "cell_type": "code",
   "execution_count": 25,
   "metadata": {},
   "outputs": [
    {
     "data": {
      "text/plain": [
       "4"
      ]
     },
     "execution_count": 25,
     "metadata": {},
     "output_type": "execute_result"
    }
   ],
   "source": [
    "l = [1,2,3,4,5]\n",
    "bisect(l,4)"
   ]
  },
  {
   "cell_type": "code",
   "execution_count": 28,
   "metadata": {},
   "outputs": [
    {
     "data": {
      "text/plain": [
       "2"
      ]
     },
     "execution_count": 28,
     "metadata": {},
     "output_type": "execute_result"
    }
   ],
   "source": [
    "l = [1,-2,12, 2,7,3,4,5]\n",
    "bisect(l,4)"
   ]
  },
  {
   "cell_type": "markdown",
   "metadata": {},
   "source": [
    "** Note doesn't throw if not sorted!!**"
   ]
  },
  {
   "cell_type": "markdown",
   "metadata": {},
   "source": [
    "### When a list is not the answer\n",
    "* Consider:\n",
    "    - if storing alot of floats (only numbers) - use arrays instead of lists - array doesnt store full float, just packed bytes representing machine value (like array in C)\n",
    "    - if adding or removing from ends alot, use deque\n",
    "    - if checking for containment alot, use set\n",
    "* `array.array`: \n",
    "    - useful methods for fast loading and saving\n",
    "* built-in `memoryview`: shared memory sequence type - inspired by numpy\n",
    "* `collections.deque`: thread safe double ended queue optimized for inserting and removing form both ends.\n",
    "    - can `.append` and `.pop` (even `.pop(0)` for FIFO) on lists. But expensive to insert/remove at left end (entire list is shifted)\n",
    "    - can be bounded (max length) so good buffer\n",
    "    - can `.rotate` - push from 'top' into 'bottom' (or vice-versa)\n",
    "    - hidden cost: removing items from middle is not fast\n",
    "    - append and popleft are *atomic* so safe to use as LIFO queue in multithreaded without needs for locks\n"
   ]
  },
  {
   "cell_type": "markdown",
   "metadata": {},
   "source": [
    "<font color=red> What is this Blaze tool about? </font>"
   ]
  },
  {
   "cell_type": "markdown",
   "metadata": {},
   "source": [
    "[toc](#toc)"
   ]
  },
  {
   "cell_type": "code",
   "execution_count": null,
   "metadata": {},
   "outputs": [],
   "source": []
  }
 ],
 "metadata": {
  "kernelspec": {
   "display_name": "Python [default]",
   "language": "python",
   "name": "python3"
  },
  "language_info": {
   "codemirror_mode": {
    "name": "ipython",
    "version": 3
   },
   "file_extension": ".py",
   "mimetype": "text/x-python",
   "name": "python",
   "nbconvert_exporter": "python",
   "pygments_lexer": "ipython3",
   "version": "3.5.6"
  }
 },
 "nbformat": 4,
 "nbformat_minor": 2
}
