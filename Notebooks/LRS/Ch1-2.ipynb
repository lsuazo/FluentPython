{
 "cells": [
  {
   "cell_type": "markdown",
   "metadata": {},
   "source": [
    "# CH1-2"
   ]
  },
  {
   "cell_type": "markdown",
   "metadata": {},
   "source": [
    "## TOC<a id='toc'></a>\n",
    "* [Ch1 Notes](#ch1_notes)\n",
    "* [Ch2 Notes](#ch2_notes)"
   ]
  },
  {
   "cell_type": "markdown",
   "metadata": {},
   "source": [
    "### CH1 Notes <a id='ch1_notes'></a>\n",
    "[toc](#toc)"
   ]
  },
  {
   "cell_type": "markdown",
   "metadata": {},
   "source": [
    "The Python Data Model\n",
    "* **special methods** aka **magic methods** aka **dunder methods**\n",
    "    - Methods implemented by python objects, meant to be called by python interpreter (not you), which are the back bone for the python data model - i.e. pythonic behavior\n",
    "    - len(obj) actually calls obj.\\_\\_len\\_\\_ \n",
    "        * not always - for very native types, just calls an attribute\n",
    "    - the function len() associated with len is called the **built-in function** associated with the special method\n",
    "    - ex: \\_\\_len\\_\\_ , \\_\\_repr\\_\\_, \\_\\_str\\_\\_\n",
    "* **namedtuple** used for bundles of attributes without methods\n",
    "* to use *from random import choice* all your objects needs is a \\_\\_getitem\\_\\_\n",
    "    - also allows iteration\n",
    "    - the fact that getitem is enough for iteration is for legacy reasons. It predates the iterator protocol. The current iterator protocol is\n",
    "        1. check for iter method. If it exists use the new iteration protocol\n",
    "        2. otherwise try calling getitem with successively larger integer values until it raises an Index-Error\n",
    "* interactive console and debugger call \\_\\_repr\\_\\_ on results of expressions\n",
    "    - use this to \"identify\" object - should be unambiguous and if possible, string should match code necessary to recreate object.\n",
    "    - if str not implemented, then *str(obj)* falls back on repr\n",
    "* *in* operator calls \\_\\_contains\\_\\_\n",
    "    - if not implemented, but is iterable, in just does a sequential scan \n",
    "    - so getitem suffices.\n",
    "* What in python is called the \"Python data model\", most authors would call the \"Python object model\"\n",
    "    - has also been called the **Metaobject Protocol**"
   ]
  },
  {
   "cell_type": "markdown",
   "metadata": {},
   "source": [
    "#### Questions\n",
    "* <font color=red> Do all dunder methods have associated built-in function(obj) that calls them? </font>"
   ]
  },
  {
   "cell_type": "markdown",
   "metadata": {},
   "source": [
    "### CH2 Notes <a id='ch2_notes'></a>\n",
    "[toc](#toc)"
   ]
  },
  {
   "cell_type": "markdown",
   "metadata": {},
   "source": [
    "* sequence types (impemented in C)\n",
    "* Division 1:\n",
    "    - Container sequences: lists, tuples, collections.deque\n",
    "        * hold references to objects\n",
    "    - Flat sequences: str, bytes, bytearray, memoryview, array.array \n",
    "        * store values in its own memory (more compact but can only hold primitives)\n",
    "* Division 2:\n",
    "    - mutable: lists, collections.deque, bytearray, memoryview, array.array\n",
    "    - Immutable: tuples, str, bytes"
   ]
  },
  {
   "cell_type": "code",
   "execution_count": 4,
   "metadata": {},
   "outputs": [
    {
     "data": {
      "text/plain": [
       "3"
      ]
     },
     "execution_count": 4,
     "metadata": {},
     "output_type": "execute_result"
    }
   ],
   "source": [
    "myTup = (2,3)\n",
    "myTup[1]"
   ]
  },
  {
   "cell_type": "code",
   "execution_count": 5,
   "metadata": {},
   "outputs": [
    {
     "ename": "TypeError",
     "evalue": "'tuple' object does not support item assignment",
     "output_type": "error",
     "traceback": [
      "\u001b[1;31m---------------------------------------------------------------------------\u001b[0m",
      "\u001b[1;31mTypeError\u001b[0m                                 Traceback (most recent call last)",
      "\u001b[1;32m<ipython-input-5-e217fb503ab1>\u001b[0m in \u001b[0;36m<module>\u001b[1;34m()\u001b[0m\n\u001b[1;32m----> 1\u001b[1;33m \u001b[0mmyTup\u001b[0m\u001b[1;33m[\u001b[0m\u001b[1;36m1\u001b[0m\u001b[1;33m]\u001b[0m \u001b[1;33m=\u001b[0m \u001b[1;36m5\u001b[0m\u001b[1;33m\u001b[0m\u001b[0m\n\u001b[0m",
      "\u001b[1;31mTypeError\u001b[0m: 'tuple' object does not support item assignment"
     ]
    }
   ],
   "source": [
    "myTup[1] = 5"
   ]
  },
  {
   "cell_type": "markdown",
   "metadata": {},
   "source": [
    "### listcomps and genexps\n",
    "* use listcomps when the intent is to build a list (for loops for other stuff, like processing stuff)\n",
    "    - never use listcomp just for its side-effects [not readable code]\n",
    "* *filter* and *map* can be used also, but readability suffers\n",
    "    - also they are not faster than listcomps\n",
    "* To fill up other sequence types, use a **genexp** (generator expression)\n",
    "    - saves memory because it yields items one by one using the *iterator protocol* instead of building the whole thing just to feed to another constructor\n",
    "    - syntax: replace [] --> ()\n",
    "    - if genexp is single argumnet to function call, no need to duplicate parenthesis"
   ]
  },
  {
   "cell_type": "code",
   "execution_count": 8,
   "metadata": {},
   "outputs": [
    {
     "data": {
      "text/plain": [
       "[1, 3, 5]"
      ]
     },
     "execution_count": 8,
     "metadata": {},
     "output_type": "execute_result"
    }
   ],
   "source": [
    "list(filter(lambda x: x%2, [1,2,3,4,5]))"
   ]
  },
  {
   "cell_type": "code",
   "execution_count": 9,
   "metadata": {},
   "outputs": [
    {
     "data": {
      "text/plain": [
       "[1, 3, 5]"
      ]
     },
     "execution_count": 9,
     "metadata": {},
     "output_type": "execute_result"
    }
   ],
   "source": [
    "[x for x in [1,2,3,4,5] if x%2]"
   ]
  },
  {
   "cell_type": "markdown",
   "metadata": {},
   "source": [
    "### tuples are note just mutable lists\n",
    "* can be used as immutable lists, but also as *records with no field names* - position of item gives its meaning\n",
    "* **tuple unpacking** - most commonly used in *parallel assignment*, also used in argument unpacking (putting * ahead ot tuple in func call)\n",
    "    - works with any iterable so long as number of objects in tuple match number of receiving ojects \n",
    "        * can use * to grab excess items\n",
    "    - works with nested structures ( so long as you match nesting structure)\n",
    "        * before python 3, it was possible to define functions with nested tuples in it formal paramters - this was removed for practical reasons (can still call using tuples of course)\n",
    "* if want to name records - use *collections.namedtuple*\n",
    "    - it is a factory that produces subclasses of tuple enhanced with field names and class name\n",
    "    - data must be passed a possitional arguments to the constructor, wheras tuple constructor takes single iterable\n",
    "    - useful attributes: class atribute *\\_fields*, class method *\\_make(iterable)* and instance method *\\_asdict()*"
   ]
  },
  {
   "cell_type": "code",
   "execution_count": 11,
   "metadata": {},
   "outputs": [],
   "source": [
    "a,b, *rest, c = range(6)"
   ]
  },
  {
   "cell_type": "code",
   "execution_count": 13,
   "metadata": {},
   "outputs": [
    {
     "data": {
      "text/plain": [
       "[2, 3, 4]"
      ]
     },
     "execution_count": 13,
     "metadata": {},
     "output_type": "execute_result"
    }
   ],
   "source": [
    "rest"
   ]
  },
  {
   "cell_type": "code",
   "execution_count": 14,
   "metadata": {},
   "outputs": [],
   "source": [
    "from collections import namedtuple"
   ]
  },
  {
   "cell_type": "code",
   "execution_count": 15,
   "metadata": {},
   "outputs": [],
   "source": [
    "Card = namedtuple('Card', ['rank', 'suit'])\n",
    "myCard = Card(3,'hearts')"
   ]
  },
  {
   "cell_type": "code",
   "execution_count": 21,
   "metadata": {},
   "outputs": [
    {
     "data": {
      "text/plain": [
       "(Card(rank=3, suit='hearts'), 3, 'hearts', ('rank', 'suit'))"
      ]
     },
     "execution_count": 21,
     "metadata": {},
     "output_type": "execute_result"
    }
   ],
   "source": [
    "myCard, myCard.rank, myCard[1], myCard._fields"
   ]
  },
  {
   "cell_type": "code",
   "execution_count": 22,
   "metadata": {},
   "outputs": [
    {
     "data": {
      "text/plain": [
       "Card(rank=3, suit='spades')"
      ]
     },
     "execution_count": 22,
     "metadata": {},
     "output_type": "execute_result"
    }
   ],
   "source": [
    "Card._make([3, 'spades'])"
   ]
  },
  {
   "cell_type": "code",
   "execution_count": 23,
   "metadata": {},
   "outputs": [
    {
     "ename": "TypeError",
     "evalue": "__new__() missing 1 required positional argument: 'suit'",
     "output_type": "error",
     "traceback": [
      "\u001b[1;31m---------------------------------------------------------------------------\u001b[0m",
      "\u001b[1;31mTypeError\u001b[0m                                 Traceback (most recent call last)",
      "\u001b[1;32m<ipython-input-23-89e85990318d>\u001b[0m in \u001b[0;36m<module>\u001b[1;34m()\u001b[0m\n\u001b[1;32m----> 1\u001b[1;33m \u001b[0mCard\u001b[0m\u001b[1;33m(\u001b[0m\u001b[1;33m[\u001b[0m\u001b[1;36m3\u001b[0m\u001b[1;33m,\u001b[0m\u001b[1;34m'spades'\u001b[0m\u001b[1;33m]\u001b[0m\u001b[1;33m)\u001b[0m\u001b[1;33m\u001b[0m\u001b[0m\n\u001b[0m",
      "\u001b[1;31mTypeError\u001b[0m: __new__() missing 1 required positional argument: 'suit'"
     ]
    }
   ],
   "source": [
    "Card([3,'spades'])"
   ]
  },
  {
   "cell_type": "markdown",
   "metadata": {},
   "source": [
    "### Slicing\n",
    "* excluding last item in slice (among other things) makes it easy to split sequence: *my_list[:x]* and *my_list[x:]*\n",
    "* notation a:b:c is only valid within [] when used as indexing or subscript operator and it produces a slice object *slice(a,b,c)*\n",
    "    - seq[a:b:c] ---> sqe.\\_\\_getitem\\_\\_(slice(a,b,c))\n",
    "    - can assign names to slices - like cell ranges in spreadsheets - very useful when parsing fixed witdth string docs\n",
    "* ellipsis, written as ..., is a recognized token by python parser. Alias for **Ellipsis** object, single isntance of **ellipsis** class.\n",
    "    - can be passed as argument to functions and as part of slice specification. Numpy uses it as shortuct when slicing multidimensional arrays\n",
    "        * ex: x[i, ...] --> x[i, :, :, :]\n",
    "        * unaware of uses in standard library\n",
    "* "
   ]
  },
  {
   "cell_type": "code",
   "execution_count": 26,
   "metadata": {},
   "outputs": [
    {
     "data": {
      "text/plain": [
       "Ellipsis"
      ]
     },
     "execution_count": 26,
     "metadata": {},
     "output_type": "execute_result"
    }
   ],
   "source": [
    "..."
   ]
  },
  {
   "cell_type": "code",
   "execution_count": null,
   "metadata": {},
   "outputs": [],
   "source": []
  }
 ],
 "metadata": {
  "kernelspec": {
   "display_name": "Python [default]",
   "language": "python",
   "name": "python3"
  },
  "language_info": {
   "codemirror_mode": {
    "name": "ipython",
    "version": 3
   },
   "file_extension": ".py",
   "mimetype": "text/x-python",
   "name": "python",
   "nbconvert_exporter": "python",
   "pygments_lexer": "ipython3",
   "version": "3.5.6"
  }
 },
 "nbformat": 4,
 "nbformat_minor": 2
}
