{
 "cells": [
  {
   "cell_type": "markdown",
   "metadata": {},
   "source": [
    "# CH 20"
   ]
  },
  {
   "cell_type": "markdown",
   "metadata": {},
   "source": [
    "## TOC<a id='toc'></a>\n",
    "* [Ch20 Notes](#ch20_notes)"
   ]
  },
  {
   "cell_type": "markdown",
   "metadata": {},
   "source": [
    "### CH20 Notes <a id='ch20_notes'></a>\n",
    "[toc](#toc)\n",
    "###  Attribute Descriptors"
   ]
  },
  {
   "cell_type": "markdown",
   "metadata": {},
   "source": [
    "* a **descriptor** is a class that implements a protocol consisting of `__get__`, `__set__` and `__delete__` methods.\n",
    "    - the property class implements the full descriptor protocol\n",
    "    - also used by classmethod and staticmethod decorators\n",
    "* descriptors are a distinguishing feature of pyhton deployed both at the application level and in tha language infrastructure\n",
    "* a descriptor class is used by declaring instances of it as class attributes of another class.\n",
    "* definitions:\n",
    "    - **decriptor class** - a class implementing the descriptor protocol.\n",
    "    - **managed class** - the class where the descriptor instances are declared as class attributes\n",
    "    - **Descriptor Instance** -  each instance of a descriptor class declared as a class attribute of the managed class.\n",
    "    - **Managed Instance** - one instance of the managed class\n",
    "    - **Manageg Attribute** - a public attribute in the managed class that will be handled by a descriptor instance, with values stored in storage attributes.\n",
    "    - **Storage attribute** - an attribute of the managed instance that will hold the value of a *managed attribute* for that particular instance\n",
    "    \n",
    "* Main point: descriptor instances are class attributes. They manage data that is stored in an instance of the managed class."
   ]
  },
  {
   "cell_type": "markdown",
   "metadata": {},
   "source": [
    "* `__set__` is called when attempting to assign to *managed attribute*\n",
    "    - python provides both `self` - the descriptor instance - and `instance` the managed instance to this method, as well as the value: `__set__(self, instance, value):`\n",
    "\n",
    "* At first, you might want to store value in descriptor isntance (self) instead of in managed instance (instance) - but that is wrong\n",
    "    - descriptor instance is a class attribute - might manage many instances!"
   ]
  },
  {
   "cell_type": "markdown",
   "metadata": {},
   "source": [
    "COMMENT: The example he gives seems almos exaclty the same as the property factory example - still have a storage name, still write that twice when creating property/descriptor as class attribute. Still relies on python mechanism for looking at class before instance when calling attributes ??\n",
    "    - this one is weird. If I have a class var shadowed by instance var, the instance var shines through. So what is required for class attribute to override? can't be isinstance property, because descriptor does it too."
   ]
  },
  {
   "cell_type": "code",
   "execution_count": 1,
   "metadata": {},
   "outputs": [],
   "source": [
    "class MyClass:\n",
    "    var = 4\n",
    "    \n",
    "    def __init__(self):\n",
    "        self.var = 3"
   ]
  },
  {
   "cell_type": "code",
   "execution_count": 2,
   "metadata": {},
   "outputs": [],
   "source": [
    "obj = MyClass()"
   ]
  },
  {
   "cell_type": "code",
   "execution_count": 3,
   "metadata": {},
   "outputs": [
    {
     "data": {
      "text/plain": [
       "3"
      ]
     },
     "execution_count": 3,
     "metadata": {},
     "output_type": "execute_result"
    }
   ],
   "source": [
    "obj.var"
   ]
  },
  {
   "cell_type": "code",
   "execution_count": 4,
   "metadata": {},
   "outputs": [
    {
     "data": {
      "text/plain": [
       "4"
      ]
     },
     "execution_count": 4,
     "metadata": {},
     "output_type": "execute_result"
    }
   ],
   "source": [
    "MyClass.var"
   ]
  },
  {
   "cell_type": "code",
   "execution_count": null,
   "metadata": {},
   "outputs": [],
   "source": []
  },
  {
   "cell_type": "code",
   "execution_count": 15,
   "metadata": {},
   "outputs": [],
   "source": [
    "from collections import namedtuple\n",
    "#Trick = namedtuple('Trick', ['__set__', '__get__'])\n",
    "# trick = object()\n",
    "# setattr(trick, '__set__', 5)\n",
    "\n",
    "class TempClass:\n",
    "    pass\n",
    "\n",
    "trick = TempClass()\n",
    "setattr(trick, '__get__', 5)\n",
    "\n",
    "class MyClass:\n",
    "    var = trick\n",
    "    \n",
    "    def __init__(self):\n",
    "        self.var = 3"
   ]
  },
  {
   "cell_type": "code",
   "execution_count": 16,
   "metadata": {},
   "outputs": [],
   "source": [
    "obj = MyClass()"
   ]
  },
  {
   "cell_type": "code",
   "execution_count": 17,
   "metadata": {},
   "outputs": [
    {
     "data": {
      "text/plain": [
       "3"
      ]
     },
     "execution_count": 17,
     "metadata": {},
     "output_type": "execute_result"
    }
   ],
   "source": [
    "obj.var"
   ]
  },
  {
   "cell_type": "code",
   "execution_count": 18,
   "metadata": {},
   "outputs": [
    {
     "data": {
      "text/plain": [
       "<__main__.TempClass at 0x15ca1771048>"
      ]
     },
     "execution_count": 18,
     "metadata": {},
     "output_type": "execute_result"
    }
   ],
   "source": [
    "MyClass.var"
   ]
  },
  {
   "cell_type": "code",
   "execution_count": 61,
   "metadata": {},
   "outputs": [],
   "source": [
    "from collections import namedtuple\n",
    "#Trick = namedtuple('Trick', ['__set__', '__get__'])\n",
    "# trick = object()\n",
    "# setattr(trick, '__set__', 5)\n",
    "\n",
    "class TempClass:\n",
    "    pass\n",
    "\n",
    "trick = TempClass()\n",
    "setattr(trick, '__get__', lambda x: 5)\n",
    "\n",
    "class MyClass:\n",
    "    var = trick\n",
    "    \n",
    "    def __init__(self):\n",
    "        self.var = 3"
   ]
  },
  {
   "cell_type": "code",
   "execution_count": 62,
   "metadata": {},
   "outputs": [],
   "source": [
    "obj = MyClass()"
   ]
  },
  {
   "cell_type": "code",
   "execution_count": 63,
   "metadata": {},
   "outputs": [
    {
     "data": {
      "text/plain": [
       "3"
      ]
     },
     "execution_count": 63,
     "metadata": {},
     "output_type": "execute_result"
    }
   ],
   "source": [
    "obj.var"
   ]
  },
  {
   "cell_type": "code",
   "execution_count": 64,
   "metadata": {},
   "outputs": [
    {
     "data": {
      "text/plain": [
       "<__main__.TempClass at 0x15ca1725bc8>"
      ]
     },
     "execution_count": 64,
     "metadata": {},
     "output_type": "execute_result"
    }
   ],
   "source": [
    "MyClass.var"
   ]
  },
  {
   "cell_type": "code",
   "execution_count": 65,
   "metadata": {},
   "outputs": [
    {
     "data": {
      "text/plain": [
       "5"
      ]
     },
     "execution_count": 65,
     "metadata": {},
     "output_type": "execute_result"
    }
   ],
   "source": [
    "trick.__get__(3)"
   ]
  },
  {
   "cell_type": "code",
   "execution_count": 94,
   "metadata": {},
   "outputs": [],
   "source": [
    "class TempClass:\n",
    "    def __get__(self, instance, owner):\n",
    "        return 5\n",
    "\n",
    "class MyClass:\n",
    "    var = TempClass()\n",
    "    \n",
    "    def __init__(self):\n",
    "        self.var = 4"
   ]
  },
  {
   "cell_type": "code",
   "execution_count": 95,
   "metadata": {},
   "outputs": [],
   "source": [
    "obj = MyClass()"
   ]
  },
  {
   "cell_type": "code",
   "execution_count": 96,
   "metadata": {},
   "outputs": [
    {
     "data": {
      "text/plain": [
       "4"
      ]
     },
     "execution_count": 96,
     "metadata": {},
     "output_type": "execute_result"
    }
   ],
   "source": [
    "obj.var"
   ]
  },
  {
   "cell_type": "code",
   "execution_count": 97,
   "metadata": {},
   "outputs": [
    {
     "data": {
      "text/plain": [
       "5"
      ]
     },
     "execution_count": 97,
     "metadata": {},
     "output_type": "execute_result"
    }
   ],
   "source": [
    "MyClass.var"
   ]
  },
  {
   "cell_type": "code",
   "execution_count": 99,
   "metadata": {},
   "outputs": [],
   "source": [
    "class TempClass:\n",
    "    def __get__(self, instance, owner):\n",
    "        return 5\n",
    "    \n",
    "    def __set__(self, instance, value):\n",
    "        return value\n",
    "\n",
    "class MyClass:\n",
    "    var = TempClass()\n",
    "    \n",
    "    def __init__(self):\n",
    "        self.var = 4"
   ]
  },
  {
   "cell_type": "code",
   "execution_count": 100,
   "metadata": {},
   "outputs": [],
   "source": [
    "obj = MyClass()"
   ]
  },
  {
   "cell_type": "code",
   "execution_count": 101,
   "metadata": {},
   "outputs": [
    {
     "data": {
      "text/plain": [
       "5"
      ]
     },
     "execution_count": 101,
     "metadata": {},
     "output_type": "execute_result"
    }
   ],
   "source": [
    "obj.var"
   ]
  },
  {
   "cell_type": "code",
   "execution_count": 102,
   "metadata": {},
   "outputs": [
    {
     "data": {
      "text/plain": [
       "5"
      ]
     },
     "execution_count": 102,
     "metadata": {},
     "output_type": "execute_result"
    }
   ],
   "source": [
    "MyClass.var"
   ]
  },
  {
   "cell_type": "markdown",
   "metadata": {},
   "source": [
    "# Line Item Take #4: Automatic Storage Attribute Names"
   ]
  },
  {
   "cell_type": "markdown",
   "metadata": {},
   "source": [
    "* soln: include class attribute `__counter` in descriptor. Use it to generate unique storage name for each descriptor instance.\n",
    "    - increment class counter every time a new descriptor is created\n",
    "    - use hash sign in name to guarantee storage_name will not clash with attributes created by user using dot notation (not valid syntax)\n",
    "* in this case, you need to implement a get, because the name of the managed attribute is not the same as the storage_name.\n",
    "    - syntax: `__get(self, instance, owner)__` - the owner argument is a reference to the managed class. Handy when retrieving managed attribute via the class - then get method receives None as the value for instance argument.\n",
    "* also can now use setattr and getattr on instance because name of storage attribute different than descriptor name - so will not trigger descriptor (thus avoiding infinite recursion)\n",
    "* "
   ]
  },
  {
   "cell_type": "markdown",
   "metadata": {},
   "source": [
    "* Usualy we do not define a descriptor in the same module where it is used, but in a separate utility module designed to be accessed across the applications - even many applications if developing a framework."
   ]
  },
  {
   "cell_type": "markdown",
   "metadata": {},
   "source": [
    "### Property factory vs descriptor\n",
    "* can accomplish pretty much same thing\n",
    "* he prefers descriptors for two reasons:\n",
    "    - descriptror class can be extended by sublcassing\n",
    "    - it is more stratigh forward to hold state in class and instance attribtues than in function and closure ones (asi with counter varaible, and stograge_name)\n",
    "* on the other hand, property factory does not depend in strange object relationships, evidence by descriptor method arguments self, instance, owner."
   ]
  },
  {
   "cell_type": "markdown",
   "metadata": {},
   "source": [
    "# Take 5:\n",
    "* pretty cool desgin: \n",
    "    - have a descriptor class called `Autostorage` that deals with the storing and reading only\n",
    "    - then have a class that inherits from abc.ABC and AutoStorage, called Validated. \n",
    "        * this one has an abstrac method validate, that gets used in an overwritting of `__set__ `\n",
    "    - Then have to instantiations of validate: Quantity and NonBlank, that provide different validations for the descriptors\n",
    "    "
   ]
  },
  {
   "cell_type": "markdown",
   "metadata": {},
   "source": [
    "# Overriding vs Nonoverriding Descriptors\n",
    "* assymetry in handling attributes: reading attribute to instance normally returns attribute defined in instance, but if there is no such attribute in instance, a class attribute will be retrieved. OTOH assigned attribute in instance, normally creates the attribute in instance, without affecting class at all.\n",
    "* This also affects descriptors, and leads to creating two categories of descriptions *overriding* vs *non-overriding*, depending on whether `__set__` method is defined\n",
    "    * a descriptor that implements the `__set__` methods is called an **overriding descriptor** (though usually implement both get and set)\n",
    "        - this will override attempts to set instance attributes\n",
    "        - properties are also overriding descriptors - if you dont provide a setter, the defauls `__set__` from the property will raise AttributeError, to singal that attribute is read-only. \n",
    "        - if only `__set__` implemented, reading descriptor through instance will return descriptor object itself, untill (unless) the namesake instance attribute is created, at which point reading attribute will return the value from the instance.\n",
    "            * in other words, instance attribute will shadow description, but only when reading.\n",
    "     * if not implement set, then it is a **nonoverriding descriptor**.\n",
    "         - setting instance attribute with same name will shadow descriptor, rendering it ineffective for handling that attribute in that specific instance.\n",
    "         - *methods are implemented as nonoverriding descriptors* !!Finally, this is how properties work!!??\n",
    "* overriding descriptors are also sometimes called **data descriptors** or **enforced escriptors** and nonoverriding alled **nondata descriptors** or **shadowable descriptors**\n"
   ]
  },
  {
   "cell_type": "markdown",
   "metadata": {},
   "source": [
    "<font color='red'> are these descriptors dispatched differently? or its just same dispatch, but different behavior due to different implemented methods?</font>\n",
    "    - I think dispatched differently: evidence - write one with a get, and have instance property shadow. What obj.attr does depends on whether irrelevant set method is also written/"
   ]
  },
  {
   "cell_type": "markdown",
   "metadata": {},
   "source": [
    "# overriding descriptors in the Class\n",
    "* regardless of whether desriptor is overriding or not, it can be overwrittedn by assignment to class. \n",
    "    - this is a monkey-patch technique\n",
    "* This is another asymetry: reading of class attribute can be controlled by descriptors `__get__`, but the writing cannot be handled by descriptor's `__set__`"
   ]
  },
  {
   "cell_type": "markdown",
   "metadata": {},
   "source": [
    "# Methods Are (nonoverrdiging) Descriptors\n",
    "* all user defined functions have a `__get__` method. So they act as descriptors when attached to a class.\n",
    "* Accessing the function via obj.func vs class.func return different things\n",
    "    - class.func returns the func itself (accessing get via class)\n",
    "    - obj.func returns a bound method object: a callable that wraps the function and binds the managed instance to the first argument of the function (i.e. currying)\n",
    "    - these have different types: **function** vs **method**\n",
    "* `obj.func` is equivalent to `class.func.__get__(obj)`\n",
    "    - this returns a bound method.\n",
    "    - this bound method has a `__self__` attribute holding a reference to the instance on which the method was called.\n",
    "    - it also contains a `__func__` attribute which is a reference to the original function attached to managed class.\n",
    "    - it also has a `__call__` method which handles the actual invocation. It calls the original function referenced in `__func__`, passing the self attr as the first argument.\n",
    "* the way how functions are turned into bound methods is a prime example of how descriptors are used as infrastructure in the language"
   ]
  },
  {
   "cell_type": "code",
   "execution_count": 35,
   "metadata": {},
   "outputs": [],
   "source": [
    "def myfunc(x):\n",
    "    return 3"
   ]
  },
  {
   "cell_type": "code",
   "execution_count": 37,
   "metadata": {},
   "outputs": [
    {
     "data": {
      "text/plain": [
       "3"
      ]
     },
     "execution_count": 37,
     "metadata": {},
     "output_type": "execute_result"
    }
   ],
   "source": [
    "myfunc(0)"
   ]
  },
  {
   "cell_type": "code",
   "execution_count": 41,
   "metadata": {},
   "outputs": [
    {
     "data": {
      "text/plain": [
       "<bound method myfunc of 4>"
      ]
     },
     "execution_count": 41,
     "metadata": {},
     "output_type": "execute_result"
    }
   ],
   "source": [
    "myfunc.__get__(4)"
   ]
  },
  {
   "cell_type": "code",
   "execution_count": 42,
   "metadata": {},
   "outputs": [
    {
     "data": {
      "text/plain": [
       "<function __main__.myfunc(x)>"
      ]
     },
     "execution_count": 42,
     "metadata": {},
     "output_type": "execute_result"
    }
   ],
   "source": [
    "myfunc"
   ]
  },
  {
   "cell_type": "code",
   "execution_count": null,
   "metadata": {},
   "outputs": [],
   "source": []
  },
  {
   "cell_type": "code",
   "execution_count": 104,
   "metadata": {},
   "outputs": [],
   "source": [
    "class MyClass():\n",
    "    def func(self):\n",
    "        return self\n",
    "        "
   ]
  },
  {
   "cell_type": "code",
   "execution_count": 105,
   "metadata": {},
   "outputs": [],
   "source": [
    "obj = MyClass()"
   ]
  },
  {
   "cell_type": "code",
   "execution_count": 106,
   "metadata": {},
   "outputs": [
    {
     "data": {
      "text/plain": [
       "<bound method MyClass.func of <__main__.MyClass object at 0x0000015CA2006348>>"
      ]
     },
     "execution_count": 106,
     "metadata": {},
     "output_type": "execute_result"
    }
   ],
   "source": [
    "obj.func"
   ]
  },
  {
   "cell_type": "code",
   "execution_count": 107,
   "metadata": {},
   "outputs": [
    {
     "data": {
      "text/plain": [
       "<__main__.MyClass at 0x15ca2006348>"
      ]
     },
     "execution_count": 107,
     "metadata": {},
     "output_type": "execute_result"
    }
   ],
   "source": [
    "obj.func.__self__"
   ]
  },
  {
   "cell_type": "code",
   "execution_count": 108,
   "metadata": {},
   "outputs": [
    {
     "data": {
      "text/plain": [
       "<__main__.MyClass at 0x15ca2006348>"
      ]
     },
     "execution_count": 108,
     "metadata": {},
     "output_type": "execute_result"
    }
   ],
   "source": [
    "obj"
   ]
  },
  {
   "cell_type": "code",
   "execution_count": 109,
   "metadata": {},
   "outputs": [
    {
     "data": {
      "text/plain": [
       "<function __main__.MyClass.func(self)>"
      ]
     },
     "execution_count": 109,
     "metadata": {},
     "output_type": "execute_result"
    }
   ],
   "source": [
    "obj.func.__func__"
   ]
  },
  {
   "cell_type": "code",
   "execution_count": 111,
   "metadata": {},
   "outputs": [],
   "source": [
    "def func2(x):\n",
    "    return (x,x)"
   ]
  },
  {
   "cell_type": "code",
   "execution_count": 112,
   "metadata": {},
   "outputs": [
    {
     "data": {
      "text/plain": [
       "<function __main__.func2(x)>"
      ]
     },
     "execution_count": 112,
     "metadata": {},
     "output_type": "execute_result"
    }
   ],
   "source": [
    "func2"
   ]
  },
  {
   "cell_type": "code",
   "execution_count": 113,
   "metadata": {},
   "outputs": [],
   "source": [
    "obj.func = func2"
   ]
  },
  {
   "cell_type": "code",
   "execution_count": 114,
   "metadata": {},
   "outputs": [
    {
     "data": {
      "text/plain": [
       "<function __main__.func2(x)>"
      ]
     },
     "execution_count": 114,
     "metadata": {},
     "output_type": "execute_result"
    }
   ],
   "source": [
    "obj.func"
   ]
  },
  {
   "cell_type": "code",
   "execution_count": 115,
   "metadata": {},
   "outputs": [
    {
     "data": {
      "text/plain": [
       "(3, 3)"
      ]
     },
     "execution_count": 115,
     "metadata": {},
     "output_type": "execute_result"
    }
   ],
   "source": [
    "obj.func(3)"
   ]
  },
  {
   "cell_type": "code",
   "execution_count": 122,
   "metadata": {},
   "outputs": [
    {
     "data": {
      "text/plain": [
       "(3, 3)"
      ]
     },
     "execution_count": 122,
     "metadata": {},
     "output_type": "execute_result"
    }
   ],
   "source": [
    "obj.func.__get__(3)()"
   ]
  },
  {
   "cell_type": "code",
   "execution_count": 123,
   "metadata": {},
   "outputs": [
    {
     "data": {
      "text/plain": [
       "<function __main__.MyClass.func(self)>"
      ]
     },
     "execution_count": 123,
     "metadata": {},
     "output_type": "execute_result"
    }
   ],
   "source": [
    "MyClass.func"
   ]
  },
  {
   "cell_type": "code",
   "execution_count": 124,
   "metadata": {},
   "outputs": [
    {
     "data": {
      "text/plain": [
       "<function __main__.func2(x)>"
      ]
     },
     "execution_count": 124,
     "metadata": {},
     "output_type": "execute_result"
    }
   ],
   "source": [
    "obj.func"
   ]
  },
  {
   "cell_type": "code",
   "execution_count": 125,
   "metadata": {},
   "outputs": [],
   "source": [
    "del obj.func"
   ]
  },
  {
   "cell_type": "code",
   "execution_count": 126,
   "metadata": {},
   "outputs": [
    {
     "data": {
      "text/plain": [
       "<bound method MyClass.func of <__main__.MyClass object at 0x0000015CA2006348>>"
      ]
     },
     "execution_count": 126,
     "metadata": {},
     "output_type": "execute_result"
    }
   ],
   "source": [
    "obj.func"
   ]
  },
  {
   "cell_type": "markdown",
   "metadata": {},
   "source": [
    "# Descriptor Usage Tips\n",
    "* Use property to keep it simple\n",
    "    * properties are easiest way to create read-only attributes\n",
    "* read-only descriptors require `__set__`\n",
    "    * otherwise namesake attribute will shadow the descriptor\n",
    "    * set method of read-only should raise AttributeError message\n",
    "* Validation descriptors can work with `__set__` only. Speeds up getting.\n",
    "* Caching can be done efficiently with `__get__` only\n",
    "    * non overriding descriptors useful to make some expensive computation and then cache resutl by setting an instance attribute to shadow descriptor. Subsequent access will get from `__dict__` and not trigger `__get__` anymore.\n",
    "* Nonspecial methods can be shadowed by instance attributes\n",
    "    * special methods cant be shadowed, because the interpreter only looks for special methods in the class itself. That is repr(x) is executed as `x.__class__.__repr__(x)`. So a repr attribute in x has no effect on it."
   ]
  },
  {
   "cell_type": "markdown",
   "metadata": {},
   "source": [
    "# Other\n",
    "* docstring of a descriptor class is used to document every instance of the descriptor in the managed class.\n",
    "    - this is somewhat unsatisfactory because same descriptor might be used for different managed attributes (as opposed to properties, where each one gets its own setter and getter)"
   ]
  },
  {
   "cell_type": "code",
   "execution_count": null,
   "metadata": {},
   "outputs": [],
   "source": []
  }
 ],
 "metadata": {
  "kernelspec": {
   "display_name": "Python 3",
   "language": "python",
   "name": "python3"
  },
  "language_info": {
   "codemirror_mode": {
    "name": "ipython",
    "version": 3
   },
   "file_extension": ".py",
   "mimetype": "text/x-python",
   "name": "python",
   "nbconvert_exporter": "python",
   "pygments_lexer": "ipython3",
   "version": "3.7.6"
  }
 },
 "nbformat": 4,
 "nbformat_minor": 4
}
