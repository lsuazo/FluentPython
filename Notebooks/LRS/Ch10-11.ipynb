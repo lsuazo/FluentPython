{
 "cells": [
  {
   "cell_type": "markdown",
   "metadata": {},
   "source": [
    "# CH 10-11"
   ]
  },
  {
   "cell_type": "markdown",
   "metadata": {},
   "source": [
    "## TOC<a id='toc'></a>\n",
    "* [Ch10 Notes](#ch10_notes)\n",
    "* [Ch11 Notes](#ch11_notes)"
   ]
  },
  {
   "cell_type": "markdown",
   "metadata": {},
   "source": [
    "### CH10 Notes <a id='ch10_notes'></a>\n",
    "[toc](#toc)"
   ]
  },
  {
   "cell_type": "markdown",
   "metadata": {},
   "source": [
    "### Protocols and Duck Typing\n",
    "* In the context of object oriented programing, a **protocol** is an informal interface, defined only in the documentation and not in the code.\n",
    "* duck typing: \"Dont check whether it *is*-a duck: check whether it *quacks*-like-a duck, *walks*-like-a-duck, etc, etc, depending on exactly what subset of duck-like bahavior you need\""
   ]
  },
  {
   "cell_type": "markdown",
   "metadata": {},
   "source": [
    "### Slicing\n",
    "* `obj[1:2:4,9]`  means `__getitem__` receives tuple `(Slice(1,2,4), 9)`\n",
    "* Nice functionality of Slice: `slice(-3, None, None).indices(5)` --> `(2,5,1)`  -- it translates to *real* index values"
   ]
  },
  {
   "cell_type": "markdown",
   "metadata": {},
   "source": [
    "<br>\n",
    "<hr>\n",
    "<font color=blue> Design hints: Excecive use of `isinstance` if otfen a sign of bad )) design, though sometimes it is justified. In these cases, it is preferable to check against Abstract Base Clases to make API more flexible and future proof. </font>\n",
    "<br>\n",
    "<hr>"
   ]
  },
  {
   "cell_type": "markdown",
   "metadata": {},
   "source": [
    "### Dynamic access\n",
    "* `__getattr__` method invoked bt interpreter when attribute ookup fails.\n",
    "    - when `my_0bj.x` python looks to see if `my_obj` instance has x, if not, look at class, if not look at superclasses, if not, call `__getattr__(self, 'x')`\n",
    "    - it is actually a little more complicated than this; more on this in  a later chapter\n",
    "* `__setattr__` - what is called when doing `my_obj.x = <val>`.\n",
    "    - can use it to disable the setting of some attributes\n",
    "    - often used in tandem with getattr above, because of logic chain of how it is called.\n",
    "    - this is even called in `__init__`\n",
    "* similarly `__getitem__` has counterpart `__setitem__`"
   ]
  },
  {
   "cell_type": "code",
   "execution_count": 3,
   "metadata": {},
   "outputs": [],
   "source": [
    "class myClass:\n",
    "    def __init__(self,x,y):\n",
    "        self.x = x\n",
    "        self.y = y"
   ]
  },
  {
   "cell_type": "code",
   "execution_count": 4,
   "metadata": {},
   "outputs": [],
   "source": [
    "myObj = myClass(1,2)"
   ]
  },
  {
   "cell_type": "code",
   "execution_count": 6,
   "metadata": {},
   "outputs": [
    {
     "data": {
      "text/plain": [
       "1"
      ]
     },
     "execution_count": 6,
     "metadata": {},
     "output_type": "execute_result"
    }
   ],
   "source": [
    "myObj.x"
   ]
  },
  {
   "cell_type": "code",
   "execution_count": 7,
   "metadata": {},
   "outputs": [],
   "source": [
    "myObj.x = 5"
   ]
  },
  {
   "cell_type": "code",
   "execution_count": 8,
   "metadata": {},
   "outputs": [
    {
     "data": {
      "text/plain": [
       "5"
      ]
     },
     "execution_count": 8,
     "metadata": {},
     "output_type": "execute_result"
    }
   ],
   "source": [
    "myObj.x"
   ]
  },
  {
   "cell_type": "code",
   "execution_count": 9,
   "metadata": {},
   "outputs": [],
   "source": [
    "myObj.z = 10"
   ]
  },
  {
   "cell_type": "code",
   "execution_count": 10,
   "metadata": {},
   "outputs": [
    {
     "data": {
      "text/plain": [
       "dict_keys(['x', 'y', 'z'])"
      ]
     },
     "execution_count": 10,
     "metadata": {},
     "output_type": "execute_result"
    }
   ],
   "source": [
    "myObj.__dict__.keys()"
   ]
  },
  {
   "cell_type": "code",
   "execution_count": 11,
   "metadata": {},
   "outputs": [],
   "source": [
    "class myClass2:\n",
    "    def __init__(self,x,y):\n",
    "        self.x = x\n",
    "        self.y = y\n",
    "        \n",
    "    def __setattr__(self, name, value):\n",
    "        print('Denied')"
   ]
  },
  {
   "cell_type": "code",
   "execution_count": 12,
   "metadata": {},
   "outputs": [
    {
     "name": "stdout",
     "output_type": "stream",
     "text": [
      "Denied\n",
      "Denied\n"
     ]
    }
   ],
   "source": [
    "myObj2 = myClass2(1,2)"
   ]
  },
  {
   "cell_type": "code",
   "execution_count": 14,
   "metadata": {},
   "outputs": [
    {
     "data": {
      "text/plain": [
       "dict_keys([])"
      ]
     },
     "execution_count": 14,
     "metadata": {},
     "output_type": "execute_result"
    }
   ],
   "source": [
    "myObj2.__dict__.keys()"
   ]
  },
  {
   "cell_type": "markdown",
   "metadata": {},
   "source": [
    "### CH11 Notes <a id='ch11_notes'></a>\n",
    "[toc](#toc)"
   ]
  },
  {
   "cell_type": "markdown",
   "metadata": {},
   "source": [
    "### Interfaces and Protocols in Python Culture\n",
    "* protcols ~ informal interfaces that make polymorphism work in languages with dynamic typing\n",
    "    - independent of inheritance. A class may implement several protocols\n",
    "* a useful definition of an interface is: the subset of an objects public methods that enable it to play a specific role in the system\n",
    "* The philosophy of the python data model is to cooperate with essential protocols as much as possible\n",
    "    - in particular for sequences; iter and contains fall back on `__getitem__`\n",
    "* **Monkey Patching**: Changing a class of module at runtime, without touching the source code\n",
    "    - can monkey patch to implement protocol, and onjects/functions that expect protocol won't know the difference [protocols are dynamic]"
   ]
  },
  {
   "cell_type": "markdown",
   "metadata": {},
   "source": [
    "#### Alex Martelli: Waterfowl and ABCs\n",
    "* in python, duck typing boils down to avoiding the use of `isinstance` (not to mention the worse approach of checking `type(foo) is bar` because this inhibits even simplest forms of inheritance)\n",
    "* recomends supplementing *duck typing* with *goose typin*, which means using `isinstance(obj, cls)` is now just fune, as long as `cls` is ab abstract based class.\n",
    "    - in other words, cls's metaclass is `abc.ABCMeta`\n",
    "* Most often, you do not need to define your own ABCs\n",
    "    - less than 1% of the \"most advanced pythonistas\" ever need to do this\n",
    "* VIP: Inherting from an ABC is more than implementing the required methods: it's also a clear declaration of intent by the developer."
   ]
  },
  {
   "cell_type": "markdown",
   "metadata": {},
   "source": [
    "<br>\n",
    "<hr>\n",
    "Only real justification to write one - use it as an extension point in a framework\n",
    "<hr>\n",
    "<br>"
   ]
  },
  {
   "cell_type": "markdown",
   "metadata": {},
   "source": [
    "* Doug Hellman (from PyMOTW):\n",
    "    - \"By defining an abstract base class, a common API can be established for a set of subclasses. This capability is especially useful in situations where someone less familar with the source for an application is going to provide plug-in extensions...\"\n",
    "* David Beazly and Brian Jones (Python Cookbook)\n",
    "    - \"Although ABCs facilitate type checking, it's not something that you shoulf overuse in a program. At its heart, Python is a dynamic language that gives you great flexibility. Trying to enforce type constraints everywhere tends to result in code that is more complicated than it needs to be. You should embrace Python's flexibility.\"\n",
    "* Leonardo Rochael (technical reviewer)\n",
    "    - \"If you feel tempted to create a custom ABC, please first try to solve your problem through regular duck typing\""
   ]
  },
  {
   "cell_type": "markdown",
   "metadata": {},
   "source": [
    "* Claim: Even with abcs, too many if/elif/else block with insinstance checks still smells bad.\n",
    "    - you should use polymorphism better - design code so that interpreted dispatches appropriate method.\n",
    "* OTOH, it is usually OK to perform insinstance check against an ABC if you must enforce an API contract.\n",
    "* Outside of frameworks, duck typing is often simpler and more felxible thatn type checks.\n",
    "    - use it like a duck and if it fails, there is your check.\n",
    "* Again from Alex:  \"ABCs are meant to encapsulte very general concepts, abstractions, introduced by a framework - things like \"a sequence\" and \"an exact number\". [Readers] most likely don't need to write any new ABCs. just existing ones correctly, to get 99.9% of the benefits without serious risk of misdesign."
   ]
  },
  {
   "cell_type": "markdown",
   "metadata": {},
   "source": [
    "### Sublcassing ABCs\n",
    "* many useful abstract classes exist in `collections.abc` \n",
    "    - also in the `numbers` and `io` packages (and others)\n",
    "* Python does not check for implementation of abstract methods at import time, only when you try to instantiate and object.\n",
    "* When inheriting from ABCs, you typically has a set of abstract methods you must implement (more or less the public interface of the class) and often also inherit some ready-to-use concrete methods implemented in terms of aforementioned abstract methods.\n",
    "* 16 abcs in collections.abc\n",
    "    - top level: `Iterable`, `Container`, `Sized`, `Callable`, `Hashable`\n",
    "    - 2nd level: `Iterator`, `Sequence`, `Mapping`, `Set`, `MappingView`\n",
    "    - bottom levl: `MutableSequence`, `MutableMapping`, `MutableSet`, `ItemsView`, `ValueView`, `KeysView`\n",
    "* abcs in `numbers`\n",
    "    - In order of inheritance (first is topmost super): `Number` <- `Complex` <- `Real` <- `Rational` <- `Integer`"
   ]
  },
  {
   "cell_type": "markdown",
   "metadata": {},
   "source": [
    "<br>\n",
    "<hr>\n",
    "Much of the power of ABCs it to create concrete methods based on public interface, that are inherited by any class that inherits from abc\n",
    "<hr>\n",
    "<br>"
   ]
  },
  {
   "cell_type": "markdown",
   "metadata": {},
   "source": [
    "### Defining and Using an ABC\n",
    "* define ABC by sublcassing `abc.ABC`\n",
    "    - in older python this class not available, so had to use `metaclass=abc.ABCMeta`\n",
    "    - and even older, where metclass not avaialble, had to set `__metaclass__` class attribute\n",
    "* abstract methods are decorated by `@abstractmethod` and are typically empty except for docstring\n",
    "    - this can instruct general behaviors, like which errors to raise in which cases\n",
    "    - abstract method can actually have an implementation - sublcasses will still be forced to implement, but they can access abc implementation via super()\n",
    "* also have `@abstractclassmethod`, `@abstractstaticmethod`, `@abstractproperty`\n",
    "    - deprecated since python 3.3 in favor of stacking decorators\n",
    "    - abstractmethod decorator must be aplied as innermost decorator\n",
    "* Before abc existed, abstract methods used `NotImplementedError` to signal subclass was responsible for implementation\n",
    "* sometimes the concrete methods reliance on public interface can be very expensive, so it behooves us to overrride\n",
    "    - think of it as providing a backup"
   ]
  },
  {
   "cell_type": "markdown",
   "metadata": {},
   "source": [
    "common idiom:\n",
    "```\n",
    "def __init__(self, iterable):\n",
    "    self._balls = list(iterable)\n",
    "```\n",
    "* can pass any iterable\n",
    "* can use list methods\n",
    "* makes a copy not just a reference map"
   ]
  },
  {
   "cell_type": "markdown",
   "metadata": {},
   "source": [
    "* crucial dynamic feature of goose typing: declaring virtual subclasses with the `register` method.\n",
    "    - can register a class as a **virtual subclass** of an ABC, even if it doesnt in herit from it\n",
    "    - when doing so, we promise that the calss faithfully implements the interface defined byt the ABC, and python believes us without checking; if we lie, we get caught by runtime exceptions.\n",
    "    - benefit is that the virtual subclass will be recognized by `issubclass` and `isinstance` but WILL NOT INHERIT ANY METHODS OR ATTRIBUTES\n",
    "* <font color='red'> Why not just inherit? </font>\n",
    "* usage: decorate class with `@<abc_class_name>.register`\n",
    "    - can also use as a regular function\n",
    "    - this is actually how it is done most often - ie in collections.abc module source code\n",
    "    ` Sequence.register(tuple)`"
   ]
  },
  {
   "cell_type": "markdown",
   "metadata": {},
   "source": [
    "cool approach:\n",
    "``` \n",
    "class TomoboList(list):\n",
    "    def pick(self):\n",
    "    ....\n",
    "    \n",
    "    \n",
    "    load = list.extend\n",
    "    \n",
    "    def loaded(self):\n",
    "    ...\n",
    "```\n",
    "\n",
    "load was defined without a def keyword"
   ]
  },
  {
   "cell_type": "markdown",
   "metadata": {},
   "source": [
    "### hierarchy introspection\n",
    "* two class attributes that allow introspection of a class hierarchy\n",
    "    - `__subclasses__()` - returns list of immediate subclasses (not including virtual subclasses)\n",
    "           * only lists descendants alive in memory (i.e they must be loaded)\n",
    "    - `_abc_registry` -  data attribute, available only in ABCs. Bound to a WeakSet, with weak references to registered virtual subclasses."
   ]
  },
  {
   "cell_type": "markdown",
   "metadata": {},
   "source": [
    "Some ABCs have a `__subclasshook__(cls, C)` method that will recoginize another class as a virtual subclass even without having been declared as such - it does this by checking for special methods being defined."
   ]
  },
  {
   "cell_type": "markdown",
   "metadata": {},
   "source": [
    "### typed?\n",
    "* srong vs weak typed:\n",
    "    - python is strong typed (not a lot of implicit conversion of types)\n",
    "* static vs dynamic typed:\n",
    "    - python is dynamic typed - no type checking performed at compile time -all at runtime."
   ]
  },
  {
   "cell_type": "code",
   "execution_count": null,
   "metadata": {},
   "outputs": [],
   "source": []
  }
 ],
 "metadata": {
  "kernelspec": {
   "display_name": "Python 3",
   "language": "python",
   "name": "python3"
  },
  "language_info": {
   "codemirror_mode": {
    "name": "ipython",
    "version": 3
   },
   "file_extension": ".py",
   "mimetype": "text/x-python",
   "name": "python",
   "nbconvert_exporter": "python",
   "pygments_lexer": "ipython3",
   "version": "3.7.6"
  }
 },
 "nbformat": 4,
 "nbformat_minor": 2
}
