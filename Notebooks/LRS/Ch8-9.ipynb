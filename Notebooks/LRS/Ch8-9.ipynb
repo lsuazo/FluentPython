{
 "cells": [
  {
   "cell_type": "markdown",
   "metadata": {},
   "source": [
    "# CH 8-9"
   ]
  },
  {
   "cell_type": "markdown",
   "metadata": {},
   "source": [
    "## TOC<a id='toc'></a>\n",
    "* [Ch8 Notes](#ch8_notes)\n",
    "* [Ch9 Notes](#ch9_notes)"
   ]
  },
  {
   "cell_type": "markdown",
   "metadata": {},
   "source": [
    "### CH8 Notes <a id='ch8_notes'></a>\n",
    "[toc](#toc)"
   ]
  },
  {
   "cell_type": "markdown",
   "metadata": {},
   "source": [
    "## Variables are not boxes\n",
    "* think of variables as labels to objects - more like sticky notes than boxes\n",
    "    - basically they are all references\n",
    "* Every object has an identity, a type, and a value\n",
    "    - identity never changes once it is created\n",
    "    - the `is` operator compares identity of two objects\n",
    "    - the `id()` function returns an integer representing the identiy\n",
    "    - in CPython, `id()` returns the memory address of object (but this is implementation specific)\n",
    "* in contrast `==` is used to compare the values of objects\n",
    "    - `a == b` is syntactic sugar for `a.__eq__(b)`\n",
    "    - it can be overloaded, and complicated\n",
    "    - the one inherited from `object` compares ids\n",
    "    - most builtins override `__eq__`\n",
    "    - `is` operator cannot be overloaded\n",
    "        * this makes it faster because python does not have to find and invoke special methods, and it basically integer comparison\n",
    "        * so if it is what is needed, use it over ==\n",
    "    - if comparing variable to singleton, better to use `is`\n",
    "        * ex: `x is None`"
   ]
  },
  {
   "cell_type": "markdown",
   "metadata": {},
   "source": [
    "## Deep vs Shallow\n",
    "* tuples immutable in a shallow sense - the references theire cannot change. But the object they refer to can, if they are mutable.\n",
    "* copies are shallow by default\n",
    "* easiest way to copy most built-in mutable collections is to use the built-in constructor for the type itself\n",
    "    - `l2 = list(l1)`\n",
    "    - for list, shortcut `l1 = l2[:]`\n",
    "    - this produces shallow copy\n",
    "* `copy` module provides `copy()` and `deepcopy()`\n",
    "* making a deep copy is not a simple matter in the general case. Objects may have cyclical dependencies.\n",
    "    - `deepcopy` function remembers the objects already copied to handle cyclica references gracefully.\n",
    "    - you can control the behavior of copy and deepcopy by implementing `__copy__` and `__deepcopy__` special methods"
   ]
  },
  {
   "cell_type": "code",
   "execution_count": 15,
   "metadata": {},
   "outputs": [],
   "source": [
    "a = [10, 20]\n",
    "b = [a, 30]\n",
    "a.append(b)"
   ]
  },
  {
   "cell_type": "code",
   "execution_count": 16,
   "metadata": {},
   "outputs": [
    {
     "data": {
      "text/plain": [
       "[10, 20, [[...], 30]]"
      ]
     },
     "execution_count": 16,
     "metadata": {},
     "output_type": "execute_result"
    }
   ],
   "source": [
    "a"
   ]
  },
  {
   "cell_type": "code",
   "execution_count": 17,
   "metadata": {},
   "outputs": [
    {
     "data": {
      "text/plain": [
       "[[10, 20, [...]], 30]"
      ]
     },
     "execution_count": 17,
     "metadata": {},
     "output_type": "execute_result"
    }
   ],
   "source": [
    "b"
   ]
  },
  {
   "cell_type": "code",
   "execution_count": 18,
   "metadata": {},
   "outputs": [],
   "source": [
    "from copy import deepcopy"
   ]
  },
  {
   "cell_type": "code",
   "execution_count": 19,
   "metadata": {},
   "outputs": [],
   "source": [
    "c = deepcopy(a)"
   ]
  },
  {
   "cell_type": "code",
   "execution_count": 20,
   "metadata": {},
   "outputs": [
    {
     "data": {
      "text/plain": [
       "[10, 20, [[...], 30]]"
      ]
     },
     "execution_count": 20,
     "metadata": {},
     "output_type": "execute_result"
    }
   ],
   "source": [
    "c"
   ]
  },
  {
   "cell_type": "code",
   "execution_count": 23,
   "metadata": {},
   "outputs": [
    {
     "data": {
      "text/plain": [
       "(1441717222024, 1441699697288, 1441717222024)"
      ]
     },
     "execution_count": 23,
     "metadata": {},
     "output_type": "execute_result"
    }
   ],
   "source": [
    "id(a), id(a[2]), id(a[2][0])"
   ]
  },
  {
   "cell_type": "code",
   "execution_count": 27,
   "metadata": {},
   "outputs": [
    {
     "data": {
      "text/plain": [
       "(1441699697288, 1441717222024, 1441699697288)"
      ]
     },
     "execution_count": 27,
     "metadata": {},
     "output_type": "execute_result"
    }
   ],
   "source": [
    "id(b), id(b[0]), id(b[0][2])"
   ]
  },
  {
   "cell_type": "code",
   "execution_count": 29,
   "metadata": {},
   "outputs": [
    {
     "data": {
      "text/plain": [
       "(1441717202824, 1441717222408, 1441717202824)"
      ]
     },
     "execution_count": 29,
     "metadata": {},
     "output_type": "execute_result"
    }
   ],
   "source": [
    "id(c), id(c[2]), id(c[2][0])"
   ]
  },
  {
   "cell_type": "markdown",
   "metadata": {},
   "source": [
    "## Function parameters\n",
    "* python is a **pass by sharing** language\n",
    "    - means each formal parameter of the function gets a copy of each reference in the arguments (i.e. parameters inside function become aliases for the actual arguments)\n",
    "        - same in most OO languages\n",
    "    - implies function may change any mutable objects passed as a parameter, but it cannot change the identity of those objects (i.e. cannot replace the object with another)"
   ]
  },
  {
   "cell_type": "code",
   "execution_count": 30,
   "metadata": {},
   "outputs": [],
   "source": [
    "def f1(a,b):\n",
    "    a += b\n",
    "    return a\n",
    "\n",
    "def f2(a,b):\n",
    "    a = a + b\n",
    "    return a"
   ]
  },
  {
   "cell_type": "code",
   "execution_count": 32,
   "metadata": {},
   "outputs": [
    {
     "data": {
      "text/plain": [
       "[1, 2, 3, 4]"
      ]
     },
     "execution_count": 32,
     "metadata": {},
     "output_type": "execute_result"
    }
   ],
   "source": [
    "x = [1,2]\n",
    "y  = [3,4]\n",
    "f1(x,y)"
   ]
  },
  {
   "cell_type": "code",
   "execution_count": 33,
   "metadata": {},
   "outputs": [
    {
     "data": {
      "text/plain": [
       "[1, 2, 3, 4]"
      ]
     },
     "execution_count": 33,
     "metadata": {},
     "output_type": "execute_result"
    }
   ],
   "source": [
    "x"
   ]
  },
  {
   "cell_type": "code",
   "execution_count": 34,
   "metadata": {},
   "outputs": [
    {
     "data": {
      "text/plain": [
       "[1, 2, 3, 4]"
      ]
     },
     "execution_count": 34,
     "metadata": {},
     "output_type": "execute_result"
    }
   ],
   "source": [
    "x = [1,2]\n",
    "y  = [3,4]\n",
    "f2(x,y)"
   ]
  },
  {
   "cell_type": "code",
   "execution_count": 35,
   "metadata": {},
   "outputs": [
    {
     "data": {
      "text/plain": [
       "[1, 2]"
      ]
     },
     "execution_count": 35,
     "metadata": {},
     "output_type": "execute_result"
    }
   ],
   "source": [
    "x"
   ]
  },
  {
   "cell_type": "markdown",
   "metadata": {},
   "source": [
    "<br>\n",
    "<hr>\n",
    "<font color=blue> Note difference between `__add__` and `__iadd__` </font>\n",
    "<br>\n",
    "<hr>"
   ]
  },
  {
   "cell_type": "markdown",
   "metadata": {},
   "source": [
    "**Don't use mutable types as parameter defaults!**\n",
    "* default is stored with function, and chages reflected accross different uses of function.\n",
    "* each default parameter is evaluated when the function is defined (usually at module load)\n",
    "    - look into `<myFunc>.__defaults__`"
   ]
  },
  {
   "cell_type": "markdown",
   "metadata": {},
   "source": [
    "* also consider carefully how to handle mutating arguments. Use **the principle of least astonishment**\n",
    "    - (I think you usually add an underscore at the end of method name to indicate that it mutates parms)"
   ]
  },
  {
   "cell_type": "markdown",
   "metadata": {},
   "source": [
    "## del and garbage collection\n",
    "* `del` deletes names, not objects\n",
    "* Garbage collector deletes objects when there are not more references pointing to object\n",
    "    - or if object is unreachable (as the case in reference cycles)\n",
    "    - in CPython, the primary algorithm for garbage collection is refernce counting\n",
    "* `__del__` does not cause disposal of instance. Rather it is a special method the python interpreter calls when the instance is about to be destroyed.\n",
    "    - typically used to release external resources."
   ]
  },
  {
   "cell_type": "markdown",
   "metadata": {},
   "source": [
    "## Weak References\n",
    "* a weak reference to an object is a reference that does not increase its reference count\n",
    "    - thus it does not prevent it from being garbage collected\n",
    "* careful with unexpected references, like `_` in console sessions, temp vars in loops, and tracebacks\n",
    "* can use as `wref =  weakref.ref(myobj)` and then call it as `wref()` to return object or None if it is gone\n",
    "* generally use of weakref.ref is discouraged (too lowe level and complicated) in favor of weakreft collections and finalize.\n",
    "    * `WeakValueDictionary` holds weakrefs as values - key deleted when value gets garbage collected\n",
    "    * `WewakKeyDictionary` holdsa weakrefs as keys - can be used to associate additional data to object\n",
    "    * `WeakSet`\n",
    "* limitations of weak references\n",
    "    - plain list and dict may not be referrents; sets and user defined can be\n",
    "    - can trivial subclass list, and then it can be a referrent\n",
    "    - most limitations result from optimizations done in the implementation of CPython\n",
    "    - one weird exmaple of this:"
   ]
  },
  {
   "cell_type": "code",
   "execution_count": 1,
   "metadata": {},
   "outputs": [
    {
     "data": {
      "text/plain": [
       "True"
      ]
     },
     "execution_count": 1,
     "metadata": {},
     "output_type": "execute_result"
    }
   ],
   "source": [
    "fs = frozenset([1,2,3])\n",
    "fs2 = fs.copy()\n",
    "fs is fs2"
   ]
  },
  {
   "cell_type": "code",
   "execution_count": 2,
   "metadata": {},
   "outputs": [
    {
     "data": {
      "text/plain": [
       "True"
      ]
     },
     "execution_count": 2,
     "metadata": {},
     "output_type": "execute_result"
    }
   ],
   "source": [
    "s1 = 'ABC'\n",
    "s2 = 'ABC'\n",
    "s1 is s2"
   ]
  },
  {
   "cell_type": "markdown",
   "metadata": {},
   "source": [
    "The above ius an example of **interning** - cpython optimization"
   ]
  },
  {
   "cell_type": "markdown",
   "metadata": {},
   "source": [
    "### CH9 Notes <a id='ch9_notes'></a>\n",
    "[toc](#toc)"
   ]
  }
 ],
 "metadata": {
  "kernelspec": {
   "display_name": "Python [conda env:Anaconda3]",
   "language": "python",
   "name": "conda-env-Anaconda3-py"
  },
  "language_info": {
   "codemirror_mode": {
    "name": "ipython",
    "version": 3
   },
   "file_extension": ".py",
   "mimetype": "text/x-python",
   "name": "python",
   "nbconvert_exporter": "python",
   "pygments_lexer": "ipython3",
   "version": "3.5.6"
  }
 },
 "nbformat": 4,
 "nbformat_minor": 2
}
